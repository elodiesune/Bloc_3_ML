{
 "cells": [
  {
   "cell_type": "markdown",
   "metadata": {},
   "source": [
    "# Necessary libraries"
   ]
  },
  {
   "cell_type": "code",
   "execution_count": 1,
   "metadata": {},
   "outputs": [],
   "source": [
    "import pandas as pd\n",
    "import numpy as np\n",
    "\n",
    "import plotly.express as px\n",
    "import plotly.graph_objects as go\n",
    "from plotly.subplots import make_subplots\n",
    "import plotly.figure_factory as ff\n",
    "import plotly.subplots as sp\n",
    "import matplotlib.pyplot as plt\n",
    "\n",
    "from sklearn.pipeline import Pipeline\n",
    "from sklearn.impute import SimpleImputer\n",
    "from sklearn.metrics.pairwise import haversine_distances\n",
    "from math import radians\n",
    "from sklearn.preprocessing import  OneHotEncoder, StandardScaler, LabelEncoder\n",
    "from sklearn.compose import ColumnTransformer\n",
    "from sklearn.cluster import KMeans,DBSCAN\n",
    "from sklearn.metrics import silhouette_score\n"
   ]
  },
  {
   "cell_type": "markdown",
   "metadata": {},
   "source": [
    "# EDA on April 2014"
   ]
  },
  {
   "cell_type": "code",
   "execution_count": 2,
   "metadata": {},
   "outputs": [
    {
     "data": {
      "text/plain": [
       "(564516, 4)"
      ]
     },
     "execution_count": 2,
     "metadata": {},
     "output_type": "execute_result"
    }
   ],
   "source": [
    "avril = pd.read_csv('data/uber-raw-data-apr14.csv')\n",
    "avril.shape\n",
    "# Huge amount of data, will need to reduce dataset later"
   ]
  },
  {
   "cell_type": "code",
   "execution_count": 3,
   "metadata": {},
   "outputs": [
    {
     "data": {
      "text/html": [
       "<div>\n",
       "<style scoped>\n",
       "    .dataframe tbody tr th:only-of-type {\n",
       "        vertical-align: middle;\n",
       "    }\n",
       "\n",
       "    .dataframe tbody tr th {\n",
       "        vertical-align: top;\n",
       "    }\n",
       "\n",
       "    .dataframe thead th {\n",
       "        text-align: right;\n",
       "    }\n",
       "</style>\n",
       "<table border=\"1\" class=\"dataframe\">\n",
       "  <thead>\n",
       "    <tr style=\"text-align: right;\">\n",
       "      <th></th>\n",
       "      <th>Date/Time</th>\n",
       "      <th>Lat</th>\n",
       "      <th>Lon</th>\n",
       "      <th>Base</th>\n",
       "    </tr>\n",
       "  </thead>\n",
       "  <tbody>\n",
       "    <tr>\n",
       "      <th>0</th>\n",
       "      <td>4/1/2014 0:11:00</td>\n",
       "      <td>40.7690</td>\n",
       "      <td>-73.9549</td>\n",
       "      <td>B02512</td>\n",
       "    </tr>\n",
       "    <tr>\n",
       "      <th>1</th>\n",
       "      <td>4/1/2014 0:17:00</td>\n",
       "      <td>40.7267</td>\n",
       "      <td>-74.0345</td>\n",
       "      <td>B02512</td>\n",
       "    </tr>\n",
       "    <tr>\n",
       "      <th>2</th>\n",
       "      <td>4/1/2014 0:21:00</td>\n",
       "      <td>40.7316</td>\n",
       "      <td>-73.9873</td>\n",
       "      <td>B02512</td>\n",
       "    </tr>\n",
       "    <tr>\n",
       "      <th>3</th>\n",
       "      <td>4/1/2014 0:28:00</td>\n",
       "      <td>40.7588</td>\n",
       "      <td>-73.9776</td>\n",
       "      <td>B02512</td>\n",
       "    </tr>\n",
       "    <tr>\n",
       "      <th>4</th>\n",
       "      <td>4/1/2014 0:33:00</td>\n",
       "      <td>40.7594</td>\n",
       "      <td>-73.9722</td>\n",
       "      <td>B02512</td>\n",
       "    </tr>\n",
       "  </tbody>\n",
       "</table>\n",
       "</div>"
      ],
      "text/plain": [
       "          Date/Time      Lat      Lon    Base\n",
       "0  4/1/2014 0:11:00  40.7690 -73.9549  B02512\n",
       "1  4/1/2014 0:17:00  40.7267 -74.0345  B02512\n",
       "2  4/1/2014 0:21:00  40.7316 -73.9873  B02512\n",
       "3  4/1/2014 0:28:00  40.7588 -73.9776  B02512\n",
       "4  4/1/2014 0:33:00  40.7594 -73.9722  B02512"
      ]
     },
     "execution_count": 3,
     "metadata": {},
     "output_type": "execute_result"
    }
   ],
   "source": [
    "avril.head()"
   ]
  },
  {
   "cell_type": "code",
   "execution_count": 4,
   "metadata": {},
   "outputs": [],
   "source": [
    "# Convert time into day of the week and hour\n",
    "avril['Date'] =  pd.to_datetime(avril['Date/Time'])\n",
    "avril['Day_of_week'] = avril.Date.dt.day_name()\n",
    "avril['Hour'] = avril.Date.dt.hour\n",
    "# Remove original datetime and useless column Base\n",
    "avril = avril.drop(columns=['Date/Time','Date','Base'])\n",
    "avril.head()\n",
    "# Create column for visualization\n",
    "avril['Type'] = avril['Day_of_week'].apply(lambda x: 'Friday' if x == 'Friday' else 'Saturday' if x == 'Saturday' else 'Sunday' if x == 'Sunday' else 'Weekday')"
   ]
  },
  {
   "cell_type": "code",
   "execution_count": 5,
   "metadata": {},
   "outputs": [
    {
     "data": {
      "text/html": [
       "<div>\n",
       "<style scoped>\n",
       "    .dataframe tbody tr th:only-of-type {\n",
       "        vertical-align: middle;\n",
       "    }\n",
       "\n",
       "    .dataframe tbody tr th {\n",
       "        vertical-align: top;\n",
       "    }\n",
       "\n",
       "    .dataframe thead th {\n",
       "        text-align: right;\n",
       "    }\n",
       "</style>\n",
       "<table border=\"1\" class=\"dataframe\">\n",
       "  <thead>\n",
       "    <tr style=\"text-align: right;\">\n",
       "      <th></th>\n",
       "      <th>Lat</th>\n",
       "      <th>Lon</th>\n",
       "      <th>Day_of_week</th>\n",
       "      <th>Hour</th>\n",
       "      <th>Type</th>\n",
       "    </tr>\n",
       "  </thead>\n",
       "  <tbody>\n",
       "    <tr>\n",
       "      <th>0</th>\n",
       "      <td>40.7690</td>\n",
       "      <td>-73.9549</td>\n",
       "      <td>Tuesday</td>\n",
       "      <td>0</td>\n",
       "      <td>Weekday</td>\n",
       "    </tr>\n",
       "    <tr>\n",
       "      <th>1</th>\n",
       "      <td>40.7267</td>\n",
       "      <td>-74.0345</td>\n",
       "      <td>Tuesday</td>\n",
       "      <td>0</td>\n",
       "      <td>Weekday</td>\n",
       "    </tr>\n",
       "    <tr>\n",
       "      <th>2</th>\n",
       "      <td>40.7316</td>\n",
       "      <td>-73.9873</td>\n",
       "      <td>Tuesday</td>\n",
       "      <td>0</td>\n",
       "      <td>Weekday</td>\n",
       "    </tr>\n",
       "    <tr>\n",
       "      <th>3</th>\n",
       "      <td>40.7588</td>\n",
       "      <td>-73.9776</td>\n",
       "      <td>Tuesday</td>\n",
       "      <td>0</td>\n",
       "      <td>Weekday</td>\n",
       "    </tr>\n",
       "    <tr>\n",
       "      <th>4</th>\n",
       "      <td>40.7594</td>\n",
       "      <td>-73.9722</td>\n",
       "      <td>Tuesday</td>\n",
       "      <td>0</td>\n",
       "      <td>Weekday</td>\n",
       "    </tr>\n",
       "  </tbody>\n",
       "</table>\n",
       "</div>"
      ],
      "text/plain": [
       "       Lat      Lon Day_of_week  Hour     Type\n",
       "0  40.7690 -73.9549     Tuesday     0  Weekday\n",
       "1  40.7267 -74.0345     Tuesday     0  Weekday\n",
       "2  40.7316 -73.9873     Tuesday     0  Weekday\n",
       "3  40.7588 -73.9776     Tuesday     0  Weekday\n",
       "4  40.7594 -73.9722     Tuesday     0  Weekday"
      ]
     },
     "execution_count": 5,
     "metadata": {},
     "output_type": "execute_result"
    }
   ],
   "source": [
    "avril.head()"
   ]
  },
  {
   "cell_type": "code",
   "execution_count": 6,
   "metadata": {},
   "outputs": [
    {
     "data": {
      "text/html": [
       "<div>\n",
       "<style scoped>\n",
       "    .dataframe tbody tr th:only-of-type {\n",
       "        vertical-align: middle;\n",
       "    }\n",
       "\n",
       "    .dataframe tbody tr th {\n",
       "        vertical-align: top;\n",
       "    }\n",
       "\n",
       "    .dataframe thead th {\n",
       "        text-align: right;\n",
       "    }\n",
       "</style>\n",
       "<table border=\"1\" class=\"dataframe\">\n",
       "  <thead>\n",
       "    <tr style=\"text-align: right;\">\n",
       "      <th></th>\n",
       "      <th>Lat</th>\n",
       "      <th>Lon</th>\n",
       "      <th>Day_of_week</th>\n",
       "      <th>Hour</th>\n",
       "      <th>Type</th>\n",
       "    </tr>\n",
       "  </thead>\n",
       "  <tbody>\n",
       "    <tr>\n",
       "      <th>count</th>\n",
       "      <td>564516.000000</td>\n",
       "      <td>564516.000000</td>\n",
       "      <td>564516</td>\n",
       "      <td>564516.000000</td>\n",
       "      <td>564516</td>\n",
       "    </tr>\n",
       "    <tr>\n",
       "      <th>unique</th>\n",
       "      <td>NaN</td>\n",
       "      <td>NaN</td>\n",
       "      <td>7</td>\n",
       "      <td>NaN</td>\n",
       "      <td>4</td>\n",
       "    </tr>\n",
       "    <tr>\n",
       "      <th>top</th>\n",
       "      <td>NaN</td>\n",
       "      <td>NaN</td>\n",
       "      <td>Wednesday</td>\n",
       "      <td>NaN</td>\n",
       "      <td>Weekday</td>\n",
       "    </tr>\n",
       "    <tr>\n",
       "      <th>freq</th>\n",
       "      <td>NaN</td>\n",
       "      <td>NaN</td>\n",
       "      <td>108631</td>\n",
       "      <td>NaN</td>\n",
       "      <td>345744</td>\n",
       "    </tr>\n",
       "    <tr>\n",
       "      <th>mean</th>\n",
       "      <td>40.740005</td>\n",
       "      <td>-73.976817</td>\n",
       "      <td>NaN</td>\n",
       "      <td>14.465043</td>\n",
       "      <td>NaN</td>\n",
       "    </tr>\n",
       "    <tr>\n",
       "      <th>std</th>\n",
       "      <td>0.036083</td>\n",
       "      <td>0.050426</td>\n",
       "      <td>NaN</td>\n",
       "      <td>5.873925</td>\n",
       "      <td>NaN</td>\n",
       "    </tr>\n",
       "    <tr>\n",
       "      <th>min</th>\n",
       "      <td>40.072900</td>\n",
       "      <td>-74.773300</td>\n",
       "      <td>NaN</td>\n",
       "      <td>0.000000</td>\n",
       "      <td>NaN</td>\n",
       "    </tr>\n",
       "    <tr>\n",
       "      <th>25%</th>\n",
       "      <td>40.722500</td>\n",
       "      <td>-73.997700</td>\n",
       "      <td>NaN</td>\n",
       "      <td>10.000000</td>\n",
       "      <td>NaN</td>\n",
       "    </tr>\n",
       "    <tr>\n",
       "      <th>50%</th>\n",
       "      <td>40.742500</td>\n",
       "      <td>-73.984800</td>\n",
       "      <td>NaN</td>\n",
       "      <td>16.000000</td>\n",
       "      <td>NaN</td>\n",
       "    </tr>\n",
       "    <tr>\n",
       "      <th>75%</th>\n",
       "      <td>40.760700</td>\n",
       "      <td>-73.970000</td>\n",
       "      <td>NaN</td>\n",
       "      <td>19.000000</td>\n",
       "      <td>NaN</td>\n",
       "    </tr>\n",
       "    <tr>\n",
       "      <th>max</th>\n",
       "      <td>42.116600</td>\n",
       "      <td>-72.066600</td>\n",
       "      <td>NaN</td>\n",
       "      <td>23.000000</td>\n",
       "      <td>NaN</td>\n",
       "    </tr>\n",
       "  </tbody>\n",
       "</table>\n",
       "</div>"
      ],
      "text/plain": [
       "                  Lat            Lon Day_of_week           Hour     Type\n",
       "count   564516.000000  564516.000000      564516  564516.000000   564516\n",
       "unique            NaN            NaN           7            NaN        4\n",
       "top               NaN            NaN   Wednesday            NaN  Weekday\n",
       "freq              NaN            NaN      108631            NaN   345744\n",
       "mean        40.740005     -73.976817         NaN      14.465043      NaN\n",
       "std          0.036083       0.050426         NaN       5.873925      NaN\n",
       "min         40.072900     -74.773300         NaN       0.000000      NaN\n",
       "25%         40.722500     -73.997700         NaN      10.000000      NaN\n",
       "50%         40.742500     -73.984800         NaN      16.000000      NaN\n",
       "75%         40.760700     -73.970000         NaN      19.000000      NaN\n",
       "max         42.116600     -72.066600         NaN      23.000000      NaN"
      ]
     },
     "execution_count": 6,
     "metadata": {},
     "output_type": "execute_result"
    }
   ],
   "source": [
    "avril.describe(include='all')"
   ]
  },
  {
   "cell_type": "code",
   "execution_count": 7,
   "metadata": {},
   "outputs": [
    {
     "data": {
      "text/plain": [
       "Lat            0.0\n",
       "Lon            0.0\n",
       "Day_of_week    0.0\n",
       "Hour           0.0\n",
       "Type           0.0\n",
       "dtype: float64"
      ]
     },
     "metadata": {},
     "output_type": "display_data"
    }
   ],
   "source": [
    "display(100*avril.isnull().sum()/avril.shape[0])\n",
    "# No missing value"
   ]
  },
  {
   "cell_type": "code",
   "execution_count": 8,
   "metadata": {},
   "outputs": [
    {
     "data": {
      "text/html": [
       "<div>\n",
       "<style scoped>\n",
       "    .dataframe tbody tr th:only-of-type {\n",
       "        vertical-align: middle;\n",
       "    }\n",
       "\n",
       "    .dataframe tbody tr th {\n",
       "        vertical-align: top;\n",
       "    }\n",
       "\n",
       "    .dataframe thead th {\n",
       "        text-align: right;\n",
       "    }\n",
       "</style>\n",
       "<table border=\"1\" class=\"dataframe\">\n",
       "  <thead>\n",
       "    <tr style=\"text-align: right;\">\n",
       "      <th></th>\n",
       "      <th>Lat</th>\n",
       "      <th>Lon</th>\n",
       "      <th>Day_of_week</th>\n",
       "      <th>Hour</th>\n",
       "      <th>Type</th>\n",
       "    </tr>\n",
       "  </thead>\n",
       "  <tbody>\n",
       "    <tr>\n",
       "      <th>7785</th>\n",
       "      <td>40.7205</td>\n",
       "      <td>-73.9939</td>\n",
       "      <td>Monday</td>\n",
       "      <td>0</td>\n",
       "      <td>Weekday</td>\n",
       "    </tr>\n",
       "    <tr>\n",
       "      <th>7786</th>\n",
       "      <td>40.7407</td>\n",
       "      <td>-74.0077</td>\n",
       "      <td>Monday</td>\n",
       "      <td>0</td>\n",
       "      <td>Weekday</td>\n",
       "    </tr>\n",
       "    <tr>\n",
       "      <th>7787</th>\n",
       "      <td>40.7591</td>\n",
       "      <td>-73.9892</td>\n",
       "      <td>Monday</td>\n",
       "      <td>0</td>\n",
       "      <td>Weekday</td>\n",
       "    </tr>\n",
       "    <tr>\n",
       "      <th>7788</th>\n",
       "      <td>40.7419</td>\n",
       "      <td>-74.0034</td>\n",
       "      <td>Monday</td>\n",
       "      <td>0</td>\n",
       "      <td>Weekday</td>\n",
       "    </tr>\n",
       "    <tr>\n",
       "      <th>15857</th>\n",
       "      <td>40.7456</td>\n",
       "      <td>-73.9773</td>\n",
       "      <td>Monday</td>\n",
       "      <td>0</td>\n",
       "      <td>Weekday</td>\n",
       "    </tr>\n",
       "  </tbody>\n",
       "</table>\n",
       "</div>"
      ],
      "text/plain": [
       "           Lat      Lon Day_of_week  Hour     Type\n",
       "7785   40.7205 -73.9939      Monday     0  Weekday\n",
       "7786   40.7407 -74.0077      Monday     0  Weekday\n",
       "7787   40.7591 -73.9892      Monday     0  Weekday\n",
       "7788   40.7419 -74.0034      Monday     0  Weekday\n",
       "15857  40.7456 -73.9773      Monday     0  Weekday"
      ]
     },
     "execution_count": 8,
     "metadata": {},
     "output_type": "execute_result"
    }
   ],
   "source": [
    "# Sort the dataset\n",
    "day_order = ['Monday', 'Tuesday', 'Wednesday', 'Thursday', 'Friday', 'Saturday', 'Sunday']\n",
    "avril['Day_of_week'] = pd.Categorical(avril['Day_of_week'], categories=day_order, ordered=True)\n",
    "avril = avril.sort_values(['Day_of_week', 'Hour'])\n",
    "avril.head()"
   ]
  },
  {
   "cell_type": "code",
   "execution_count": 9,
   "metadata": {},
   "outputs": [
    {
     "name": "stdout",
     "output_type": "stream",
     "text": [
      "We already observe different demands depending on the day of the week.\n"
     ]
    }
   ],
   "source": [
    "# Uber demands distribution along the week\n",
    "histogram = go.Histogram(x=avril['Day_of_week'])\n",
    "layout = go.Layout(title='Distribution of Uber Demands over the Week')\n",
    "fig = go.Figure(data=[histogram], layout=layout)\n",
    "# fig.show()\n",
    "print(\"We already observe different demands depending on the day of the week.\")"
   ]
  },
  {
   "cell_type": "markdown",
   "metadata": {},
   "source": [
    "![alt text](https://raw.githubusercontent.com/elodiesune/PROJECT_Uber/main/pictures/1_Distribution_of_uber_pickups_on_the_week.jpg)"
   ]
  },
  {
   "cell_type": "code",
   "execution_count": 10,
   "metadata": {},
   "outputs": [
    {
     "name": "stdout",
     "output_type": "stream",
     "text": [
      "Except for the afterwork time, which is always very demanded, we can see clear differences in uber demands along the week.\n",
      "People ask for uber in morning only during the weekdays and fridays.\n",
      "People party on friday and saturday evenings, which make more early_night demands than in weekdays and sundays.\n",
      "Obviously for people coming back late, it increases early_morning demands on saturdays and sundays.\n",
      "There are much more demand at lunch time during sundays.\n"
     ]
    }
   ],
   "source": [
    "# Demands depending on time and days\n",
    "\n",
    "# Separate data into bins\n",
    "bins = [0, 5, 11, 14, 16, 20, 23]\n",
    "labels = ['Early_morning', 'Morning', 'Lunch', 'Work', 'Afterwork', 'Early_night']\n",
    "avril['Hour_bin'] = pd.cut(avril['Hour'], bins=bins, labels=labels, right=False)\n",
    "\n",
    "# Get the hour bins for each 'Type'\n",
    "weekday_bins = avril.loc[avril['Type'] == 'Weekday', 'Hour_bin']\n",
    "friday_bins = avril.loc[avril['Type'] == 'Friday', 'Hour_bin']\n",
    "saturday_bins = avril.loc[avril['Type'] == 'Saturday', 'Hour_bin']\n",
    "sunday_bins = avril.loc[avril['Type'] == 'Sunday', 'Hour_bin']\n",
    "\n",
    "# Get values for each bins\n",
    "weekday_values = weekday_bins.value_counts(sort=False)\n",
    "friday_values = friday_bins.value_counts(sort=False)\n",
    "saturday_values = saturday_bins.value_counts(sort=False)\n",
    "sunday_values = sunday_bins.value_counts(sort=False)\n",
    "\n",
    "# Pies\n",
    "weekday_pie = go.Pie(labels=labels,values=weekday_values,textinfo='label')\n",
    "friday_pie = go.Pie(labels=labels,values=friday_values,textinfo='label')\n",
    "saturday_pie = go.Pie(labels=labels,values=saturday_values,textinfo='label')\n",
    "sunday_pie = go.Pie(labels=labels,values=sunday_values,textinfo='label')\n",
    "\n",
    "# Plot\n",
    "fig = make_subplots(rows=1,cols=4,subplot_titles=['Weekday', 'Friday', 'Saturday', 'Sunday'],specs=[[{'type': 'pie'}, {'type': 'pie'}, {'type': 'pie'}, {'type': 'pie'}]],horizontal_spacing=0.05,)\n",
    "fig.add_trace(weekday_pie, row=1, col=1)\n",
    "fig.add_trace(friday_pie, row=1, col=2)\n",
    "fig.add_trace(saturday_pie, row=1, col=3)\n",
    "fig.add_trace(sunday_pie, row=1, col=4)\n",
    "fig.update_layout(showlegend=False,title='Uber demands by time',title_x=0.5,title_font=dict(size=20),height=400,width=1000)\n",
    "# fig.show()\n",
    "\n",
    "print(\"Except for the afterwork time, which is always very demanded, we can see clear differences in uber demands along the week.\")\n",
    "print(\"People ask for uber in morning only during the weekdays and fridays.\")\n",
    "print(\"People party on friday and saturday evenings, which make more early_night demands than in weekdays and sundays.\")\n",
    "print(\"Obviously for people coming back late, it increases early_morning demands on saturdays and sundays.\")\n",
    "print(\"There are much more demand at lunch time during sundays.\")"
   ]
  },
  {
   "cell_type": "markdown",
   "metadata": {},
   "source": [
    "![alt text](https://raw.githubusercontent.com/elodiesune/PROJECT_Uber/main/pictures/2_Uber_demands_by_time.jpg)"
   ]
  },
  {
   "cell_type": "code",
   "execution_count": 41,
   "metadata": {},
   "outputs": [
    {
     "name": "stdout",
     "output_type": "stream",
     "text": [
      "We already see the crazy high density of uber demands in the center of NY (Manhattan)\n"
     ]
    }
   ],
   "source": [
    "# General map of uber demands in April\n",
    "\n",
    "fig = px.scatter_mapbox(title=\"Uber demands in NYC\", data_frame=avril,lat='Lat',lon='Lon',color='Hour',mapbox_style='open-street-map')\n",
    "# fig.show(renderer='notebook')\n",
    "print(\"We already see the crazy high density of uber demands in the center of NY (Manhattan)\")"
   ]
  },
  {
   "cell_type": "markdown",
   "metadata": {},
   "source": [
    "![alt text](https://raw.githubusercontent.com/elodiesune/PROJECT_Uber/main/pictures/3_Uber_demands_by_time.jpg)"
   ]
  },
  {
   "cell_type": "markdown",
   "metadata": {},
   "source": [
    "# Machine Learning on days"
   ]
  },
  {
   "cell_type": "markdown",
   "metadata": {},
   "source": [
    "## KMeans"
   ]
  },
  {
   "cell_type": "markdown",
   "metadata": {},
   "source": [
    "#### Preprocessing"
   ]
  },
  {
   "cell_type": "code",
   "execution_count": 12,
   "metadata": {},
   "outputs": [],
   "source": [
    "# Before studying each day, we will make a quick study on days from monday to friday vs saturday-sunday.\n",
    "# This should help us deciding if we can apply the same number of clusters for each day later. "
   ]
  },
  {
   "cell_type": "code",
   "execution_count": 13,
   "metadata": {},
   "outputs": [],
   "source": [
    "# Create one dataframe for weekend/weekday ; keep only latitude and longitude variables\n",
    "weekend_mask = (avril['Type'].isin(['Saturday', 'Sunday']))\n",
    "weekday_mask = (avril['Type'].isin(['Weekday', 'Friday']))\n",
    "avril_weekend = avril.loc[weekend_mask, ['Lat','Lon']].sample(10000)\n",
    "avril_weekday = avril.loc[weekday_mask, ['Lat','Lon']].sample(10000)"
   ]
  },
  {
   "cell_type": "code",
   "execution_count": 14,
   "metadata": {},
   "outputs": [],
   "source": [
    "# GPS coordinates do not follow a gaussian distribution ==> we should not use standard scaler.\n",
    "# Most common methods : usage of a distance metric suitable for spherical coordinates (instead of the Euclidean distance)\n",
    "\n",
    "# Convert latitude and longitude to radians\n",
    "X1 = avril_weekend[['Lat', 'Lon']].applymap(radians)\n",
    "X2 = avril_weekday[['Lat', 'Lon']].applymap(radians)\n",
    "\n",
    "# Calculate Haversine distances between coordinates (in kilometers)\n",
    "X1_processed = haversine_distances(X1)\n",
    "X2_processed = haversine_distances(X2)"
   ]
  },
  {
   "cell_type": "markdown",
   "metadata": {},
   "source": [
    "#### Finding optimal number of clusters"
   ]
  },
  {
   "cell_type": "code",
   "execution_count": 15,
   "metadata": {},
   "outputs": [
    {
     "data": {
      "text/plain": [
       "KMeans(n_clusters=4, random_state=0)"
      ]
     },
     "execution_count": 15,
     "metadata": {},
     "output_type": "execute_result"
    }
   ],
   "source": [
    "# Instanciate KMeans\n",
    "\n",
    "# Instantiate with k=4 and initialisation with k-means\n",
    "kmeans = KMeans(n_clusters=4, random_state=0)\n",
    "\n",
    "kmeans1 = kmeans\n",
    "kmeans2 = kmeans\n",
    "\n",
    "# Fit kmeans to our dataset\n",
    "kmeans1.fit(X1_processed)\n",
    "kmeans2.fit(X2_processed)"
   ]
  },
  {
   "cell_type": "code",
   "execution_count": 16,
   "metadata": {},
   "outputs": [
    {
     "name": "stdout",
     "output_type": "stream",
     "text": [
      "Wall time: 1h 16s\n"
     ]
    }
   ],
   "source": [
    "%%time\n",
    "# Calculate inertia and silhouette scores for both dataframes\n",
    "\n",
    "# Weekends\n",
    "wcss1 =  []\n",
    "k1 = []\n",
    "sil1 = []\n",
    "\n",
    "for i in range (2,40): \n",
    "    kmeans1 = KMeans(n_clusters= i, random_state = 0)\n",
    "    kmeans1.fit(X1_processed)\n",
    "    wcss1.append(kmeans1.inertia_)\n",
    "    sil1.append(silhouette_score(X1_processed, kmeans1.predict(X1_processed)))\n",
    "    k1.append(i)\n",
    "    # print(\"WCSS for K={} --> {}\".format(i, wcss1[-1]))\n",
    "\n",
    "# Weekdays\n",
    "wcss2 =  []\n",
    "k2 = []\n",
    "sil2 = []\n",
    "\n",
    "for i in range (2,40): \n",
    "    kmeans2 = KMeans(n_clusters= i, random_state = 0)\n",
    "    kmeans2.fit(X2_processed)\n",
    "    wcss2.append(kmeans2.inertia_)\n",
    "    sil2.append(silhouette_score(X2_processed, kmeans2.predict(X2_processed)))\n",
    "    k2.append(i)\n",
    "    # print(\"WCSS for K={} --> {}\".format(i, wcss2[-1]))"
   ]
  },
  {
   "cell_type": "code",
   "execution_count": null,
   "metadata": {},
   "outputs": [],
   "source": [
    "# Plot inertia with subplot\n",
    "\n",
    "fig = sp.make_subplots(rows=1, cols=2, subplot_titles=(\"Weekends\", \"Weekdays\"))\n",
    "\n",
    "# Weekends\n",
    "wcss_frame1 = pd.DataFrame(wcss1)\n",
    "k_frame1= pd.Series(k1)\n",
    "fig.add_trace(go.Scatter(x=k_frame1, y=wcss_frame1.iloc[:,-1], mode='lines'), row=1, col=1)\n",
    "\n",
    "# Weekdays\n",
    "wcss_frame2 = pd.DataFrame(wcss2)\n",
    "k_frame2= pd.Series(k2)\n",
    "fig.add_trace(go.Scatter(x=k_frame2, y=wcss_frame2.iloc[:,-1], mode='lines'), row=1, col=2)\n",
    "\n",
    "fig.update_layout(height=400, width=800, showlegend=False, title = 'Inertia per number of clusters')\n",
    "fig.update_xaxes(title_text=\"Clusters\", row=2, col=1)\n",
    "fig.update_yaxes(title_text=\"Inertia\", row=1, col=1)\n",
    "fig.update_yaxes(title_text=\"Inertia\", row=2, col=1)\n",
    "\n",
    "# fig.show()"
   ]
  },
  {
   "cell_type": "markdown",
   "metadata": {},
   "source": [
    "![alt text](https://raw.githubusercontent.com/elodiesune/PROJECT_Uber/main/pictures/4_KMeans_trial_inertia.jpg)"
   ]
  },
  {
   "cell_type": "code",
   "execution_count": 18,
   "metadata": {},
   "outputs": [
    {
     "name": "stdout",
     "output_type": "stream",
     "text": [
      "We want to minimize inertia as a first objective : it would mean that GPS coordinates within each cluster are more concentrated, so the distances would shorter. Thus, the driving time too (excluding traffic problems).\n",
      "Between 10 and 20 k seems a good compromize (we almost reach a plateau) without taking too much time.\n"
     ]
    }
   ],
   "source": [
    "print(\"We want to minimize inertia as a first objective : it would mean that GPS coordinates within each cluster are more concentrated, so the distances would shorter. Thus, the driving time too (excluding traffic problems).\")\n",
    "print(\"Between 10 and 20 k seems a good compromize (we almost reach a plateau) without taking too much time.\")"
   ]
  },
  {
   "cell_type": "code",
   "execution_count": null,
   "metadata": {},
   "outputs": [],
   "source": [
    "# Plot silhouette score with subplot\n",
    "\n",
    "fig = sp.make_subplots(rows=1, cols=2, subplot_titles=(\"Weekends\", \"Weekdays\"))\n",
    "\n",
    "# Weekends\n",
    "cluster_scores1=pd.DataFrame(sil1)\n",
    "k_frame1 = pd.Series(k1)\n",
    "fig.add_trace(go.Bar(x=k_frame1, y=cluster_scores1.iloc[:, -1]), row=1, col=1)\n",
    "\n",
    "# Weekdays\n",
    "cluster_scores2=pd.DataFrame(sil2)\n",
    "k_frame2 = pd.Series(k2)\n",
    "fig.add_trace(go.Bar(x=k_frame2, y=cluster_scores2.iloc[:, -1]), row=1, col=2)\n",
    "\n",
    "fig.update_layout(height=500, width=900, showlegend=False, title = \"Silhouette score per number of clusters\")\n",
    "fig.update_xaxes(title_text=\"Clusters\", row=1, col=1)\n",
    "fig.update_xaxes(title_text=\"Clusters\", row=1, col=2)\n",
    "fig.update_yaxes(title_text=\"Silhouette Score\", row=1, col=1)\n",
    "\n",
    "# fig.show()"
   ]
  },
  {
   "cell_type": "markdown",
   "metadata": {},
   "source": [
    "![alt text](https://raw.githubusercontent.com/elodiesune/PROJECT_Uber/main/pictures/5_KMeans_trial_silhouette.jpg)"
   ]
  },
  {
   "cell_type": "code",
   "execution_count": 43,
   "metadata": {},
   "outputs": [
    {
     "name": "stdout",
     "output_type": "stream",
     "text": [
      "To lower inertia, we want 10 to 20 clusters (end of the elbow).\n",
      "Now, we want silhouette score as high as possible as it means well defined and well separated clusters.\n",
      "For weekends, the highest silhouette score (between 10 and 20 clusters) is at k = 13\n",
      "For weekdays, the highest silhouette score (between 10 and 20 clusters) is at k = 15\n"
     ]
    }
   ],
   "source": [
    "print(\"To lower inertia, we want 10 to 20 clusters (end of the elbow).\")\n",
    "print(\"Now, we want silhouette score as high as possible as it means well defined and well separated clusters.\")\n",
    "print(\"For weekends, the highest silhouette score (between 10 and 20 clusters) is at k = 13\")\n",
    "print(\"For weekdays, the highest silhouette score (between 10 and 20 clusters) is at k = 15\")"
   ]
  },
  {
   "cell_type": "code",
   "execution_count": 21,
   "metadata": {},
   "outputs": [
    {
     "name": "stdout",
     "output_type": "stream",
     "text": [
      "This shows that for further analysis, we will need to design a number of cluster adapted to each day.\n"
     ]
    }
   ],
   "source": [
    "print('This shows that for further analysis, we will need to design a number of cluster adapted to each day.')"
   ]
  },
  {
   "cell_type": "markdown",
   "metadata": {},
   "source": [
    "#### Running the model with optimal number of clusters"
   ]
  },
  {
   "cell_type": "code",
   "execution_count": 44,
   "metadata": {},
   "outputs": [
    {
     "name": "stdout",
     "output_type": "stream",
     "text": [
      "Wall time: 32.7 s\n"
     ]
    }
   ],
   "source": [
    "%%time\n",
    "\n",
    "kmeans = KMeans(n_clusters= 13)\n",
    "kmeans.fit(X1_processed)\n",
    "avril_weekend.loc[:,'Cluster_KMeans'] = kmeans.predict(X1_processed)\n",
    "\n",
    "kmeans = KMeans(n_clusters= 15)\n",
    "kmeans.fit(X2_processed)\n",
    "avril_weekday.loc[:,'Cluster_KMeans'] = kmeans.predict(X2_processed)"
   ]
  },
  {
   "cell_type": "code",
   "execution_count": 45,
   "metadata": {},
   "outputs": [
    {
     "data": {
      "text/html": [
       "<div>\n",
       "<style scoped>\n",
       "    .dataframe tbody tr th:only-of-type {\n",
       "        vertical-align: middle;\n",
       "    }\n",
       "\n",
       "    .dataframe tbody tr th {\n",
       "        vertical-align: top;\n",
       "    }\n",
       "\n",
       "    .dataframe thead th {\n",
       "        text-align: right;\n",
       "    }\n",
       "</style>\n",
       "<table border=\"1\" class=\"dataframe\">\n",
       "  <thead>\n",
       "    <tr style=\"text-align: right;\">\n",
       "      <th></th>\n",
       "      <th>Lat</th>\n",
       "      <th>Lon</th>\n",
       "      <th>Cluster_KMeans</th>\n",
       "      <th>Type</th>\n",
       "    </tr>\n",
       "  </thead>\n",
       "  <tbody>\n",
       "    <tr>\n",
       "      <th>0</th>\n",
       "      <td>40.7611</td>\n",
       "      <td>-73.9676</td>\n",
       "      <td>8</td>\n",
       "      <td>Weekend</td>\n",
       "    </tr>\n",
       "    <tr>\n",
       "      <th>1</th>\n",
       "      <td>40.7771</td>\n",
       "      <td>-73.9560</td>\n",
       "      <td>2</td>\n",
       "      <td>Weekend</td>\n",
       "    </tr>\n",
       "    <tr>\n",
       "      <th>2</th>\n",
       "      <td>40.7533</td>\n",
       "      <td>-73.9703</td>\n",
       "      <td>8</td>\n",
       "      <td>Weekend</td>\n",
       "    </tr>\n",
       "    <tr>\n",
       "      <th>3</th>\n",
       "      <td>40.7392</td>\n",
       "      <td>-74.0029</td>\n",
       "      <td>3</td>\n",
       "      <td>Weekend</td>\n",
       "    </tr>\n",
       "    <tr>\n",
       "      <th>4</th>\n",
       "      <td>40.7631</td>\n",
       "      <td>-73.9675</td>\n",
       "      <td>8</td>\n",
       "      <td>Weekend</td>\n",
       "    </tr>\n",
       "  </tbody>\n",
       "</table>\n",
       "</div>"
      ],
      "text/plain": [
       "       Lat      Lon  Cluster_KMeans     Type\n",
       "0  40.7611 -73.9676               8  Weekend\n",
       "1  40.7771 -73.9560               2  Weekend\n",
       "2  40.7533 -73.9703               8  Weekend\n",
       "3  40.7392 -74.0029               3  Weekend\n",
       "4  40.7631 -73.9675               8  Weekend"
      ]
     },
     "execution_count": 45,
     "metadata": {},
     "output_type": "execute_result"
    }
   ],
   "source": [
    "# Final dataframe\n",
    "\n",
    "avril_weekend[\"Type\"] = \"Weekend\"\n",
    "avril_weekday[\"Type\"] = \"Weekday\"\n",
    "\n",
    "final_df_kmeans_trial = pd.concat([avril_weekend, avril_weekday], ignore_index=True)\n",
    "final_df_kmeans_trial.head()"
   ]
  },
  {
   "cell_type": "code",
   "execution_count": null,
   "metadata": {},
   "outputs": [],
   "source": [
    "# Map KMeans on interactive graph\n",
    "\n",
    "fig = px.scatter_mapbox(width=500,height=500, title = 'Clusters by KMeans - Weekends vs Weekdays', data_frame=final_df_kmeans_trial,lat='Lat',lon='Lon',color=final_df_kmeans_trial['Cluster_KMeans'].astype('str'),mapbox_style='open-street-map',color_continuous_scale='turbo',animation_frame = \"Type\")\n",
    "# fig.show()"
   ]
  },
  {
   "cell_type": "markdown",
   "metadata": {},
   "source": [
    "![alt text](https://raw.githubusercontent.com/elodiesune/PROJECT_Uber/main/pictures/6_KMeans_trial_clusters.jpg)"
   ]
  },
  {
   "cell_type": "code",
   "execution_count": 27,
   "metadata": {},
   "outputs": [
    {
     "name": "stdout",
     "output_type": "stream",
     "text": [
      "We see that the general method is working, and that clusters are already different in weekends vs weekdays.\n"
     ]
    }
   ],
   "source": [
    "print(\"We see that the general method is working, and that clusters are already different in weekends vs weekdays.\")"
   ]
  },
  {
   "cell_type": "markdown",
   "metadata": {},
   "source": [
    "#### Loop for each day of the week"
   ]
  },
  {
   "cell_type": "code",
   "execution_count": 28,
   "metadata": {},
   "outputs": [],
   "source": [
    "# Create one dataframe per day\n",
    "\n",
    "days_of_week = ['Monday','Tuesday','Wednesday','Thursday','Friday','Saturday','Sunday']\n",
    "dataframes = []\n",
    "    \n",
    "for day in days_of_week:\n",
    "    mask = (avril['Day_of_week'] == day)\n",
    "    avril_day = avril.loc[mask,['Lat','Lon']].sample(n=10000,replace=True)\n",
    "    dataframes.append(avril_day)\n",
    "\n",
    "# Process data for each dataframe\n",
    "\n",
    "X_processed_list = []\n",
    "\n",
    "for df in dataframes:\n",
    "    X = df[['Lat', 'Lon']].applymap(radians)\n",
    "    X_processed = haversine_distances(X)\n",
    "    X_processed_list.append(X_processed)"
   ]
  },
  {
   "cell_type": "code",
   "execution_count": 29,
   "metadata": {},
   "outputs": [
    {
     "name": "stdout",
     "output_type": "stream",
     "text": [
      "Wall time: 59min 14s\n"
     ]
    }
   ],
   "source": [
    "%%time\n",
    "\n",
    "# Find best k for each dataframe\n",
    "\n",
    "best_k_list = []\n",
    "\n",
    "for i, X_processed in enumerate(X_processed_list):\n",
    "    df = dataframes[i].copy()\n",
    "    silhouette_score_list = []\n",
    "    # we know that the end of the elbow is generally between 10 and 20.\n",
    "    # with more time and powerful machines, we could test more k to be more accurate\n",
    "    for k in range(10,20): \n",
    "        kmeans = KMeans(n_clusters=k, random_state=0)\n",
    "        kmeans.fit(X_processed)\n",
    "        silhouette_score_list.append(silhouette_score(X_processed, kmeans.predict(X_processed)))\n",
    "    best_silhouette_score = max(silhouette_score_list) # we want the highest silhouette score at the end of the elbow\n",
    "    best_k = 10 + silhouette_score_list.index(best_silhouette_score)\n",
    "    best_k_list.append(best_k) # best k for each dataframe"
   ]
  },
  {
   "cell_type": "code",
   "execution_count": 30,
   "metadata": {},
   "outputs": [
    {
     "name": "stdout",
     "output_type": "stream",
     "text": [
      "[16, 11, 14, 11, 16, 13, 15]\n",
      "We see different numbers of clusters depending on the day.\n"
     ]
    }
   ],
   "source": [
    "print(best_k_list)\n",
    "print(\"We see different numbers of clusters depending on the day.\")"
   ]
  },
  {
   "cell_type": "code",
   "execution_count": 31,
   "metadata": {},
   "outputs": [],
   "source": [
    "# Apply best k to each dataframe and save predictions\n",
    "\n",
    "final_df_kmeans = pd.DataFrame(columns=['Lat','Lon','Cluster_KMeans','Day_of_week'])\n",
    "\n",
    "for i, X_processed in enumerate(X_processed_list):\n",
    "    df = dataframes[i].copy()\n",
    "    k = best_k_list[i]\n",
    "    kmeans = KMeans(n_clusters=k, random_state=0)\n",
    "    kmeans.fit(X_processed)\n",
    "    df['Cluster_KMeans'] = kmeans.predict(X_processed)\n",
    "    df['Day_of_week'] = days_of_week[i]\n",
    "    final_df_kmeans = pd.concat([final_df_kmeans, df], ignore_index=True)"
   ]
  },
  {
   "cell_type": "code",
   "execution_count": null,
   "metadata": {},
   "outputs": [],
   "source": [
    "fig = px.scatter_mapbox(width = 800, title = 'Cluster by KMeans per day of week', data_frame=final_df_kmeans,lat='Lat',lon='Lon',color=final_df_kmeans['Cluster_KMeans'].astype('str'),mapbox_style='open-street-map',color_continuous_scale='turbo',animation_frame = \"Day_of_week\")\n",
    "# fig.show()\n",
    "fig.write_html(\"pictures/kmeans_animation.html\")"
   ]
  },
  {
   "cell_type": "markdown",
   "metadata": {},
   "source": [
    "![alt text](https://raw.githubusercontent.com/elodiesune/PROJECT_Uber/main/pictures/7_KMeans_final_clusters_by_day.jpg)"
   ]
  },
  {
   "cell_type": "code",
   "execution_count": 51,
   "metadata": {},
   "outputs": [
    {
     "name": "stdout",
     "output_type": "stream",
     "text": [
      "The clusters are shown in the order by descending density. The most important ones (in the center) are quite small.\n",
      "In comparison with google map, it seems that the distance in the central clusters is around 10min by car, which is what we wanted.\n",
      "However, we see that kmeans here is not efficient for less dense zones, and group points which are very far for each others.\n",
      "Taxi drivers should focus on dense zones anywway, so we could just decide to ignore those zones.\n"
     ]
    }
   ],
   "source": [
    "print(\"The clusters are shown in the order by descending density. The most important ones (in the center) are quite small.\")\n",
    "print(\"In comparison with google map, it seems that the distance in the central clusters is around 10min by car, which is what we wanted.\")\n",
    "print(\"However, we see that kmeans here is not efficient for less dense zones, and group points which are very far for each others.\")\n",
    "print(\"Taxi drivers should focus on dense zones anywway, so we could just decide to ignore those zones.\")"
   ]
  },
  {
   "cell_type": "markdown",
   "metadata": {},
   "source": [
    "## DBSCAN"
   ]
  },
  {
   "cell_type": "markdown",
   "metadata": {},
   "source": [
    "### Trial on a sample (all days mixed)"
   ]
  },
  {
   "cell_type": "code",
   "execution_count": null,
   "metadata": {},
   "outputs": [],
   "source": [
    "%%time\n",
    "\n",
    "# Same preprocessing for  DBSCAN\n",
    "\n",
    "X = avril.copy().sample(10000)\n",
    "X = X.iloc[:,:2]\n",
    "X_processed = X[['Lat', 'Lon']].applymap(radians)\n",
    "X_processed = haversine_distances(X_processed)\n",
    "\n",
    "# DBSCAN\n",
    "# epsilon: radius within which neighboring points are considered part of the same cluster (density).\n",
    "# min_samples: minimum number of points required to form a dense region (core point)\n",
    "# Ball-tree algorithm: used for non euclidian distances\n",
    "\n",
    "db = DBSCAN(eps=0.005, min_samples=10, algorithm=\"ball_tree\") # instantiate\n",
    "db.fit(X_processed) # fit\n",
    "X['Cluster_DBSCAN'] = db.labels_ # get predictions (clusters)\n",
    "\n",
    "# Create the scatter mapbox plot\n",
    "fig = px.scatter_mapbox(X, lat='Lat', lon='Lon', width = 800, color=X['Cluster_DBSCAN'].astype('str'), hover_data=['Cluster_DBSCAN'], mapbox_style='open-street-map')\n",
    "fig.update_layout(title='DBSCAN Clustering (all days mixed test)')\n",
    "# fig.show()"
   ]
  },
  {
   "cell_type": "markdown",
   "metadata": {},
   "source": [
    "![alt text](https://raw.githubusercontent.com/elodiesune/PROJECT_Uber/main/pictures/8_DBSCAN_trial.jpg)"
   ]
  },
  {
   "cell_type": "markdown",
   "metadata": {},
   "source": [
    "### Loop on every day of the week"
   ]
  },
  {
   "cell_type": "code",
   "execution_count": 36,
   "metadata": {},
   "outputs": [
    {
     "name": "stdout",
     "output_type": "stream",
     "text": [
      "Wall time: 14min 43s\n"
     ]
    }
   ],
   "source": [
    "%%time\n",
    "\n",
    "# We create the final dataframe containing clusters\n",
    "final_df_dbscan = pd.DataFrame(columns=['Lat','Lon','Cluster_DBSCAN','Day_of_week'])\n",
    "\n",
    "# We use the variables \"dataframes\" and \"X_processed_list\" created for each day previously\n",
    "for i, X_processed in enumerate(X_processed_list):\n",
    "    df = dataframes[i].copy()\n",
    "    db = DBSCAN(eps=0.005, min_samples=7, algorithm=\"ball_tree\") # instantiate\n",
    "    db.fit(X_processed) # fit\n",
    "    df['Cluster_DBSCAN'] = db.labels_ # get predictions (clusters)\n",
    "    df['Day_of_week'] = days_of_week[i]\n",
    "    final_df_dbscan = pd.concat([final_df_dbscan, df], ignore_index=True)"
   ]
  },
  {
   "cell_type": "code",
   "execution_count": 37,
   "metadata": {},
   "outputs": [
    {
     "name": "stdout",
     "output_type": "stream",
     "text": [
      "Percentage of outliers: 4%\n"
     ]
    }
   ],
   "source": [
    "# Count number of outliers (cluster -1)\n",
    "outliers = final_df_dbscan[final_df_dbscan['Cluster_DBSCAN'] == -1]\n",
    "percentage_outliers = len(outliers) * 100 / len(final_df_dbscan)\n",
    "print(f\"Percentage of outliers: {round(percentage_outliers)}%, we can remove them.\")\n",
    "\n",
    "# Remove them\n",
    "final_df_dbscan = final_df_dbscan.drop(outliers.index)"
   ]
  },
  {
   "cell_type": "code",
   "execution_count": 38,
   "metadata": {},
   "outputs": [
    {
     "name": "stdout",
     "output_type": "stream",
     "text": [
      "Day_of_week\n",
      "Friday       16\n",
      "Monday       22\n",
      "Saturday     15\n",
      "Sunday       20\n",
      "Thursday     17\n",
      "Tuesday      21\n",
      "Wednesday    17\n",
      "Name: Cluster_DBSCAN, dtype: int64\n",
      "We see here that the number of clusters can vary a lot depending on the day.\n"
     ]
    }
   ],
   "source": [
    "print(final_df_dbscan.groupby('Day_of_week').Cluster_DBSCAN.nunique())\n",
    "print(\"We see here that the number of clusters can vary a lot depending on the day.\")"
   ]
  },
  {
   "cell_type": "code",
   "execution_count": null,
   "metadata": {},
   "outputs": [],
   "source": [
    "fig = px.scatter_mapbox(title = 'Cluster by DBScan per day of week', width = 800, data_frame=final_df_dbscan,lat='Lat',lon='Lon',color=final_df_dbscan['Cluster_DBSCAN'].astype('str'),mapbox_style='open-street-map',color_continuous_scale='turbo',animation_frame = \"Day_of_week\")\n",
    "# fig.show()\n",
    "fig.write_html(\"pictures/dbscan_animation.html\")"
   ]
  },
  {
   "cell_type": "markdown",
   "metadata": {},
   "source": [
    "![alt text](https://raw.githubusercontent.com/elodiesune/PROJECT_Uber/main/pictures/9_DBSCAN_final_clusters_by_day.jpg)"
   ]
  },
  {
   "cell_type": "code",
   "execution_count": 56,
   "metadata": {},
   "outputs": [
    {
     "name": "stdout",
     "output_type": "stream",
     "text": [
      "DBSCAN seems very good for finding hotspots. Removal of outliers makes clustering much better than with KMeans.\n",
      "It eliminates the problem of not dense but very long zones that we had with KMeans.\n",
      "We still have the central zone, which should be a bit smaller if we want drivers to be always less than 10min from a demand.\n"
     ]
    }
   ],
   "source": [
    "print(\"DBSCAN seems very good for finding hotspots. Removal of outliers makes clustering much better than with KMeans.\")\n",
    "print(\"It eliminates the problem of not dense but very long zones that we had with KMeans.\")\n",
    "print(\"We still have the central zone, which should be a bit smaller if we want drivers to be always less than 10min from a demand.\")"
   ]
  },
  {
   "cell_type": "markdown",
   "metadata": {},
   "source": [
    "# CONCLUSION"
   ]
  },
  {
   "cell_type": "markdown",
   "metadata": {},
   "source": [
    "##### \n",
    "\n",
    "The best method for our problem is DBSCAN, for the following reasons:\n",
    "      - unknown number of clusters for each day and hour\n",
    "      - many outliers far around New York city\n",
    "      - various densities depending on the zone in the city\n",
    "      - irregular shapes of clusters\n",
    "\n",
    "However, the central zone around Manhattan (the densest one) should be clustered more, in order to respect the time asked (less than 10min driving). Or another solution would be to use KMEANS which had very nice little clusters, but remove outliers before. \n",
    "\n",
    "To pursue the analysis per hour, we would need to separate the file in 168 dataframes (7 days, 24 hours) and do the exact same process as we did previously. The method to use would be the DBSCAN, as said before, because of unknown number of clusters, numerous outliers and irregular densities in New York City. "
   ]
  }
 ],
 "metadata": {
  "kernelspec": {
   "display_name": "base",
   "language": "python",
   "name": "python3"
  },
  "language_info": {
   "codemirror_mode": {
    "name": "ipython",
    "version": 3
   },
   "file_extension": ".py",
   "mimetype": "text/x-python",
   "name": "python",
   "nbconvert_exporter": "python",
   "pygments_lexer": "ipython3",
   "version": "3.9.13"
  },
  "orig_nbformat": 4
 },
 "nbformat": 4,
 "nbformat_minor": 2
}
