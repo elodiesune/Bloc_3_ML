{
 "cells": [
  {
   "cell_type": "markdown",
   "metadata": {
    "colab_type": "text",
    "id": "0eiKSLYG8XvO"
   },
   "source": [
    "# **Part 2: Machine Learning**\n",
    "\n",
    "# CHALLENGE : predict conversions 🏆🏆"
   ]
  },
  {
   "cell_type": "markdown",
   "metadata": {},
   "source": [
    "# Import libraries"
   ]
  },
  {
   "cell_type": "code",
   "execution_count": 1,
   "metadata": {
    "colab": {},
    "colab_type": "code",
    "id": "AGhdl7Bt2xZd"
   },
   "outputs": [],
   "source": [
    "import pandas as pd\n",
    "import numpy as np\n",
    "import matplotlib.pyplot as plt\n",
    "import plotly.express as px\n",
    "import plotly.graph_objects as go\n",
    "import plotly.io as pio\n",
    "\n",
    "from sklearn.model_selection import train_test_split, cross_val_score\n",
    "from sklearn.impute import SimpleImputer\n",
    "from sklearn.preprocessing import StandardScaler, OneHotEncoder\n",
    "from sklearn.compose import ColumnTransformer\n",
    "from sklearn.linear_model import LogisticRegression, LogisticRegressionCV\n",
    "from sklearn.svm import SVC\n",
    "from sklearn.tree import DecisionTreeClassifier\n",
    "from sklearn.ensemble import RandomForestClassifier, VotingClassifier, StackingClassifier, BaggingClassifier, AdaBoostClassifier, GradientBoostingClassifier\n",
    "from xgboost import XGBClassifier\n",
    "from catboost import CatBoostClassifier\n",
    "from sklearn.metrics import accuracy_score, precision_score, recall_score, f1_score, roc_auc_score, confusion_matrix\n",
    "from sklearn.model_selection import GridSearchCV\n",
    "import joblib"
   ]
  },
  {
   "cell_type": "markdown",
   "metadata": {},
   "source": [
    "# Choose necessary variables"
   ]
  },
  {
   "cell_type": "code",
   "execution_count": 2,
   "metadata": {
    "colab": {
     "base_uri": "https://localhost:8080/",
     "height": 34
    },
    "colab_type": "code",
    "id": "W1AU8AH8u0qd",
    "outputId": "00698a97-027b-493b-a2e4-33fdcc295abb"
   },
   "outputs": [],
   "source": [
    "data = pd.read_csv('Data/conversion_data_train.csv')\n",
    "data = data[data['age'] <= 100]\n",
    "# data_sample = data.sample(10000)"
   ]
  },
  {
   "cell_type": "code",
   "execution_count": 3,
   "metadata": {},
   "outputs": [],
   "source": [
    "target_variable = 'converted'\n",
    "Y = data.loc[:, target_variable]"
   ]
  },
  {
   "cell_type": "markdown",
   "metadata": {},
   "source": [
    "Here we want to check which variables we will further use to test our models. We know from EDA that total_pages_visited seems the most important variable. So we will try to train our model with only this variable, check the f1 score for the train and test, and then add other variables one by one to see if they improve the f1 scores or not. We first add new_user then age, which seemed the most important after the number of pages visited. In each case, we define a new list of features, then a list of numeric_indices and a list of categorical_indices. Then we define the X dataset to work with."
   ]
  },
  {
   "cell_type": "code",
   "execution_count": 4,
   "metadata": {
    "colab": {},
    "colab_type": "code",
    "id": "sjEHMGoY3kMB"
   },
   "outputs": [
    {
     "name": "stdout",
     "output_type": "stream",
     "text": [
      "Dataset with only 1 variable: \n",
      "        total_pages_visited\n",
      "0                         2\n",
      "1                         3\n",
      "2                        14\n",
      "3                         3\n",
      "4                         3\n",
      "...                     ...\n",
      "284575                    1\n",
      "284576                    2\n",
      "284577                    5\n",
      "284578                    4\n",
      "284579                    3\n",
      "\n",
      "[284578 rows x 1 columns]\n",
      "\n",
      "Dataset with 5 variables :\n",
      "        total_pages_visited  new_user  age  country  source\n",
      "0                         2         1   22    China  Direct\n",
      "1                         3         1   21       UK     Ads\n",
      "2                        14         0   20  Germany     Seo\n",
      "3                         3         1   23       US     Seo\n",
      "4                         3         1   28       US  Direct\n",
      "...                     ...       ...  ...      ...     ...\n",
      "284575                    1         1   36       US     Ads\n",
      "284576                    2         1   31       US     Seo\n",
      "284577                    5         1   41       US     Seo\n",
      "284578                    4         1   31       US  Direct\n",
      "284579                    3         0   26       US     Ads\n",
      "\n",
      "[284578 rows x 5 columns]\n",
      "\n",
      "Subset with  0 variables: Numerical indices:  [0] ; Categorical indices:  []\n",
      "Subset with  1 variables: Numerical indices:  [0] ; Categorical indices:  [1]\n",
      "Subset with  2 variables: Numerical indices:  [0, 2] ; Categorical indices:  [1]\n",
      "Subset with  3 variables: Numerical indices:  [0, 2] ; Categorical indices:  [1, 3]\n",
      "Subset with  4 variables: Numerical indices:  [0, 2] ; Categorical indices:  [1, 3, 4]\n"
     ]
    }
   ],
   "source": [
    "# Defining features, and features type (numerical/categorical)\n",
    "features_list = ['total_pages_visited','new_user','age','country','source']\n",
    "numeric_indices = [0,2]\n",
    "categorical_indices = [1,3,4]\n",
    "\n",
    "# Creating several lists of features for our variable study (1 variable, then 2, then 3... then 5)\n",
    "features_lists = [features_list[:i+1] for i in range(len(features_list))]\n",
    "\n",
    "# Locate the X dataset in each subset\n",
    "X_list = [data.loc[:, sublist] for sublist in features_lists]\n",
    "print(\"Dataset with only 1 variable: \")\n",
    "print(X_list[0])\n",
    "print(\"\")\n",
    "print(\"Dataset with 5 variables :\")\n",
    "print(X_list[4])\n",
    "print(\"\")\n",
    "\n",
    "# Numeric and categorical indices for each subset\n",
    "numeric_indices_list = [[i for i in numeric_indices if i in range(len(sublist))] for sublist in features_lists]\n",
    "categorical_indices_list = [[i for i in categorical_indices if i in range(len(sublist))] for sublist in features_lists]\n",
    "\n",
    "for i,num,cat in zip(range(5),numeric_indices_list,categorical_indices_list):\n",
    "    print(\"Subset with \", i, \"variables: Numerical indices: \",num,\"; Categorical indices: \",cat)"
   ]
  },
  {
   "cell_type": "markdown",
   "metadata": {},
   "source": [
    "Here we define the transformers that will be used during preprocessing."
   ]
  },
  {
   "cell_type": "code",
   "execution_count": 5,
   "metadata": {},
   "outputs": [],
   "source": [
    "numeric_transformer = StandardScaler() # for numeric features\n",
    "categorical_transformer = OneHotEncoder(drop=\"first\") # for categorical features"
   ]
  },
  {
   "cell_type": "markdown",
   "metadata": {},
   "source": [
    "Now, for each subset (1 or 2 or.. 5 variables), we divide the subset in train and test data, we preprocess them, we run the simplest model, a logistic regression, we make predictions and we assess the model with f1-score."
   ]
  },
  {
   "cell_type": "code",
   "execution_count": 6,
   "metadata": {
    "colab": {
     "base_uri": "https://localhost:8080/",
     "height": 67
    },
    "colab_type": "code",
    "id": "W8K5DQEvvQgl",
    "outputId": "d280ebc9-4d4b-4723-b9fe-32513f898abc"
   },
   "outputs": [
    {
     "name": "stdout",
     "output_type": "stream",
     "text": [
      "   Variables  F1 Score (Train)  F1 Score (Test)  Precision  Standard Deviation\n",
      "0          1            0.6950           0.6961     0.9830            0.000950\n",
      "1          2            0.7273           0.7333     0.9844            0.000581\n",
      "2          3            0.7425           0.7424     0.9852            0.000689\n",
      "3          4            0.7619           0.7671     0.9862            0.000742\n",
      "4          5            0.7626           0.7712     0.9862            0.000771\n"
     ]
    }
   ],
   "source": [
    "# Initialize lists to store results\n",
    "variables = []\n",
    "f1_train_scores = []\n",
    "f1_test_scores = []\n",
    "precision_scores = []\n",
    "std_deviations = []\n",
    "\n",
    "for X, numeric_indices, categorical_indices in zip(X_list, numeric_indices_list, categorical_indices_list):\n",
    "    \n",
    "    # Dividing the dataset in train and test (we use stratify as the target variable is not heavenly distributed)\n",
    "    X_train, X_test, Y_train, Y_test = train_test_split(X, Y, test_size=0.1, random_state=0, stratify=Y)\n",
    "\n",
    "    # Applying pipeline on X variables depending on columns\n",
    "    feature_encoder = ColumnTransformer(\n",
    "        transformers=[\n",
    "            ('cat', categorical_transformer, categorical_indices),\n",
    "            ('num', numeric_transformer, numeric_indices)\n",
    "        ]\n",
    "    )\n",
    "    X_train = feature_encoder.fit_transform(X_train)\n",
    "    X_test = feature_encoder.transform(X_test)\n",
    "\n",
    "    # Train the dataset and make predictions\n",
    "    classifier = LogisticRegression()\n",
    "    classifier.fit(X_train, Y_train)\n",
    "    Y_train_pred = classifier.predict(X_train)\n",
    "    Y_test_pred = classifier.predict(X_test)\n",
    "\n",
    "    # Calculate scores and precision\n",
    "    f1_train = np.round(f1_score(Y_train, Y_train_pred), 4)\n",
    "    f1_test = np.round(f1_score(Y_test, Y_test_pred), 4)\n",
    "    scores = cross_val_score(classifier, X_train, Y_train, cv=10)\n",
    "    precision = np.round(scores.mean(), 4)\n",
    "    std_dev = np.round(scores.std(), 6)\n",
    "\n",
    "    # Store results in lists\n",
    "    variables.append(len(numeric_indices) + len(categorical_indices))\n",
    "    f1_train_scores.append(f1_train)\n",
    "    f1_test_scores.append(f1_test)\n",
    "    precision_scores.append(precision)\n",
    "    std_deviations.append(std_dev)\n",
    "\n",
    "# Create a DataFrame with the results\n",
    "results_df = pd.DataFrame({\n",
    "    'Variables': variables,\n",
    "    'F1 Score (Train)': f1_train_scores,\n",
    "    'F1 Score (Test)': f1_test_scores,\n",
    "    'Precision': precision_scores,\n",
    "    'Standard Deviation': std_deviations\n",
    "})\n",
    "\n",
    "print(results_df)"
   ]
  },
  {
   "cell_type": "markdown",
   "metadata": {},
   "source": [
    "Every variable added to total_pages_visited is improving the f1-score of the train and test sets. So we confirm that we will use the 5 of them when testing our models later."
   ]
  },
  {
   "cell_type": "markdown",
   "metadata": {},
   "source": [
    "# Baseline Logistic Regression"
   ]
  },
  {
   "cell_type": "code",
   "execution_count": 7,
   "metadata": {},
   "outputs": [],
   "source": [
    "# Re-defining the dataset with the option chosen: 5 variables\n",
    "features_list = ['total_pages_visited','new_user','age','country','source']\n",
    "numeric_indices = [0,2]\n",
    "categorical_indices = [1,3,4]\n",
    "X = data.loc[:, features_list]\n",
    "# I don't need to redefine Y and repreprocess it\n",
    "X_train, X_test, Y_train, Y_test = train_test_split(X, Y, test_size=0.2, random_state=0, stratify=Y)\n",
    "\n",
    "feature_encoder = ColumnTransformer(\n",
    "    transformers=[\n",
    "        ('cat', categorical_transformer, categorical_indices),\n",
    "        ('num', numeric_transformer, numeric_indices)\n",
    "    ]\n",
    ")\n",
    "X_train = feature_encoder.fit_transform(X_train)\n",
    "X_test = feature_encoder.transform(X_test) # Don't fit again !!"
   ]
  },
  {
   "cell_type": "code",
   "execution_count": 8,
   "metadata": {},
   "outputs": [],
   "source": [
    "model = {\n",
    "        'name': 'Logistic Regression',\n",
    "        'model': LogisticRegression(),\n",
    "        'params': \n",
    "            {\n",
    "            'penalty': ['l1', 'l2'],                                    # Regularization type\n",
    "            'C': [0.01, 0.1, 1.0, 10.0, 100, 1000, 5000, 8000],         # Inverse of regularization strength\n",
    "            'solver': ['liblinear', 'lbfgs','newton-cg','sag','saga'],  # Optimization algorithm for smaller datasets\n",
    "            'max_iter': [100, 200, 500, 1000, 5000],                    # Maximum number of iterations to converge\n",
    "            'tol': [1e-3, 1e-4, 1e-5],                                  # Tolerance for stopping criteria\n",
    "            }\n",
    "        }"
   ]
  },
  {
   "cell_type": "code",
   "execution_count": null,
   "metadata": {},
   "outputs": [],
   "source": [
    "%%time\n",
    "\n",
    "results = [] # This is where we will save all models with metrics\n",
    "\n",
    "grid_search = GridSearchCV(model['model'], model['params'], cv=10, scoring='f1', n_jobs=-1)\n",
    "grid_search.fit(X_train, Y_train)\n",
    "\n",
    "# Evaluation and storage of performance in a variable \"results\"\n",
    "best_model = grid_search.best_estimator_\n",
    "best_params = grid_search.best_params_\n",
    "train_preds = best_model.predict(X_train)\n",
    "test_preds = best_model.predict(X_test)\n",
    "f1_train = np.round(f1_score(Y_train, train_preds), 4)\n",
    "f1_test = np.round(f1_score(Y_test, test_preds), 4)\n",
    "# scores = cross_val_score(model, X_train, Y_train, cv=10)\n",
    "# precision = np.round(scores.mean(), 4)\n",
    "# std_dev = np.round(scores.std(), 6)\n",
    "accuracy_train = accuracy_score(Y_train, train_preds)\n",
    "accuracy_test = accuracy_score(Y_test, test_preds)\n",
    "recall = recall_score(Y_test, test_preds)\n",
    "auc_roc = roc_auc_score(Y_test, test_preds)\n",
    "\n",
    "# Store the best logistic regression model from the gridsearch\n",
    "results.append({'Model': model['name'],\n",
    "                'F1 Train': f1_train,\n",
    "                'F1 Test': f1_test,\n",
    "                # 'Precision': precision,\n",
    "                # 'Std Dev': std_dev,\n",
    "                'Train Accuracy': accuracy_train,\n",
    "                'Test Accuracy': accuracy_test,\n",
    "                'Recall': recall,\n",
    "                'AUC-ROC': auc_roc,\n",
    "                'Best Model': best_model,\n",
    "                'Best Params': best_params,\n",
    "                'Train Preds': train_preds,\n",
    "                'Test Preds': test_preds\n",
    "                })"
   ]
  },
  {
   "cell_type": "code",
   "execution_count": null,
   "metadata": {},
   "outputs": [],
   "source": [
    "cv_results = grid_search.cv_results_\n",
    "\n",
    "grid_search_results = pd.DataFrame(columns=['Model', 'Mean F1 Score', 'Parameters'])\n",
    "\n",
    "for mean_score, params in zip(cv_results['mean_test_score'], cv_results['params']):\n",
    "    grid_search_results = grid_search_results.append({\n",
    "        'Model': model['name'],\n",
    "        'Mean F1 Score': mean_score,\n",
    "        'Parameters': params\n",
    "    }, ignore_index=True)"
   ]
  },
  {
   "cell_type": "code",
   "execution_count": 11,
   "metadata": {},
   "outputs": [
    {
     "data": {
      "text/html": [
       "<div>\n",
       "<style scoped>\n",
       "    .dataframe tbody tr th:only-of-type {\n",
       "        vertical-align: middle;\n",
       "    }\n",
       "\n",
       "    .dataframe tbody tr th {\n",
       "        vertical-align: top;\n",
       "    }\n",
       "\n",
       "    .dataframe thead th {\n",
       "        text-align: right;\n",
       "    }\n",
       "</style>\n",
       "<table border=\"1\" class=\"dataframe\">\n",
       "  <thead>\n",
       "    <tr style=\"text-align: right;\">\n",
       "      <th></th>\n",
       "      <th>Model</th>\n",
       "      <th>Mean F1 Score</th>\n",
       "      <th>Parameters</th>\n",
       "    </tr>\n",
       "  </thead>\n",
       "  <tbody>\n",
       "    <tr>\n",
       "      <th>1104</th>\n",
       "      <td>Logistic Regression</td>\n",
       "      <td>0.763792</td>\n",
       "      <td>{'C': 8000, 'max_iter': 200, 'penalty': 'l2', 'solver': 'sag', 'tol': 0.001}</td>\n",
       "    </tr>\n",
       "    <tr>\n",
       "      <th>1074</th>\n",
       "      <td>Logistic Regression</td>\n",
       "      <td>0.763769</td>\n",
       "      <td>{'C': 8000, 'max_iter': 100, 'penalty': 'l2', 'solver': 'sag', 'tol': 0.001}</td>\n",
       "    </tr>\n",
       "    <tr>\n",
       "      <th>822</th>\n",
       "      <td>Logistic Regression</td>\n",
       "      <td>0.763654</td>\n",
       "      <td>{'C': 1000, 'max_iter': 500, 'penalty': 'l1', 'solver': 'saga', 'tol': 0.001}</td>\n",
       "    </tr>\n",
       "    <tr>\n",
       "      <th>1047</th>\n",
       "      <td>Logistic Regression</td>\n",
       "      <td>0.763654</td>\n",
       "      <td>{'C': 5000, 'max_iter': 5000, 'penalty': 'l2', 'solver': 'saga', 'tol': 0.001}</td>\n",
       "    </tr>\n",
       "    <tr>\n",
       "      <th>1062</th>\n",
       "      <td>Logistic Regression</td>\n",
       "      <td>0.763647</td>\n",
       "      <td>{'C': 8000, 'max_iter': 100, 'penalty': 'l1', 'solver': 'saga', 'tol': 0.001}</td>\n",
       "    </tr>\n",
       "    <tr>\n",
       "      <th>300</th>\n",
       "      <td>Logistic Regression</td>\n",
       "      <td>0.763634</td>\n",
       "      <td>{'C': 1.0, 'max_iter': 100, 'penalty': 'l1', 'solver': 'liblinear', 'tol': 0.001}</td>\n",
       "    </tr>\n",
       "    <tr>\n",
       "      <th>420</th>\n",
       "      <td>Logistic Regression</td>\n",
       "      <td>0.763634</td>\n",
       "      <td>{'C': 1.0, 'max_iter': 5000, 'penalty': 'l1', 'solver': 'liblinear', 'tol': 0.001}</td>\n",
       "    </tr>\n",
       "    <tr>\n",
       "      <th>1014</th>\n",
       "      <td>Logistic Regression</td>\n",
       "      <td>0.763622</td>\n",
       "      <td>{'C': 5000, 'max_iter': 1000, 'penalty': 'l2', 'solver': 'sag', 'tol': 0.001}</td>\n",
       "    </tr>\n",
       "    <tr>\n",
       "      <th>540</th>\n",
       "      <td>Logistic Regression</td>\n",
       "      <td>0.763613</td>\n",
       "      <td>{'C': 10.0, 'max_iter': 1000, 'penalty': 'l1', 'solver': 'liblinear', 'tol': 0.001}</td>\n",
       "    </tr>\n",
       "    <tr>\n",
       "      <th>720</th>\n",
       "      <td>Logistic Regression</td>\n",
       "      <td>0.763608</td>\n",
       "      <td>{'C': 100, 'max_iter': 5000, 'penalty': 'l1', 'solver': 'liblinear', 'tol': 0.001}</td>\n",
       "    </tr>\n",
       "  </tbody>\n",
       "</table>\n",
       "</div>"
      ],
      "text/plain": [
       "                    Model  Mean F1 Score  \\\n",
       "1104  Logistic Regression       0.763792   \n",
       "1074  Logistic Regression       0.763769   \n",
       "822   Logistic Regression       0.763654   \n",
       "1047  Logistic Regression       0.763654   \n",
       "1062  Logistic Regression       0.763647   \n",
       "300   Logistic Regression       0.763634   \n",
       "420   Logistic Regression       0.763634   \n",
       "1014  Logistic Regression       0.763622   \n",
       "540   Logistic Regression       0.763613   \n",
       "720   Logistic Regression       0.763608   \n",
       "\n",
       "                                                                               Parameters  \n",
       "1104         {'C': 8000, 'max_iter': 200, 'penalty': 'l2', 'solver': 'sag', 'tol': 0.001}  \n",
       "1074         {'C': 8000, 'max_iter': 100, 'penalty': 'l2', 'solver': 'sag', 'tol': 0.001}  \n",
       "822         {'C': 1000, 'max_iter': 500, 'penalty': 'l1', 'solver': 'saga', 'tol': 0.001}  \n",
       "1047       {'C': 5000, 'max_iter': 5000, 'penalty': 'l2', 'solver': 'saga', 'tol': 0.001}  \n",
       "1062        {'C': 8000, 'max_iter': 100, 'penalty': 'l1', 'solver': 'saga', 'tol': 0.001}  \n",
       "300     {'C': 1.0, 'max_iter': 100, 'penalty': 'l1', 'solver': 'liblinear', 'tol': 0.001}  \n",
       "420    {'C': 1.0, 'max_iter': 5000, 'penalty': 'l1', 'solver': 'liblinear', 'tol': 0.001}  \n",
       "1014        {'C': 5000, 'max_iter': 1000, 'penalty': 'l2', 'solver': 'sag', 'tol': 0.001}  \n",
       "540   {'C': 10.0, 'max_iter': 1000, 'penalty': 'l1', 'solver': 'liblinear', 'tol': 0.001}  \n",
       "720    {'C': 100, 'max_iter': 5000, 'penalty': 'l1', 'solver': 'liblinear', 'tol': 0.001}  "
      ]
     },
     "metadata": {},
     "output_type": "display_data"
    }
   ],
   "source": [
    "sorted_logistic_regressions = grid_search_results.sort_values(by='Mean F1 Score', ascending=False)\n",
    "pd.set_option('display.max_colwidth', None)\n",
    "display(sorted_logistic_regressions.head(10))"
   ]
  },
  {
   "cell_type": "markdown",
   "metadata": {},
   "source": [
    "We notice here that we get smaller f1 scores that we got in the previous part testing the 5 variables (we got 0.7712 for the test). This is explained by the fact that there was no cross validation made before whereas we do a gridsearch with a cv=10 now, which is much more accurate."
   ]
  },
  {
   "cell_type": "markdown",
   "metadata": {},
   "source": [
    "# Testing more models"
   ]
  },
  {
   "cell_type": "code",
   "execution_count": 12,
   "metadata": {},
   "outputs": [],
   "source": [
    "# Models to be tested\n",
    "\n",
    "models = [\n",
    "    {\n",
    "        'name': 'SVM Linear',\n",
    "        'model': SVC(kernel='linear', probability=True),\n",
    "        'params': {} \n",
    "    },\n",
    "    {\n",
    "        'name': 'SVM RBF',\n",
    "        'model': SVC(kernel='rbf', probability=True),\n",
    "        'params': {}\n",
    "    },\n",
    "    {\n",
    "        'name': 'SVM Poly (3)',\n",
    "        'model': SVC(kernel='poly', degree=3, probability=True),\n",
    "        'params': {}\n",
    "    },\n",
    "    {\n",
    "        'name': 'Decision Tree Entropy',\n",
    "        'model': DecisionTreeClassifier(criterion=\"entropy\"),\n",
    "        'params': {\n",
    "            'max_depth': [4, 6, 8, 10],\n",
    "            'min_samples_leaf': [1, 2, 5],\n",
    "            'min_samples_split': [2, 4, 8]\n",
    "        }\n",
    "    },\n",
    "    {\n",
    "        'name': 'Decision Tree Gini',\n",
    "        'model': DecisionTreeClassifier(criterion=\"gini\"),\n",
    "        'params': {\n",
    "            'max_depth': [4, 6, 8, 10],\n",
    "            'min_samples_leaf': [1, 2, 5],\n",
    "            'min_samples_split': [2, 4, 8]\n",
    "        }\n",
    "    },\n",
    "    {\n",
    "        'name': 'Random Forest',\n",
    "        'model': RandomForestClassifier(),\n",
    "        'params': {\n",
    "            'n_estimators': [10, 50, 100, 200],\n",
    "            'max_depth': [1, 2, 4, 8],\n",
    "            'min_samples_leaf': [1, 2, 5],\n",
    "            'min_samples_split': [2, 4, 8]\n",
    "        }\n",
    "    },\n",
    "    {\n",
    "        'name': 'XGBoost',\n",
    "        'model': XGBClassifier(),\n",
    "        'params': {\n",
    "            'n_estimators': [100, 150],  # Reduced from [100, 150, 300]\n",
    "            'learning_rate': [0.1, 0.01],  # Reduced from [0.5, 0.1, 0.05, 0.01, 0.005, 0.001]\n",
    "            'max_depth': [4, 5],  # Reduced from [4, 5, 6, 7, 10]\n",
    "            'min_child_weight': [1],  # Only one value\n",
    "            # 'gamma': [0, 0.1, 0.2]\n",
    "        }\n",
    "    },\n",
    "    {\n",
    "        'name': 'CatBoost',\n",
    "        'model': CatBoostClassifier(),\n",
    "        'params': {\n",
    "            'n_estimators': [1000],  # Reduced from [1000, 5000]\n",
    "            'learning_rate': [0.1],  # Reduced from [0.01, 0.05, 0.1, 0.5, 1]\n",
    "            'depth': [6],  # Only one value\n",
    "        }\n",
    "    },\n",
    "]\n"
   ]
  },
  {
   "cell_type": "code",
   "execution_count": null,
   "metadata": {},
   "outputs": [],
   "source": [
    "%%time\n",
    "\n",
    "# Iterate over models, doing a gridsearch for choosing the best params for each model. \n",
    "for model in models:\n",
    "    model_name = model['name']\n",
    "    model_type = model['model']\n",
    "    params = model['params']\n",
    "    grid_search = GridSearchCV(model_type, params, cv=5, scoring='f1', n_jobs=-1)\n",
    "    grid_search.fit(X_train, Y_train)\n",
    "\n",
    "    # Evaluation and storage of performance in a variable \"results\"\n",
    "    best_model = grid_search.best_estimator_\n",
    "    best_params = grid_search.best_params_\n",
    "    train_preds = best_model.predict(X_train)\n",
    "    test_preds = best_model.predict(X_test)\n",
    "    f1_train = np.round(f1_score(Y_train, train_preds), 4)\n",
    "    f1_test = np.round(f1_score(Y_test, test_preds), 4)\n",
    "    # scores = cross_val_score(model, X_train, Y_train, cv=10)\n",
    "    # precision = np.round(scores.mean(), 4)\n",
    "    # std_dev = np.round(scores.std(), 6)\n",
    "    accuracy_train = accuracy_score(Y_train, train_preds)\n",
    "    accuracy_test = accuracy_score(Y_test, test_preds)\n",
    "    recall = recall_score(Y_test, test_preds)\n",
    "    auc_roc = roc_auc_score(Y_test, test_preds)\n",
    "\n",
    "    results.append({'Model': model_name,\n",
    "                    'F1 Train': f1_train,\n",
    "                    'F1 Test': f1_test,\n",
    "                    # 'Precision': precision,\n",
    "                    # 'Std Dev': std_dev,\n",
    "                    'Train Accuracy': accuracy_train,\n",
    "                    'Test Accuracy': accuracy_test,\n",
    "                    'Recall': recall,\n",
    "                    'AUC-ROC': auc_roc,\n",
    "                    'Best Model': best_model,\n",
    "                    'Best Params': best_params,\n",
    "                    'Train Preds': train_preds,\n",
    "                    'Test Preds': test_preds\n",
    "                    })"
   ]
  },
  {
   "cell_type": "code",
   "execution_count": 14,
   "metadata": {},
   "outputs": [
    {
     "name": "stdout",
     "output_type": "stream",
     "text": [
      "                   Model  F1 Train  F1 Test  Train Accuracy  Test Accuracy  \\\n",
      "0    Logistic Regression    0.7637   0.7644        0.986243       0.986190   \n",
      "7                XGBoost    0.7686   0.7605        0.986440       0.985839   \n",
      "1             SVM Linear    0.7584   0.7576        0.986133       0.985979   \n",
      "6          Random Forest    0.7631   0.7490        0.986414       0.985505   \n",
      "8               CatBoost    0.7856   0.7485        0.987468       0.985241   \n",
      "4  Decision Tree Entropy    0.7694   0.7468        0.986616       0.985189   \n",
      "2                SVM RBF    0.7540   0.7456        0.986142       0.985575   \n",
      "3           SVM Poly (3)    0.7448   0.7410        0.985843       0.985558   \n",
      "5     Decision Tree Gini    0.7594   0.7381        0.986282       0.984978   \n",
      "\n",
      "     Recall   AUC-ROC  \n",
      "0  0.694444  0.845180  \n",
      "7  0.697168  0.846314  \n",
      "1  0.679194  0.837700  \n",
      "6  0.670479  0.833243  \n",
      "8  0.680828  0.838108  \n",
      "4  0.677015  0.836238  \n",
      "2  0.655229  0.825908  \n",
      "3  0.640523  0.818791  \n",
      "5  0.656318  0.826126  \n"
     ]
    }
   ],
   "source": [
    "# Results storage in a DataFrame\n",
    "results_df = pd.DataFrame(results)\n",
    "results_df = results_df.iloc[:,:7]\n",
    "sorted_results_df = results_df.sort_values(by='F1 Test', ascending=False)\n",
    "print(sorted_results_df)"
   ]
  },
  {
   "cell_type": "markdown",
   "metadata": {},
   "source": [
    "The best model is still the logistic regression."
   ]
  },
  {
   "cell_type": "markdown",
   "metadata": {},
   "source": [
    "# Ensemble learning methods"
   ]
  },
  {
   "cell_type": "markdown",
   "metadata": {},
   "source": [
    "We already tuned the logistic regression with the gridsearch. Now, we can try to improve the f1-score using boosting and bagging ensemble learning methods. We will also try voting and stacking ensemble methods, which can mix several kinds of models. For stacking the top3 models from above (logistic regression, xgboost and SVM linear), the time exceeded more than a day, so we decided to try stacking several types of logistic regressions instead, by using the gridsearch results made previously. "
   ]
  },
  {
   "cell_type": "code",
   "execution_count": 15,
   "metadata": {},
   "outputs": [
    {
     "name": "stdout",
     "output_type": "stream",
     "text": [
      "Top 3 models:  ['Logistic Regression', 'XGBoost', 'SVM Linear']\n"
     ]
    }
   ],
   "source": [
    "# Retrieve the top3 models tested\n",
    "top3_models = sorted_results_df['Model'].head(3).tolist()\n",
    "print(\"Top 3 models: \",top3_models)\n",
    "top3_result = [result for result in results if result['Model'] in top3_models]\n",
    "\n",
    "# Retrieve interesting models of logistic regressions\n",
    "logistic_regression_top1 = {'C': 8000, 'max_iter': 200, 'penalty': 'l1', 'solver': 'saga', 'tol': 0.001}\n",
    "logistic_regression_top2 = {'C': 10.0, 'max_iter': 200, 'penalty': 'l2', 'solver': 'saga', 'tol': 0.001}\n",
    "logistic_regression_top3 = {'C': 1000, 'max_iter': 5000, 'penalty': 'l2', 'solver': 'saga', 'tol': 0.001}\n",
    "logistic_regression_top4 = \t{'C': 10.0, 'max_iter': 100, 'penalty': 'l1', 'solver': 'liblinear', 'tol': 0.001}"
   ]
  },
  {
   "cell_type": "code",
   "execution_count": 16,
   "metadata": {},
   "outputs": [],
   "source": [
    "ensemble_methods = [\n",
    "    {'name': 'Voting_top3models', 'model': VotingClassifier, 'params': {'estimators': [(model['Model'], model['Best Model']) for model in top3_result]}},\n",
    "    {'name': 'Bagging_20x_logistic_regression_top1', 'model': BaggingClassifier, 'params': {'base_estimator': LogisticRegression(**logistic_regression_top1), 'n_estimators': 20}},\n",
    "    {'name': 'Bagging_100x_logistic_regression_top1', 'model': BaggingClassifier, 'params': {'base_estimator': LogisticRegression(**logistic_regression_top1), 'n_estimators': 100}},\n",
    "    {'name': 'Adaboosting_20x_logistic_regression_top1', 'model': AdaBoostClassifier, 'params': {'base_estimator': LogisticRegression(**logistic_regression_top1), 'n_estimators': 20}},\n",
    "    {'name': 'Adaboosting_100x_logistic_regression_top1', 'model': AdaBoostClassifier, 'params': {'base_estimator': LogisticRegression(**logistic_regression_top1), 'n_estimators': 100}},\n",
    "    {'name': 'Stacking_logistic_regressions', 'model': StackingClassifier, 'params': {'estimators': [\n",
    "        ('Logistic_Regression_Top1', LogisticRegression(**logistic_regression_top1)),\n",
    "        ('Logistic_Regression_Top2', LogisticRegression(**logistic_regression_top2)),\n",
    "        ('Logistic_Regression_Top3', LogisticRegression(**logistic_regression_top3)),\n",
    "        ('Logistic_Regression_Top4', LogisticRegression(**logistic_regression_top4))\n",
    "    ]}},\n",
    "]"
   ]
  },
  {
   "cell_type": "code",
   "execution_count": null,
   "metadata": {},
   "outputs": [],
   "source": [
    "%%time\n",
    "\n",
    "for ensemble in ensemble_methods:\n",
    "    ensemble_name = ensemble['name']\n",
    "    ensemble_type = ensemble['model']\n",
    "    params = ensemble.get('params', {})\n",
    "    \n",
    "    ensemble_full_model = ensemble_type(**params)\n",
    "    ensemble_full_model.fit(X_train, Y_train)\n",
    "    \n",
    "    train_preds = ensemble_full_model.predict(X_train)\n",
    "    test_preds = ensemble_full_model.predict(X_test)\n",
    "    f1_train = np.round(f1_score(Y_train, train_preds), 4)\n",
    "    f1_test = np.round(f1_score(Y_test, test_preds), 4)\n",
    "    accuracy_train = accuracy_score(Y_train, train_preds)\n",
    "    accuracy_test = accuracy_score(Y_test, test_preds)\n",
    "    recall = recall_score(Y_test, test_preds)\n",
    "    auc_roc = roc_auc_score(Y_test, test_preds)\n",
    "    \n",
    "    results.append({\n",
    "        'Model': ensemble_name, \n",
    "        'F1 Train': f1_train,\n",
    "        'F1 Test': f1_test,\n",
    "        # 'Precision': precision,\n",
    "        # 'Std Dev': std_dev,\n",
    "        'Train Accuracy': accuracy_train,\n",
    "        'Test Accuracy': accuracy_test,\n",
    "        'Recall': recall,\n",
    "        'AUC-ROC': auc_roc,\n",
    "        'Best Model': ensemble_full_model,\n",
    "        'Best Params': params,\n",
    "        'Train Preds': train_preds,\n",
    "        'Test Preds': test_preds\n",
    "        })"
   ]
  },
  {
   "cell_type": "code",
   "execution_count": 18,
   "metadata": {},
   "outputs": [
    {
     "name": "stdout",
     "output_type": "stream",
     "text": [
      "                                        Model  F1 Train  F1 Test  \\\n",
      "0                         Logistic Regression    0.7637   0.7644   \n",
      "11      Bagging_100x_logistic_regression_top1    0.7640   0.7644   \n",
      "10       Bagging_20x_logistic_regression_top1    0.7636   0.7642   \n",
      "13  Adaboosting_100x_logistic_regression_top1    0.7633   0.7632   \n",
      "9                           Voting_top3models    0.7626   0.7607   \n",
      "7                                     XGBoost    0.7686   0.7605   \n",
      "14              Stacking_logistic_regressions    0.7606   0.7605   \n",
      "1                                  SVM Linear    0.7584   0.7576   \n",
      "12   Adaboosting_20x_logistic_regression_top1    0.7537   0.7541   \n",
      "6                               Random Forest    0.7631   0.7490   \n",
      "8                                    CatBoost    0.7856   0.7485   \n",
      "4                       Decision Tree Entropy    0.7694   0.7468   \n",
      "2                                     SVM RBF    0.7540   0.7456   \n",
      "3                                SVM Poly (3)    0.7448   0.7410   \n",
      "5                          Decision Tree Gini    0.7594   0.7381   \n",
      "\n",
      "    Train Accuracy  Test Accuracy    Recall   AUC-ROC  \n",
      "0         0.986243       0.986190  0.694444  0.845180  \n",
      "11        0.986247       0.986190  0.694444  0.845180  \n",
      "10        0.986243       0.986190  0.693900  0.844916  \n",
      "13        0.986221       0.986085  0.694989  0.845389  \n",
      "9         0.986234       0.986014  0.688998  0.842456  \n",
      "7         0.986440       0.985839  0.697168  0.846314  \n",
      "14        0.986208       0.986102  0.684096  0.840133  \n",
      "1         0.986133       0.985979  0.679194  0.837700  \n",
      "12        0.985760       0.985681  0.680828  0.838335  \n",
      "6         0.986414       0.985505  0.670479  0.833243  \n",
      "8         0.987468       0.985241  0.680828  0.838108  \n",
      "4         0.986616       0.985189  0.677015  0.836238  \n",
      "2         0.986142       0.985575  0.655229  0.825908  \n",
      "3         0.985843       0.985558  0.640523  0.818791  \n",
      "5         0.986282       0.984978  0.656318  0.826126  \n"
     ]
    }
   ],
   "source": [
    "# Results storage in a DataFrame\n",
    "results_df = pd.DataFrame(results)\n",
    "results_df = results_df.iloc[:,:7]\n",
    "sorted_results_df = results_df.sort_values(by='F1 Test', ascending=False)\n",
    "print(sorted_results_df)"
   ]
  },
  {
   "cell_type": "code",
   "execution_count": 19,
   "metadata": {},
   "outputs": [
    {
     "name": "stdout",
     "output_type": "stream",
     "text": [
      "Confusion matrix on train set:\n",
      "[[219463    857]\n",
      " [  2274   5068]]\n",
      "Confusion matrix on test set:\n",
      "[[54855   225]\n",
      " [  561  1275]]\n"
     ]
    }
   ],
   "source": [
    "selected_model_name = \"Bagging_100x_logistic_regression_top1\"\n",
    "\n",
    "# Find the selected model in the results list, retrieve predictions\n",
    "selected_model = next((d for d in results if d[\"Model\"] == selected_model_name), None)\n",
    "Y_train_pred_selected = selected_model[\"Train Preds\"]\n",
    "Y_test_pred_selected = selected_model[\"Test Preds\"]\n",
    "\n",
    "print(\"Confusion matrix on train set:\")\n",
    "print(confusion_matrix(Y_train, Y_train_pred_selected))\n",
    "print(\"Confusion matrix on test set:\")\n",
    "print(confusion_matrix(Y_test, Y_test_pred_selected))"
   ]
  },
  {
   "cell_type": "markdown",
   "metadata": {},
   "source": [
    "# Add the test_dataset and make predictions"
   ]
  },
  {
   "cell_type": "markdown",
   "metadata": {},
   "source": [
    "We concatenate our train and test set (from the first dataset: train_dataset) to train the model on a larger set of data."
   ]
  },
  {
   "cell_type": "code",
   "execution_count": 20,
   "metadata": {
    "colab": {
     "base_uri": "https://localhost:8080/",
     "height": 154
    },
    "colab_type": "code",
    "id": "M14RHUadzE2p",
    "outputId": "abcfcfec-9461-4579-adbd-f23270f984eb"
   },
   "outputs": [],
   "source": [
    "X = np.append(X_train,X_test,axis=0)\n",
    "Y = np.append(Y_train,Y_test)"
   ]
  },
  {
   "cell_type": "markdown",
   "metadata": {},
   "source": [
    "Then, we retrieve the best models from the whole project."
   ]
  },
  {
   "cell_type": "code",
   "execution_count": null,
   "metadata": {},
   "outputs": [],
   "source": [
    "top5_models_names = sorted_results_df['Model'].head(5).tolist()\n",
    "final_results = []"
   ]
  },
  {
   "cell_type": "markdown",
   "metadata": {},
   "source": [
    "Now, we fit the models on the new larger dataset, retrieve f1 score and other useful metrics.Finally, we take the file \"conversion_data_test\" that we are asked to predict, preprocess it the same way we did with the train_dataset, then we can apply our model on it and predict the labels. We save all models and predictions in the folder \"final_models\"."
   ]
  },
  {
   "cell_type": "code",
   "execution_count": null,
   "metadata": {},
   "outputs": [],
   "source": [
    "%%time\n",
    "\n",
    "for model_name in top5_models_names:\n",
    "    # Retrieve the model information in the results list\n",
    "    model_info = next(model for model in results if model['Model'] == model_name)\n",
    "    best_model = model_info['Best Model']\n",
    "\n",
    "    # Fit the best model on the new dataset (X, Y)\n",
    "    best_model.fit(X, Y)\n",
    "\n",
    "    # Make predictions on the new dataset\n",
    "    Y_pred = best_model.predict(X)\n",
    "\n",
    "    # Calculate evaluation metrics on the new dataset and store them\n",
    "    f1_final = np.round(f1_score(Y, Y_pred), 4)\n",
    "    accuracy_final = accuracy_score(Y, Y_pred)\n",
    "    recall_final = recall_score(Y, Y_pred)\n",
    "    auc_roc_final = roc_auc_score(Y, Y_pred)\n",
    "    final_results.append({\n",
    "        'Model': model_name,\n",
    "        'F1 Score': f1_final,\n",
    "        'Accuracy': accuracy_final,\n",
    "        'Recall': recall_final,\n",
    "        'AUC-ROC': auc_roc_final\n",
    "    })\n",
    "\n",
    "    # Saving model\n",
    "    joblib.dump(best_model, f'Models/final_models/{model_name}.joblib')\n",
    "\n",
    "    # Predict the the file \"conversion_data_test\"\n",
    "    data_without_labels = pd.read_csv('Data/conversion_data_test.csv') # read file\n",
    "    X_without_labels = data_without_labels.loc[:, features_list].values\n",
    "    X_without_labels = feature_encoder.transform(X_without_labels) # preprocessing\n",
    "    data = {'converted': best_model.predict(X_without_labels)} # predict\n",
    "    Y_predictions = pd.DataFrame(columns=['converted'], data=data) # one column \"converted\", no index\n",
    "    prediction_filename = f'Predictions/{model_name}_predictions.csv'\n",
    "    Y_predictions.to_csv(prediction_filename, index=False) # save into csv file"
   ]
  }
 ],
 "metadata": {
  "colab": {
   "collapsed_sections": [],
   "name": "Projets_template.ipynb",
   "provenance": []
  },
  "kernelspec": {
   "display_name": "Python 3",
   "language": "python",
   "name": "python3"
  },
  "language_info": {
   "codemirror_mode": {
    "name": "ipython",
    "version": 3
   },
   "file_extension": ".py",
   "mimetype": "text/x-python",
   "name": "python",
   "nbconvert_exporter": "python",
   "pygments_lexer": "ipython3",
   "version": "3.9.13"
  }
 },
 "nbformat": 4,
 "nbformat_minor": 4
}
