{
 "cells": [
  {
   "cell_type": "markdown",
   "metadata": {},
   "source": [
    "# **Walmart : predict weekly sales**"
   ]
  },
  {
   "cell_type": "markdown",
   "metadata": {},
   "source": [
    "## Company's Description 📇\n",
    "\n",
    "Walmart Inc. is an American multinational retail corporation that operates a chain of hypermarkets, discount department stores, and grocery stores from the United States, headquartered in Bentonville, Arkansas. The company was founded by Sam Walton in 1962.\n",
    "\n",
    "## Project 🚧\n",
    "\n",
    "Walmart's marketing service has asked you to build a machine learning model able to estimate the weekly sales in their stores, with the best precision possible on the predictions made. Such a model would help them understand better how the sales are influenced by economic indicators, and might be used to plan future marketing campaigns.\n",
    "\n",
    "## Goals 🎯\n",
    "\n",
    "The project can be divided into three steps:\n",
    "\n",
    "- Part 1 : make an EDA and all the necessary preprocessings to prepare data for machine learning\n",
    "- Part 2 : train a **linear regression model** (baseline)\n",
    "- Part 3 : avoid overfitting by training a **regularized regression model**\n",
    "\n",
    "## Scope of this project 🖼️\n",
    "\n",
    "For this project, you'll work with a dataset that contains information about weekly sales achieved by different Walmart stores, and other variables such as the unemployment rate or the fuel price, that might be useful for predicting the amount of sales. The dataset has been taken from a Kaggle competition, but we made some changes compared to the original data. Please make sure that you're using **our** custom dataset (available on JULIE). 🤓"
   ]
  },
  {
   "cell_type": "markdown",
   "metadata": {},
   "source": [
    "## Deliverable 📬\n",
    "\n",
    "To complete this project, your team should: \n",
    "\n",
    "- Create some visualizations\n",
    "- Train at least one **linear regression model** on the dataset, that predicts the amount of weekly sales as a function of the other variables\n",
    "- Assess the performances of the model by using a metric that is relevant for regression problems\n",
    "- Interpret the coefficients of the model to identify what features are important for the prediction\n",
    "- Train at least one model with **regularization (Lasso or Ridge)** to reduce overfitting\n"
   ]
  },
  {
   "cell_type": "markdown",
   "metadata": {},
   "source": [
    "# LIBRARIES"
   ]
  },
  {
   "cell_type": "code",
   "execution_count": 1,
   "metadata": {},
   "outputs": [],
   "source": [
    "import pandas as pd\n",
    "import numpy as np\n",
    "import datetime\n",
    "from sklearn.linear_model import LinearRegression\n",
    "from sklearn.model_selection import train_test_split\n",
    "from sklearn.pipeline import Pipeline\n",
    "from sklearn.impute import SimpleImputer\n",
    "from sklearn.preprocessing import  OneHotEncoder, StandardScaler, OrdinalEncoder, PolynomialFeatures\n",
    "from sklearn.compose import ColumnTransformer\n",
    "import warnings\n",
    "import matplotlib.pyplot as plt\n",
    "import seaborn as sns\n",
    "from sklearn.linear_model import LinearRegression, Ridge, Lasso\n",
    "from sklearn.model_selection import GridSearchCV, cross_val_score\n",
    "from sklearn.metrics import r2_score, mean_absolute_error, mean_squared_error\n",
    "\n",
    "import plotly.figure_factory as ff\n",
    "import plotly.express as px\n",
    "import plotly.graph_objects as go\n",
    "import plotly.io as pio\n",
    "warnings.filterwarnings(\"ignore\", category=DeprecationWarning) # to avoid deprecation warnings"
   ]
  },
  {
   "cell_type": "markdown",
   "metadata": {},
   "source": [
    "# PART 1: EDA / PREPROCESSING"
   ]
  },
  {
   "cell_type": "code",
   "execution_count": 2,
   "metadata": {},
   "outputs": [],
   "source": [
    "sales = pd.read_csv('data.csv')"
   ]
  },
  {
   "cell_type": "code",
   "execution_count": 3,
   "metadata": {},
   "outputs": [
    {
     "name": "stdout",
     "output_type": "stream",
     "text": [
      "Dataset shape:  (150, 8)\n",
      "\n",
      "Dataset infos: \n",
      "\n",
      "<class 'pandas.core.frame.DataFrame'>\n",
      "RangeIndex: 150 entries, 0 to 149\n",
      "Data columns (total 8 columns):\n",
      " #   Column        Non-Null Count  Dtype  \n",
      "---  ------        --------------  -----  \n",
      " 0   Store         150 non-null    float64\n",
      " 1   Date          132 non-null    object \n",
      " 2   Weekly_Sales  136 non-null    float64\n",
      " 3   Holiday_Flag  138 non-null    float64\n",
      " 4   Temperature   132 non-null    float64\n",
      " 5   Fuel_Price    136 non-null    float64\n",
      " 6   CPI           138 non-null    float64\n",
      " 7   Unemployment  135 non-null    float64\n",
      "dtypes: float64(7), object(1)\n",
      "memory usage: 9.5+ KB\n",
      "\n",
      "Dataset description: \n",
      "\n"
     ]
    },
    {
     "data": {
      "text/html": [
       "<div>\n",
       "<style scoped>\n",
       "    .dataframe tbody tr th:only-of-type {\n",
       "        vertical-align: middle;\n",
       "    }\n",
       "\n",
       "    .dataframe tbody tr th {\n",
       "        vertical-align: top;\n",
       "    }\n",
       "\n",
       "    .dataframe thead th {\n",
       "        text-align: right;\n",
       "    }\n",
       "</style>\n",
       "<table border=\"1\" class=\"dataframe\">\n",
       "  <thead>\n",
       "    <tr style=\"text-align: right;\">\n",
       "      <th></th>\n",
       "      <th>Store</th>\n",
       "      <th>Date</th>\n",
       "      <th>Weekly_Sales</th>\n",
       "      <th>Holiday_Flag</th>\n",
       "      <th>Temperature</th>\n",
       "      <th>Fuel_Price</th>\n",
       "      <th>CPI</th>\n",
       "      <th>Unemployment</th>\n",
       "    </tr>\n",
       "  </thead>\n",
       "  <tbody>\n",
       "    <tr>\n",
       "      <th>count</th>\n",
       "      <td>150.000000</td>\n",
       "      <td>132</td>\n",
       "      <td>1.360000e+02</td>\n",
       "      <td>138.000000</td>\n",
       "      <td>132.000000</td>\n",
       "      <td>136.000000</td>\n",
       "      <td>138.000000</td>\n",
       "      <td>135.000000</td>\n",
       "    </tr>\n",
       "    <tr>\n",
       "      <th>unique</th>\n",
       "      <td>NaN</td>\n",
       "      <td>85</td>\n",
       "      <td>NaN</td>\n",
       "      <td>NaN</td>\n",
       "      <td>NaN</td>\n",
       "      <td>NaN</td>\n",
       "      <td>NaN</td>\n",
       "      <td>NaN</td>\n",
       "    </tr>\n",
       "    <tr>\n",
       "      <th>top</th>\n",
       "      <td>NaN</td>\n",
       "      <td>19-10-2012</td>\n",
       "      <td>NaN</td>\n",
       "      <td>NaN</td>\n",
       "      <td>NaN</td>\n",
       "      <td>NaN</td>\n",
       "      <td>NaN</td>\n",
       "      <td>NaN</td>\n",
       "    </tr>\n",
       "    <tr>\n",
       "      <th>freq</th>\n",
       "      <td>NaN</td>\n",
       "      <td>4</td>\n",
       "      <td>NaN</td>\n",
       "      <td>NaN</td>\n",
       "      <td>NaN</td>\n",
       "      <td>NaN</td>\n",
       "      <td>NaN</td>\n",
       "      <td>NaN</td>\n",
       "    </tr>\n",
       "    <tr>\n",
       "      <th>mean</th>\n",
       "      <td>9.866667</td>\n",
       "      <td>NaN</td>\n",
       "      <td>1.249536e+06</td>\n",
       "      <td>0.079710</td>\n",
       "      <td>61.398106</td>\n",
       "      <td>3.320853</td>\n",
       "      <td>179.898509</td>\n",
       "      <td>7.598430</td>\n",
       "    </tr>\n",
       "    <tr>\n",
       "      <th>std</th>\n",
       "      <td>6.231191</td>\n",
       "      <td>NaN</td>\n",
       "      <td>6.474630e+05</td>\n",
       "      <td>0.271831</td>\n",
       "      <td>18.378901</td>\n",
       "      <td>0.478149</td>\n",
       "      <td>40.274956</td>\n",
       "      <td>1.577173</td>\n",
       "    </tr>\n",
       "    <tr>\n",
       "      <th>min</th>\n",
       "      <td>1.000000</td>\n",
       "      <td>NaN</td>\n",
       "      <td>2.689290e+05</td>\n",
       "      <td>0.000000</td>\n",
       "      <td>18.790000</td>\n",
       "      <td>2.514000</td>\n",
       "      <td>126.111903</td>\n",
       "      <td>5.143000</td>\n",
       "    </tr>\n",
       "    <tr>\n",
       "      <th>25%</th>\n",
       "      <td>4.000000</td>\n",
       "      <td>NaN</td>\n",
       "      <td>6.050757e+05</td>\n",
       "      <td>0.000000</td>\n",
       "      <td>45.587500</td>\n",
       "      <td>2.852250</td>\n",
       "      <td>131.970831</td>\n",
       "      <td>6.597500</td>\n",
       "    </tr>\n",
       "    <tr>\n",
       "      <th>50%</th>\n",
       "      <td>9.000000</td>\n",
       "      <td>NaN</td>\n",
       "      <td>1.261424e+06</td>\n",
       "      <td>0.000000</td>\n",
       "      <td>62.985000</td>\n",
       "      <td>3.451000</td>\n",
       "      <td>197.908893</td>\n",
       "      <td>7.470000</td>\n",
       "    </tr>\n",
       "    <tr>\n",
       "      <th>75%</th>\n",
       "      <td>15.750000</td>\n",
       "      <td>NaN</td>\n",
       "      <td>1.806386e+06</td>\n",
       "      <td>0.000000</td>\n",
       "      <td>76.345000</td>\n",
       "      <td>3.706250</td>\n",
       "      <td>214.934616</td>\n",
       "      <td>8.150000</td>\n",
       "    </tr>\n",
       "    <tr>\n",
       "      <th>max</th>\n",
       "      <td>20.000000</td>\n",
       "      <td>NaN</td>\n",
       "      <td>2.771397e+06</td>\n",
       "      <td>1.000000</td>\n",
       "      <td>91.650000</td>\n",
       "      <td>4.193000</td>\n",
       "      <td>226.968844</td>\n",
       "      <td>14.313000</td>\n",
       "    </tr>\n",
       "  </tbody>\n",
       "</table>\n",
       "</div>"
      ],
      "text/plain": [
       "             Store        Date  Weekly_Sales  Holiday_Flag  Temperature  \\\n",
       "count   150.000000         132  1.360000e+02    138.000000   132.000000   \n",
       "unique         NaN          85           NaN           NaN          NaN   \n",
       "top            NaN  19-10-2012           NaN           NaN          NaN   \n",
       "freq           NaN           4           NaN           NaN          NaN   \n",
       "mean      9.866667         NaN  1.249536e+06      0.079710    61.398106   \n",
       "std       6.231191         NaN  6.474630e+05      0.271831    18.378901   \n",
       "min       1.000000         NaN  2.689290e+05      0.000000    18.790000   \n",
       "25%       4.000000         NaN  6.050757e+05      0.000000    45.587500   \n",
       "50%       9.000000         NaN  1.261424e+06      0.000000    62.985000   \n",
       "75%      15.750000         NaN  1.806386e+06      0.000000    76.345000   \n",
       "max      20.000000         NaN  2.771397e+06      1.000000    91.650000   \n",
       "\n",
       "        Fuel_Price         CPI  Unemployment  \n",
       "count   136.000000  138.000000    135.000000  \n",
       "unique         NaN         NaN           NaN  \n",
       "top            NaN         NaN           NaN  \n",
       "freq           NaN         NaN           NaN  \n",
       "mean      3.320853  179.898509      7.598430  \n",
       "std       0.478149   40.274956      1.577173  \n",
       "min       2.514000  126.111903      5.143000  \n",
       "25%       2.852250  131.970831      6.597500  \n",
       "50%       3.451000  197.908893      7.470000  \n",
       "75%       3.706250  214.934616      8.150000  \n",
       "max       4.193000  226.968844     14.313000  "
      ]
     },
     "metadata": {},
     "output_type": "display_data"
    },
    {
     "name": "stdout",
     "output_type": "stream",
     "text": [
      "Missing values (%): \n",
      "\n",
      "Store            0.0\n",
      "Date            12.0\n",
      "Weekly_Sales     9.3\n",
      "Holiday_Flag     8.0\n",
      "Temperature     12.0\n",
      "Fuel_Price       9.3\n",
      "CPI              8.0\n",
      "Unemployment    10.0\n",
      "dtype: float64\n"
     ]
    }
   ],
   "source": [
    "print(\"Dataset shape: \",sales.shape)\n",
    "print(\"\")\n",
    "print(\"Dataset infos: \")\n",
    "print(\"\")\n",
    "sales.info()\n",
    "print(\"\")\n",
    "print(\"Dataset description: \")\n",
    "print(\"\")\n",
    "display(sales.describe(include='all'))\n",
    "print(\"Missing values (%): \")\n",
    "print(\"\")\n",
    "print(round(100*sales.isnull().sum()/sales.shape[0] , 1))"
   ]
  },
  {
   "cell_type": "markdown",
   "metadata": {},
   "source": [
    "- The **shape** shows that we have a very small dataset for machine learning (only 150 rows! very uncommon for a machine learning, not illustrating at all what we can usually encounter), with 8 columns containing all variables.\n",
    "- The **info** shows one variable, Date, which is of type object, involving some necessary processings later. \n",
    "- The **description** explains each variable: \n",
    "\n",
    "        Target variable: \n",
    "                \n",
    "                Weekly_Sales (quantitative) (from 0.3K to 2.8K)\n",
    "\n",
    "        Explanative variables:\n",
    "\n",
    "            Categorical: \n",
    "                Store (number of the store from 1 to 20)\n",
    "                Holiday_Flag (wether 0 or 1)\n",
    "\n",
    "            Quantitave:\n",
    "                Temperature (from 19 to 92 degree Farenheit)\n",
    "                Date (we will change Datetime to numerical objects)\n",
    "                Fuel_Price (from 2.5 to 4.2)\n",
    "                CPI (from 126 to 227) (\"Consumer Price Index\", reflects inflation/deflation)\n",
    "                Unemployment (from 5 to 13)\n",
    "                \n",
    "- Finally, there is a lot of **missing values**. In the target variable we will remove those rows now. For other variables, we will mostly replace them later with scikit-learn. "
   ]
  },
  {
   "cell_type": "code",
   "execution_count": 4,
   "metadata": {},
   "outputs": [
    {
     "name": "stderr",
     "output_type": "stream",
     "text": [
      "C:\\Users\\elodi\\AppData\\Local\\Temp\\ipykernel_12460\\4210236547.py:4: UserWarning: Parsing '18-02-2011' in DD/MM/YYYY format. Provide format or specify infer_datetime_format=True for consistent parsing.\n",
      "  sales['Date'] =  pd.to_datetime(sales['Date'])\n",
      "C:\\Users\\elodi\\AppData\\Local\\Temp\\ipykernel_12460\\4210236547.py:4: UserWarning: Parsing '25-03-2011' in DD/MM/YYYY format. Provide format or specify infer_datetime_format=True for consistent parsing.\n",
      "  sales['Date'] =  pd.to_datetime(sales['Date'])\n",
      "C:\\Users\\elodi\\AppData\\Local\\Temp\\ipykernel_12460\\4210236547.py:4: UserWarning: Parsing '28-05-2010' in DD/MM/YYYY format. Provide format or specify infer_datetime_format=True for consistent parsing.\n",
      "  sales['Date'] =  pd.to_datetime(sales['Date'])\n",
      "C:\\Users\\elodi\\AppData\\Local\\Temp\\ipykernel_12460\\4210236547.py:4: UserWarning: Parsing '19-08-2011' in DD/MM/YYYY format. Provide format or specify infer_datetime_format=True for consistent parsing.\n",
      "  sales['Date'] =  pd.to_datetime(sales['Date'])\n",
      "C:\\Users\\elodi\\AppData\\Local\\Temp\\ipykernel_12460\\4210236547.py:4: UserWarning: Parsing '15-10-2010' in DD/MM/YYYY format. Provide format or specify infer_datetime_format=True for consistent parsing.\n",
      "  sales['Date'] =  pd.to_datetime(sales['Date'])\n",
      "C:\\Users\\elodi\\AppData\\Local\\Temp\\ipykernel_12460\\4210236547.py:4: UserWarning: Parsing '13-05-2011' in DD/MM/YYYY format. Provide format or specify infer_datetime_format=True for consistent parsing.\n",
      "  sales['Date'] =  pd.to_datetime(sales['Date'])\n",
      "C:\\Users\\elodi\\AppData\\Local\\Temp\\ipykernel_12460\\4210236547.py:4: UserWarning: Parsing '16-03-2012' in DD/MM/YYYY format. Provide format or specify infer_datetime_format=True for consistent parsing.\n",
      "  sales['Date'] =  pd.to_datetime(sales['Date'])\n",
      "C:\\Users\\elodi\\AppData\\Local\\Temp\\ipykernel_12460\\4210236547.py:4: UserWarning: Parsing '30-04-2010' in DD/MM/YYYY format. Provide format or specify infer_datetime_format=True for consistent parsing.\n",
      "  sales['Date'] =  pd.to_datetime(sales['Date'])\n",
      "C:\\Users\\elodi\\AppData\\Local\\Temp\\ipykernel_12460\\4210236547.py:4: UserWarning: Parsing '20-08-2010' in DD/MM/YYYY format. Provide format or specify infer_datetime_format=True for consistent parsing.\n",
      "  sales['Date'] =  pd.to_datetime(sales['Date'])\n",
      "C:\\Users\\elodi\\AppData\\Local\\Temp\\ipykernel_12460\\4210236547.py:4: UserWarning: Parsing '16-12-2011' in DD/MM/YYYY format. Provide format or specify infer_datetime_format=True for consistent parsing.\n",
      "  sales['Date'] =  pd.to_datetime(sales['Date'])\n",
      "C:\\Users\\elodi\\AppData\\Local\\Temp\\ipykernel_12460\\4210236547.py:4: UserWarning: Parsing '26-03-2010' in DD/MM/YYYY format. Provide format or specify infer_datetime_format=True for consistent parsing.\n",
      "  sales['Date'] =  pd.to_datetime(sales['Date'])\n",
      "C:\\Users\\elodi\\AppData\\Local\\Temp\\ipykernel_12460\\4210236547.py:4: UserWarning: Parsing '13-01-2012' in DD/MM/YYYY format. Provide format or specify infer_datetime_format=True for consistent parsing.\n",
      "  sales['Date'] =  pd.to_datetime(sales['Date'])\n",
      "C:\\Users\\elodi\\AppData\\Local\\Temp\\ipykernel_12460\\4210236547.py:4: UserWarning: Parsing '20-05-2011' in DD/MM/YYYY format. Provide format or specify infer_datetime_format=True for consistent parsing.\n",
      "  sales['Date'] =  pd.to_datetime(sales['Date'])\n",
      "C:\\Users\\elodi\\AppData\\Local\\Temp\\ipykernel_12460\\4210236547.py:4: UserWarning: Parsing '16-04-2010' in DD/MM/YYYY format. Provide format or specify infer_datetime_format=True for consistent parsing.\n",
      "  sales['Date'] =  pd.to_datetime(sales['Date'])\n",
      "C:\\Users\\elodi\\AppData\\Local\\Temp\\ipykernel_12460\\4210236547.py:4: UserWarning: Parsing '26-08-2011' in DD/MM/YYYY format. Provide format or specify infer_datetime_format=True for consistent parsing.\n",
      "  sales['Date'] =  pd.to_datetime(sales['Date'])\n",
      "C:\\Users\\elodi\\AppData\\Local\\Temp\\ipykernel_12460\\4210236547.py:4: UserWarning: Parsing '23-09-2011' in DD/MM/YYYY format. Provide format or specify infer_datetime_format=True for consistent parsing.\n",
      "  sales['Date'] =  pd.to_datetime(sales['Date'])\n",
      "C:\\Users\\elodi\\AppData\\Local\\Temp\\ipykernel_12460\\4210236547.py:4: UserWarning: Parsing '15-04-2011' in DD/MM/YYYY format. Provide format or specify infer_datetime_format=True for consistent parsing.\n",
      "  sales['Date'] =  pd.to_datetime(sales['Date'])\n",
      "C:\\Users\\elodi\\AppData\\Local\\Temp\\ipykernel_12460\\4210236547.py:4: UserWarning: Parsing '24-06-2011' in DD/MM/YYYY format. Provide format or specify infer_datetime_format=True for consistent parsing.\n",
      "  sales['Date'] =  pd.to_datetime(sales['Date'])\n",
      "C:\\Users\\elodi\\AppData\\Local\\Temp\\ipykernel_12460\\4210236547.py:4: UserWarning: Parsing '27-04-2012' in DD/MM/YYYY format. Provide format or specify infer_datetime_format=True for consistent parsing.\n",
      "  sales['Date'] =  pd.to_datetime(sales['Date'])\n",
      "C:\\Users\\elodi\\AppData\\Local\\Temp\\ipykernel_12460\\4210236547.py:4: UserWarning: Parsing '14-09-2012' in DD/MM/YYYY format. Provide format or specify infer_datetime_format=True for consistent parsing.\n",
      "  sales['Date'] =  pd.to_datetime(sales['Date'])\n",
      "C:\\Users\\elodi\\AppData\\Local\\Temp\\ipykernel_12460\\4210236547.py:4: UserWarning: Parsing '24-02-2012' in DD/MM/YYYY format. Provide format or specify infer_datetime_format=True for consistent parsing.\n",
      "  sales['Date'] =  pd.to_datetime(sales['Date'])\n",
      "C:\\Users\\elodi\\AppData\\Local\\Temp\\ipykernel_12460\\4210236547.py:4: UserWarning: Parsing '30-07-2010' in DD/MM/YYYY format. Provide format or specify infer_datetime_format=True for consistent parsing.\n",
      "  sales['Date'] =  pd.to_datetime(sales['Date'])\n",
      "C:\\Users\\elodi\\AppData\\Local\\Temp\\ipykernel_12460\\4210236547.py:4: UserWarning: Parsing '30-03-2012' in DD/MM/YYYY format. Provide format or specify infer_datetime_format=True for consistent parsing.\n",
      "  sales['Date'] =  pd.to_datetime(sales['Date'])\n",
      "C:\\Users\\elodi\\AppData\\Local\\Temp\\ipykernel_12460\\4210236547.py:4: UserWarning: Parsing '25-06-2010' in DD/MM/YYYY format. Provide format or specify infer_datetime_format=True for consistent parsing.\n",
      "  sales['Date'] =  pd.to_datetime(sales['Date'])\n",
      "C:\\Users\\elodi\\AppData\\Local\\Temp\\ipykernel_12460\\4210236547.py:4: UserWarning: Parsing '27-08-2010' in DD/MM/YYYY format. Provide format or specify infer_datetime_format=True for consistent parsing.\n",
      "  sales['Date'] =  pd.to_datetime(sales['Date'])\n",
      "C:\\Users\\elodi\\AppData\\Local\\Temp\\ipykernel_12460\\4210236547.py:4: UserWarning: Parsing '17-02-2012' in DD/MM/YYYY format. Provide format or specify infer_datetime_format=True for consistent parsing.\n",
      "  sales['Date'] =  pd.to_datetime(sales['Date'])\n",
      "C:\\Users\\elodi\\AppData\\Local\\Temp\\ipykernel_12460\\4210236547.py:4: UserWarning: Parsing '17-12-2010' in DD/MM/YYYY format. Provide format or specify infer_datetime_format=True for consistent parsing.\n",
      "  sales['Date'] =  pd.to_datetime(sales['Date'])\n",
      "C:\\Users\\elodi\\AppData\\Local\\Temp\\ipykernel_12460\\4210236547.py:4: UserWarning: Parsing '19-10-2012' in DD/MM/YYYY format. Provide format or specify infer_datetime_format=True for consistent parsing.\n",
      "  sales['Date'] =  pd.to_datetime(sales['Date'])\n",
      "C:\\Users\\elodi\\AppData\\Local\\Temp\\ipykernel_12460\\4210236547.py:4: UserWarning: Parsing '18-11-2011' in DD/MM/YYYY format. Provide format or specify infer_datetime_format=True for consistent parsing.\n",
      "  sales['Date'] =  pd.to_datetime(sales['Date'])\n",
      "C:\\Users\\elodi\\AppData\\Local\\Temp\\ipykernel_12460\\4210236547.py:4: UserWarning: Parsing '24-09-2010' in DD/MM/YYYY format. Provide format or specify infer_datetime_format=True for consistent parsing.\n",
      "  sales['Date'] =  pd.to_datetime(sales['Date'])\n",
      "C:\\Users\\elodi\\AppData\\Local\\Temp\\ipykernel_12460\\4210236547.py:4: UserWarning: Parsing '19-11-2010' in DD/MM/YYYY format. Provide format or specify infer_datetime_format=True for consistent parsing.\n",
      "  sales['Date'] =  pd.to_datetime(sales['Date'])\n",
      "C:\\Users\\elodi\\AppData\\Local\\Temp\\ipykernel_12460\\4210236547.py:4: UserWarning: Parsing '27-05-2011' in DD/MM/YYYY format. Provide format or specify infer_datetime_format=True for consistent parsing.\n",
      "  sales['Date'] =  pd.to_datetime(sales['Date'])\n",
      "C:\\Users\\elodi\\AppData\\Local\\Temp\\ipykernel_12460\\4210236547.py:4: UserWarning: Parsing '15-07-2011' in DD/MM/YYYY format. Provide format or specify infer_datetime_format=True for consistent parsing.\n",
      "  sales['Date'] =  pd.to_datetime(sales['Date'])\n",
      "C:\\Users\\elodi\\AppData\\Local\\Temp\\ipykernel_12460\\4210236547.py:4: UserWarning: Parsing '14-05-2010' in DD/MM/YYYY format. Provide format or specify infer_datetime_format=True for consistent parsing.\n",
      "  sales['Date'] =  pd.to_datetime(sales['Date'])\n",
      "C:\\Users\\elodi\\AppData\\Local\\Temp\\ipykernel_12460\\4210236547.py:4: UserWarning: Parsing '18-06-2010' in DD/MM/YYYY format. Provide format or specify infer_datetime_format=True for consistent parsing.\n",
      "  sales['Date'] =  pd.to_datetime(sales['Date'])\n",
      "C:\\Users\\elodi\\AppData\\Local\\Temp\\ipykernel_12460\\4210236547.py:4: UserWarning: Parsing '22-06-2012' in DD/MM/YYYY format. Provide format or specify infer_datetime_format=True for consistent parsing.\n",
      "  sales['Date'] =  pd.to_datetime(sales['Date'])\n",
      "C:\\Users\\elodi\\AppData\\Local\\Temp\\ipykernel_12460\\4210236547.py:4: UserWarning: Parsing '26-02-2010' in DD/MM/YYYY format. Provide format or specify infer_datetime_format=True for consistent parsing.\n",
      "  sales['Date'] =  pd.to_datetime(sales['Date'])\n",
      "C:\\Users\\elodi\\AppData\\Local\\Temp\\ipykernel_12460\\4210236547.py:4: UserWarning: Parsing '31-12-2010' in DD/MM/YYYY format. Provide format or specify infer_datetime_format=True for consistent parsing.\n",
      "  sales['Date'] =  pd.to_datetime(sales['Date'])\n",
      "C:\\Users\\elodi\\AppData\\Local\\Temp\\ipykernel_12460\\4210236547.py:4: UserWarning: Parsing '19-02-2010' in DD/MM/YYYY format. Provide format or specify infer_datetime_format=True for consistent parsing.\n",
      "  sales['Date'] =  pd.to_datetime(sales['Date'])\n",
      "C:\\Users\\elodi\\AppData\\Local\\Temp\\ipykernel_12460\\4210236547.py:4: UserWarning: Parsing '20-01-2012' in DD/MM/YYYY format. Provide format or specify infer_datetime_format=True for consistent parsing.\n",
      "  sales['Date'] =  pd.to_datetime(sales['Date'])\n",
      "C:\\Users\\elodi\\AppData\\Local\\Temp\\ipykernel_12460\\4210236547.py:4: UserWarning: Parsing '26-11-2010' in DD/MM/YYYY format. Provide format or specify infer_datetime_format=True for consistent parsing.\n",
      "  sales['Date'] =  pd.to_datetime(sales['Date'])\n",
      "C:\\Users\\elodi\\AppData\\Local\\Temp\\ipykernel_12460\\4210236547.py:4: UserWarning: Parsing '20-04-2012' in DD/MM/YYYY format. Provide format or specify infer_datetime_format=True for consistent parsing.\n",
      "  sales['Date'] =  pd.to_datetime(sales['Date'])\n",
      "C:\\Users\\elodi\\AppData\\Local\\Temp\\ipykernel_12460\\4210236547.py:4: UserWarning: Parsing '17-09-2010' in DD/MM/YYYY format. Provide format or specify infer_datetime_format=True for consistent parsing.\n",
      "  sales['Date'] =  pd.to_datetime(sales['Date'])\n",
      "C:\\Users\\elodi\\AppData\\Local\\Temp\\ipykernel_12460\\4210236547.py:4: UserWarning: Parsing '29-07-2011' in DD/MM/YYYY format. Provide format or specify infer_datetime_format=True for consistent parsing.\n",
      "  sales['Date'] =  pd.to_datetime(sales['Date'])\n",
      "C:\\Users\\elodi\\AppData\\Local\\Temp\\ipykernel_12460\\4210236547.py:4: UserWarning: Parsing '22-07-2011' in DD/MM/YYYY format. Provide format or specify infer_datetime_format=True for consistent parsing.\n",
      "  sales['Date'] =  pd.to_datetime(sales['Date'])\n",
      "C:\\Users\\elodi\\AppData\\Local\\Temp\\ipykernel_12460\\4210236547.py:4: UserWarning: Parsing '22-04-2011' in DD/MM/YYYY format. Provide format or specify infer_datetime_format=True for consistent parsing.\n",
      "  sales['Date'] =  pd.to_datetime(sales['Date'])\n",
      "C:\\Users\\elodi\\AppData\\Local\\Temp\\ipykernel_12460\\4210236547.py:4: UserWarning: Parsing '25-05-2012' in DD/MM/YYYY format. Provide format or specify infer_datetime_format=True for consistent parsing.\n",
      "  sales['Date'] =  pd.to_datetime(sales['Date'])\n"
     ]
    }
   ],
   "source": [
    "# Removal of missing values in target variable: \n",
    "sales = sales[sales['Weekly_Sales'].isna() == False]\n",
    "# Change variable Date to be able to include it in machine learning\n",
    "sales['Date'] =  pd.to_datetime(sales['Date'])\n",
    "sales['Year'] = sales.Date.dt.year\n",
    "sales['Month'] = sales.Date.dt.month\n",
    "sales['Day'] = sales.Date.dt.day\n",
    "sales['Day_of_week'] = sales.Date.dt.weekday\n",
    "sales = sales.drop(columns=['Date'])"
   ]
  },
  {
   "cell_type": "markdown",
   "metadata": {},
   "source": [
    "Now we can already have a look at all variables. First, we see on the graph below that the target variable is evenly distributed and does not have outliers."
   ]
  },
  {
   "cell_type": "code",
   "execution_count": 5,
   "metadata": {},
   "outputs": [
    {
     "data": {
      "image/png": "[encoded data removed]",
      "text/plain": [
       "<Figure size 1200x600 with 2 Axes>"
      ]
     },
     "metadata": {},
     "output_type": "display_data"
    }
   ],
   "source": [
    "fig, axes = plt.subplots(nrows=1, ncols=2, figsize=(12, 6))\n",
    "\n",
    "# Histogram\n",
    "axes[0].hist(sales['Weekly_Sales'], bins=20, color='skyblue', edgecolor='black')\n",
    "axes[0].set_title('Distribution')\n",
    "axes[0].set_xlabel('Weekly Sales')\n",
    "axes[0].set_ylabel('Frequency')\n",
    "\n",
    "# Boxplot\n",
    "sns.boxplot(data=sales, y='Weekly_Sales', ax=axes[1], color='lightgreen')\n",
    "axes[1].set_title('Boxplot')\n",
    "axes[1].set_ylabel('Weekly Sales')\n",
    "\n",
    "plt.suptitle('Target variable: Weekly_Sales')\n",
    "plt.tight_layout()\n",
    "plt.show()"
   ]
  },
  {
   "cell_type": "markdown",
   "metadata": {},
   "source": [
    "**Categorical variables**: Below, we can see that we have data for the 20 stores even though the data is not well distributed. For the variable Holiday_Flag, the data is very imbalanced: the category 1 (meaning it is a holiday) represents only 6.62% of this variable."
   ]
  },
  {
   "cell_type": "code",
   "execution_count": 6,
   "metadata": {},
   "outputs": [
    {
     "data": {
      "image/png": "[encoded data removed]",
      "text/plain": [
       "<Figure size 1200x600 with 2 Axes>"
      ]
     },
     "metadata": {},
     "output_type": "display_data"
    },
    {
     "name": "stdout",
     "output_type": "stream",
     "text": [
      "Percentage of holiday flag: 6.62 %\n"
     ]
    }
   ],
   "source": [
    "fig, axes = plt.subplots(nrows=1, ncols=2, figsize=(12, 6))\n",
    "\n",
    "# Bar chart for \"Store\"\n",
    "store_counts = sales['Store'].value_counts()\n",
    "sns.barplot(x=store_counts.index, y=store_counts.values, ax=axes[0], palette='pastel')\n",
    "axes[0].set_title('Stores')\n",
    "axes[0].set_xlabel('Store')\n",
    "axes[0].set_ylabel('Count')\n",
    "axes[0].tick_params(axis='x', rotation=45)\n",
    "\n",
    "# Bar chart for \"Holiday_Flag\"\n",
    "holiday_counts = sales['Holiday_Flag'].value_counts()\n",
    "sns.barplot(x=holiday_counts.index, y=holiday_counts.values, ax=axes[1], palette='bright')\n",
    "axes[1].set_title('Holiday_Flag')\n",
    "axes[1].set_xlabel('Holiday_Flag')\n",
    "axes[1].set_ylabel('Count')\n",
    "\n",
    "plt.suptitle('Categorical features')\n",
    "plt.tight_layout()\n",
    "plt.show()\n",
    "\n",
    "# Percentage of 'Holiday_Flag' with value 1\n",
    "holiday_flag_counts = sales['Holiday_Flag'].value_counts()\n",
    "percentage_holiday_flag_1 = (holiday_flag_counts[1] / len(sales['Holiday_Flag'])) * 100\n",
    "print(f\"Percentage of holiday flag: {percentage_holiday_flag_1:.2f} %\")"
   ]
  },
  {
   "cell_type": "markdown",
   "metadata": {},
   "source": [
    "**Quantitative variables**\n",
    "\n",
    "We can see here some outliers."
   ]
  },
  {
   "cell_type": "code",
   "execution_count": 7,
   "metadata": {},
   "outputs": [
    {
     "data": {
      "image/png": "[encoded data removed]",
      "text/plain": [
       "<Figure size 1600x800 with 8 Axes>"
      ]
     },
     "metadata": {},
     "output_type": "display_data"
    }
   ],
   "source": [
    "fig, axes = plt.subplots(nrows=2, ncols=4, figsize=(16, 8))\n",
    "\n",
    "# First row - Histograms\n",
    "sns.histplot(data=sales, x='Temperature', kde=True, ax=axes[0, 0], color='skyblue', edgecolor='black')\n",
    "axes[0, 0].set_title('Temperature')\n",
    "axes[0, 0].set_xlabel('Temperature')\n",
    "axes[0, 0].set_ylabel('Frequency')\n",
    "\n",
    "sns.histplot(data=sales, x='Fuel_Price', kde=True, ax=axes[0, 1], color='lightgreen', edgecolor='black')\n",
    "axes[0, 1].set_title('Fuel_Price')\n",
    "axes[0, 1].set_xlabel('Fuel Price')\n",
    "axes[0, 1].set_ylabel('Frequency')\n",
    "\n",
    "sns.histplot(data=sales, x='CPI', kde=True, ax=axes[0, 2], color='salmon', edgecolor='black')\n",
    "axes[0, 2].set_title('CPI')\n",
    "axes[0, 2].set_xlabel('CPI')\n",
    "axes[0, 2].set_ylabel('Frequency')\n",
    "\n",
    "sns.histplot(data=sales, x='Unemployment', kde=True, ax=axes[0, 3], color='orange', edgecolor='black')\n",
    "axes[0, 3].set_title('Unemployment')\n",
    "axes[0, 3].set_xlabel('Unemployment')\n",
    "axes[0, 3].set_ylabel('Frequency')\n",
    "\n",
    "# Second row - Boxplots\n",
    "sns.boxplot(data=sales, y='Temperature', ax=axes[1, 0], color='skyblue')\n",
    "axes[1, 0].set_xlabel('Temperature')\n",
    "axes[1, 0].set_ylabel('Temperature')\n",
    "\n",
    "sns.boxplot(data=sales, y='Fuel_Price', ax=axes[1, 1], color='lightgreen')\n",
    "axes[1, 1].set_xlabel('Fuel Price')\n",
    "axes[1, 1].set_ylabel('Fuel Price')\n",
    "\n",
    "sns.boxplot(data=sales, y='CPI', ax=axes[1, 2], color='salmon')\n",
    "axes[1, 2].set_xlabel('CPI')\n",
    "axes[1, 2].set_ylabel('CPI')\n",
    "\n",
    "sns.boxplot(data=sales, y='Unemployment', ax=axes[1, 3], color='orange')\n",
    "axes[1, 3].set_xlabel('Unemployment')\n",
    "axes[1, 3].set_ylabel('Unemployment')\n",
    "\n",
    "plt.suptitle('Quantitative Features')\n",
    "plt.tight_layout()\n",
    "plt.show()\n"
   ]
  },
  {
   "attachments": {},
   "cell_type": "markdown",
   "metadata": {},
   "source": [
    "**Outliers removal :**\n",
    "\n",
    "In this project, will be considered as outliers all the numeric features that don't fall within the range : $[\\bar{X} - 3\\sigma, \\bar{X} + 3\\sigma]$. This concerns the columns : Temperature, Fuel_price, CPI and Unemployment. Two methods can be employed: removal of outliers in parallel or sequentially. In the first case, we calculate the mean and standard deviation of the 4 variables, then we remove outliers with the above formula. In the second case, we calculate mean and standard deviation of a first variable, remove outliers of this variable with the formula, then from the new dataset created we calculate the mean and standard deviation of a second variable, remove its outliers, etc sequentially. Both methods can be used. With the one in parallel, we might create new outliers ; with the sequential method, we are sure to get rid of all outliers but we loose a lot of data (in our case, from 150 to 90 rows, which is really few for machine learning). We will choose the sequential method, as it seems the most appropriate for a real case study (here the case is anyway not \"real\", starting from 150 rows)."
   ]
  },
  {
   "cell_type": "code",
   "execution_count": 8,
   "metadata": {},
   "outputs": [
    {
     "name": "stdout",
     "output_type": "stream",
     "text": [
      "136\n",
      "125\n",
      "110\n",
      "102\n",
      "90\n"
     ]
    }
   ],
   "source": [
    "# First method: outliers removal in PARALLEL\n",
    "\n",
    "# def remove_outliers(df, columns):\n",
    "#     for col in columns:\n",
    "#         mean = df[col].mean()\n",
    "#         std = df[col].std()\n",
    "#         lower_range = mean - 3 * std\n",
    "#         upper_range = mean + 3 * std\n",
    "#         outliers = df[(df[col] < lower_range) | (df[col] > upper_range)]\n",
    "#         df.drop(outliers.index, inplace=True)\n",
    "#     return df\n",
    "# sales = remove_outliers(sales, columns=['Temperature', 'Fuel_Price', 'CPI', 'Unemployment'])\n",
    "# print(len(sales))\n",
    "\n",
    "# Second method: outliers removal SEQUENTIALLY\n",
    "\n",
    "print(len(sales))\n",
    "CPI_to_keep = (sales['CPI'] > (sales['CPI'].mean() - 3 * sales['CPI'].std())) & (sales['CPI'] < (sales['CPI'].mean() + 3 * sales['CPI'].std()))\n",
    "sales = sales.loc[CPI_to_keep,:]\n",
    "print(len(sales))\n",
    "\n",
    "Temperature_to_keep = (sales['Temperature'] > (sales['Temperature'].mean() - 3 * sales['Temperature'].std())) & (sales['Temperature'] < (sales['Temperature'].mean() + 3 * sales['Temperature'].std()))\n",
    "sales = sales.loc[Temperature_to_keep,:]\n",
    "print(len(sales))\n",
    "\n",
    "Fuel_Price_to_keep = (sales['Fuel_Price'] > (sales['Fuel_Price'].mean() - 3 * sales['Fuel_Price'].std())) & (sales['Fuel_Price'] < (sales['Fuel_Price'].mean() + 3 * sales['Fuel_Price'].std()))\n",
    "sales = sales.loc[Fuel_Price_to_keep,:]\n",
    "print(len(sales))\n",
    "\n",
    "Unemployment_to_keep = (sales['Unemployment'] > (sales['Unemployment'].mean() - 3 * sales['Unemployment'].std())) & (sales['Unemployment'] < (sales['Unemployment'].mean() + 3 * sales['Unemployment'].std()))\n",
    "sales = sales.loc[Unemployment_to_keep,:]\n",
    "print(len(sales))"
   ]
  },
  {
   "cell_type": "code",
   "execution_count": 9,
   "metadata": {},
   "outputs": [
    {
     "name": "stdout",
     "output_type": "stream",
     "text": [
      "Store            0.0\n",
      "Weekly_Sales     0.0\n",
      "Holiday_Flag    11.1\n",
      "Temperature      0.0\n",
      "Fuel_Price       0.0\n",
      "CPI              0.0\n",
      "Unemployment     0.0\n",
      "Year            11.1\n",
      "Month           11.1\n",
      "Day             11.1\n",
      "Day_of_week     11.1\n",
      "dtype: float64\n"
     ]
    }
   ],
   "source": [
    "valeursnulles = round(100*sales.isnull().sum()/sales.shape[0] , 1)\n",
    "print(valeursnulles)"
   ]
  },
  {
   "cell_type": "markdown",
   "metadata": {},
   "source": [
    "If we look at the **Date variables**, we can see that most sales happen on day 4 (friday), and that sales increase in December (Christmas), decrease a lot in January (after Christmas), there is a pick in March (sales?), then it is quite high before summer (April, May, June). Concerning the year, we have only 3 years represented, sales decrease each year but not significatively."
   ]
  },
  {
   "cell_type": "code",
   "execution_count": 10,
   "metadata": {},
   "outputs": [
    {
     "data": {
      "image/png": "[encoded data removed]",
      "text/plain": [
       "<Figure size 1600x500 with 4 Axes>"
      ]
     },
     "metadata": {},
     "output_type": "display_data"
    }
   ],
   "source": [
    "fig, axes = plt.subplots(nrows=1, ncols=4, figsize=(16, 5))\n",
    "\n",
    "# Bar chart for \"Day_of_week\"\n",
    "sns.countplot(data=sales, x='Day_of_week', ax=axes[0], palette='pastel')\n",
    "axes[0].set_title('Day_of_week')\n",
    "axes[0].set_xlabel('Day of Week')\n",
    "axes[0].set_ylabel('Count')\n",
    "\n",
    "# Bar chart for \"Month\"\n",
    "sns.countplot(data=sales, x='Month', ax=axes[1], palette='bright')\n",
    "axes[1].set_title('Month')\n",
    "axes[1].set_xlabel('Month')\n",
    "axes[1].set_ylabel('Count')\n",
    "\n",
    "# Bar chart for \"Year\"\n",
    "sns.countplot(data=sales, x='Year', ax=axes[2], palette='deep')\n",
    "axes[2].set_title('Year')\n",
    "axes[2].set_xlabel('Year')\n",
    "axes[2].set_ylabel('Count')\n",
    "\n",
    "# Histogram for \"Day\"\n",
    "sns.histplot(data=sales, x='Day', kde=True, ax=axes[3], color='skyblue', edgecolor='black')\n",
    "axes[3].set_title('Day')\n",
    "axes[3].set_xlabel('Day')\n",
    "axes[3].set_ylabel('Frequency')\n",
    "\n",
    "# Set the title for the entire subplot\n",
    "plt.suptitle('Bar Charts and Histogram for Day_of_week, Month, Year, and Day')\n",
    "\n",
    "# Adjust layout and display the plot\n",
    "plt.tight_layout()\n",
    "plt.show()\n"
   ]
  },
  {
   "cell_type": "markdown",
   "metadata": {},
   "source": [
    "Looking at pairwise dependencies and matrix correlation below, it seems that CPI is the most correlated variable with Weekly_Sales. Then come Day_of_week and Store, then come Temperature and Unemployment. Holiday_Flag does not seem correlated at all, which is surprising, but it could also have a non linear correlation. We also observe that there might be multicolinearity between exaplanative variables. Indeed, Fuel_Price / Year have a strong correlation (0.85!!), CPI / Store and Month / Holiday_Flag have a strong anti-correlation. We might have to remove some of those variables or proceed with a PCA (Principal Component Analysis) to handle this problem better."
   ]
  },
  {
   "cell_type": "code",
   "execution_count": 11,
   "metadata": {},
   "outputs": [
    {
     "data": {
      "application/vnd.plotly.v1+json": {
       "config": {
        "plotlyServerURL": "https://plot.ly"
       },
       "data": [
        {
         "dimensions": [
          {
           "axis": {
            "matches": true
           },
           "label": "Store",
           "values": [
            6,
            13,
            6,
            15,
            20,
            3,
            8,
            18,
            7,
            1,
            17,
            6,
            18,
            7,
            5,
            18,
            19,
            19,
            17,
            16,
            17,
            7,
            19,
            3,
            4,
            5,
            18,
            7,
            1,
            2,
            5,
            19,
            1,
            16,
            13,
            2,
            14,
            10,
            13,
            8,
            14,
            10,
            5,
            4,
            10,
            18,
            3,
            13,
            1,
            20,
            15,
            1,
            9,
            11,
            15,
            2,
            3,
            20,
            2,
            9,
            14,
            1,
            13,
            3,
            18,
            4,
            3,
            19,
            8,
            20,
            11,
            7,
            9,
            8,
            5,
            7,
            3,
            16,
            13,
            18,
            13,
            4,
            4,
            10,
            6,
            7,
            3,
            3,
            14,
            19
           ]
          },
          {
           "axis": {
            "matches": true
           },
           "label": "Weekly_Sales",
           "values": [
            1572117.54,
            1807545.43,
            1644470.66,
            695396.19,
            2203523.2,
            418925.47,
            895066.5,
            1029618.1,
            414094.05,
            1677472.78,
            829207.27,
            1498080.16,
            1205307.5,
            561145.14,
            290930.01,
            1074079,
            1427023.45,
            1405007.44,
            919878.34,
            435397.19,
            757738.76,
            563460.77,
            1266564.94,
            365248.94,
            2008344.92,
            311906.7,
            961186.23,
            629994.47,
            1641957.44,
            1861802.7,
            268929.03,
            1549018.68,
            1624383.75,
            485095.41,
            2035431.39,
            1916812.74,
            1879451.23,
            1805999.79,
            1847430.96,
            888816.78,
            2020550.99,
            1990371.02,
            313358.15,
            2771397.17,
            1714309.9,
            1166117.85,
            461622.22,
            2461468.35,
            1449142.92,
            1973135.87,
            570611.23,
            1539483.7,
            519823.3,
            1569607.94,
            607475.44,
            1758050.79,
            431985.36,
            2045837.55,
            1797732.56,
            485389.15,
            1953544.76,
            1494251.5,
            2018314.71,
            364076.85,
            1087051.26,
            2302504.86,
            419497.95,
            1366395.96,
            994801.4,
            1799737.79,
            1757242.51,
            457340.06,
            513073.87,
            836707.85,
            275142.17,
            597876.55,
            398838.97,
            614253.33,
            1970341.38,
            1048134.24,
            2025582.62,
            2036231.39,
            2066541.86,
            1831676.03,
            1639358.93,
            532739.77,
            396968.8,
            424513.08,
            2248645.59,
            1255087.26
           ]
          },
          {
           "axis": {
            "matches": true
           },
           "label": "Holiday_Flag",
           "values": [
            null,
            0,
            0,
            0,
            0,
            0,
            0,
            0,
            0,
            0,
            0,
            null,
            0,
            0,
            0,
            0,
            0,
            0,
            0,
            0,
            0,
            1,
            0,
            0,
            0,
            0,
            0,
            null,
            1,
            0,
            0,
            0,
            null,
            0,
            0,
            0,
            null,
            0,
            0,
            0,
            0,
            0,
            0,
            0,
            null,
            0,
            0,
            0,
            null,
            0,
            0,
            0,
            0,
            0,
            0,
            0,
            0,
            0,
            0,
            null,
            0,
            0,
            0,
            0,
            0,
            0,
            0,
            0,
            1,
            1,
            1,
            0,
            null,
            0,
            0,
            1,
            0,
            0,
            0,
            0,
            0,
            0,
            null,
            0,
            0,
            0,
            0,
            0,
            0,
            0
           ]
          },
          {
           "axis": {
            "matches": true
           },
           "label": "Temperature",
           "values": [
            59.61,
            42.38,
            78.89,
            69.8,
            39.93,
            60.12,
            82.92,
            52.02,
            36.61,
            64.74,
            60.07,
            68.91,
            21.33,
            38.26,
            77.38,
            50.97,
            39.07,
            50.76,
            44.82,
            43.95,
            45.22,
            18.79,
            33.26,
            80.19,
            81.85,
            60.71,
            50.43,
            57.6,
            38.51,
            54.63,
            82.46,
            66.25,
            91.65,
            48.29,
            61.11,
            59.69,
            41.76,
            86.87,
            63.6,
            74.92,
            36.85,
            57.62,
            69.17,
            36.44,
            43.43,
            73.67,
            45.71,
            36.78,
            85.22,
            75.17,
            47.42,
            62.25,
            49.96,
            52.77,
            79.97,
            44.69,
            75.19,
            39.79,
            76.42,
            78.51,
            78.47,
            74.78,
            78.82,
            83.52,
            69.75,
            42.4,
            82.7,
            72.83,
            33.34,
            28.85,
            69.9,
            39.3,
            82.99,
            75.32,
            89.42,
            57.84,
            63.91,
            61.79,
            75.95,
            73.25,
            52.5,
            82.84,
            84.59,
            88.44,
            74.24,
            50.6,
            78.53,
            73.44,
            72.62,
            55.2
           ]
          },
          {
           "axis": {
            "matches": true
           },
           "label": "Fuel_Price",
           "values": [
            3.045,
            3.435,
            2.759,
            4.069,
            3.617,
            3.555,
            3.554,
            2.878,
            3.767,
            3.734,
            2.853,
            2.78,
            2.7880000000000003,
            2.725,
            3.899,
            4.029,
            2.963,
            4.124,
            3.797,
            3.828,
            2.915,
            3.103,
            3.789,
            3.467,
            3.57,
            3.297,
            4.023,
            3.485,
            2.548,
            3.555,
            2.64,
            2.958,
            3.684,
            3.75,
            3.788,
            2.728,
            3.625,
            3.666,
            3.648,
            2.619,
            3.695,
            3.882,
            3.594,
            3.149,
            3.287,
            2.792,
            2.572,
            2.817,
            2.619,
            2.8080000000000003,
            4.021,
            3.3080000000000003,
            2.7710000000000004,
            3.51,
            3.972,
            2.9760000000000004,
            3.688,
            3.739,
            3.786,
            2.642,
            3.76,
            2.854,
            2.814,
            2.637,
            3.815,
            2.86,
            3.346,
            2.932,
            2.548,
            3.179,
            2.735,
            3.936,
            2.637,
            2.582,
            3.682,
            3.596,
            3.3080000000000003,
            2.7110000000000003,
            3.606,
            3.84,
            3.529,
            3.627,
            3.469,
            3.112,
            3.807,
            3.804,
            2.705,
            3.594,
            2.78,
            4.17
           ]
          },
          {
           "axis": {
            "matches": true
           },
           "label": "CPI",
           "values": [
            214.7775231,
            128.6160645,
            212.412888,
            134.85516130000002,
            213.0236225,
            224.1320199,
            219.07019680000005,
            132.7633548,
            192.826069,
            221.2118132,
            126.2346,
            211.8942725,
            131.52790320000005,
            189.7048215,
            216.5343611,
            138.9117,
            131.863129,
            138.0332,
            131.1083333,
            192.831317,
            126.5621,
            196.9195056,
            133.9587419,
            219.7414914,
            129.0663,
            218.5699621,
            137.9781333,
            194.3796374,
            211.24216980000003,
            220.275944,
            211.9270006,
            132.5218667,
            215.544618,
            197.4133259,
            130.95922579999998,
            211.6608975,
            184.9943679,
            130.7196333,
            129.5183333,
            214.9362793,
            189.8424834,
            130.6457931,
            224.0192873,
            129.8980645,
            127.1917742,
            132.6141935,
            214.4248812,
            126.7934,
            211.5673056,
            204.5675459,
            137.5843871,
            218.2205088,
            215.43728540000004,
            223.9170153,
            135.8738387,
            211.0648881,
            225.2351496,
            213.4725116,
            215.1544822,
            214.6564301,
            186.1399808,
            210.3374261,
            126.1392,
            214.7858259,
            135.4468,
            126.7934,
            225.3068615,
            132.5983871,
            214.62141890000004,
            204.6432267,
            215.0614025,
            197.7227385,
            215.0166484,
            214.8785562,
            216.0464364,
            198.0950484,
            221.6432852,
            189.5231276,
            129.2015806,
            138.1857097,
            130.82619350000002,
            129.1507742,
            129.1125,
            126.1283548,
            217.0146941,
            197.5886046,
            214.4958382,
            226.9688442,
            182.4424199,
            137.9230667
           ]
          },
          {
           "axis": {
            "matches": true
           },
           "label": "Unemployment",
           "values": [
            6.858,
            7.47,
            7.0920000000000005,
            7.657999999999999,
            6.961,
            6.832999999999998,
            6.425,
            9.331,
            8.595,
            7.348,
            6.885,
            7.0920000000000005,
            9.202,
            8.963,
            6.489,
            8.243,
            8.35,
            8.15,
            5.527,
            6.339,
            6.635,
            8.256,
            7.771,
            7.567,
            5.9460000000000015,
            6.3,
            8.304,
            8.622,
            8.106,
            7.057,
            6.496,
            8.099,
            7.9620000000000015,
            6.162000000000001,
            5.965,
            8.163,
            8.549,
            7.17,
            6.877000000000002,
            6.315,
            8.424,
            7.545,
            5.4220000000000015,
            5.143,
            8.744,
            9.342,
            7.3679999999999986,
            7.795,
            7.787000000000001,
            7.856,
            7.943,
            7.866,
            6.56,
            6.832999999999998,
            7.806,
            8.027999999999999,
            6.664,
            6.961,
            7.931,
            6.442,
            8.625,
            7.808,
            7.951,
            7.343,
            8.89,
            7.127000000000002,
            6.664,
            8.099,
            6.299,
            7.484,
            7.564,
            8.09,
            6.384,
            6.315,
            6.529,
            7.872000000000001,
            7.197,
            6.867999999999999,
            6.877000000000002,
            8.535,
            6.104,
            5.644,
            5.644,
            9.199,
            6.855,
            8.09,
            7.343,
            6.034,
            8.899,
            8.15
           ]
          },
          {
           "axis": {
            "matches": true
           },
           "label": "Year",
           "values": [
            2011,
            2011,
            2010,
            2011,
            2012,
            null,
            2011,
            2010,
            2011,
            2012,
            2010,
            2010,
            null,
            2010,
            2011,
            2012,
            2010,
            2012,
            2012,
            2011,
            2010,
            2012,
            2011,
            2011,
            2011,
            2011,
            2012,
            2011,
            2010,
            2012,
            2010,
            2010,
            2011,
            2012,
            2012,
            2010,
            2011,
            2012,
            2011,
            2010,
            2012,
            2012,
            2012,
            2011,
            null,
            2010,
            2010,
            2010,
            2010,
            2010,
            2012,
            2011,
            2010,
            null,
            null,
            2011,
            2012,
            null,
            null,
            2010,
            2011,
            2010,
            2010,
            2010,
            null,
            2010,
            2012,
            2010,
            2010,
            2010,
            2010,
            2012,
            2010,
            2010,
            2011,
            2012,
            2011,
            2010,
            2011,
            null,
            2012,
            2011,
            2011,
            null,
            2011,
            2012,
            2010,
            2012,
            2010,
            2012
           ]
          },
          {
           "axis": {
            "matches": true
           },
           "label": "Month",
           "values": [
            2,
            3,
            5,
            3,
            3,
            null,
            8,
            10,
            5,
            3,
            1,
            4,
            null,
            2,
            5,
            12,
            3,
            4,
            12,
            5,
            4,
            10,
            3,
            9,
            6,
            11,
            4,
            8,
            12,
            2,
            7,
            2,
            5,
            3,
            1,
            12,
            3,
            6,
            9,
            8,
            2,
            2,
            10,
            12,
            null,
            6,
            5,
            10,
            8,
            6,
            3,
            11,
            11,
            null,
            null,
            7,
            11,
            null,
            null,
            9,
            7,
            5,
            2,
            6,
            null,
            10,
            6,
            7,
            12,
            12,
            11,
            4,
            6,
            9,
            7,
            7,
            11,
            9,
            12,
            null,
            3,
            7,
            8,
            null,
            4,
            5,
            4,
            10,
            6,
            4
           ]
          },
          {
           "axis": {
            "matches": true
           },
           "label": "Day",
           "values": [
            18,
            25,
            28,
            6,
            2,
            null,
            19,
            15,
            13,
            16,
            10,
            30,
            null,
            4,
            13,
            10,
            26,
            5,
            10,
            20,
            16,
            2,
            25,
            23,
            24,
            11,
            27,
            26,
            2,
            24,
            30,
            7,
            8,
            30,
            6,
            11,
            25,
            7,
            23,
            27,
            17,
            3,
            19,
            16,
            null,
            8,
            2,
            12,
            27,
            25,
            16,
            18,
            19,
            null,
            null,
            1,
            5,
            null,
            null,
            7,
            15,
            14,
            7,
            18,
            null,
            12,
            22,
            30,
            2,
            31,
            26,
            20,
            18,
            17,
            29,
            9,
            18,
            7,
            8,
            null,
            16,
            22,
            7,
            null,
            22,
            25,
            6,
            19,
            18,
            20
           ]
          },
          {
           "axis": {
            "matches": true
           },
           "label": "Day_of_week",
           "values": [
            4,
            4,
            4,
            6,
            4,
            null,
            4,
            4,
            4,
            4,
            6,
            4,
            null,
            3,
            4,
            0,
            4,
            3,
            0,
            4,
            4,
            1,
            4,
            4,
            4,
            4,
            4,
            4,
            3,
            4,
            4,
            6,
            6,
            4,
            4,
            5,
            4,
            3,
            4,
            4,
            4,
            4,
            4,
            4,
            null,
            1,
            6,
            1,
            4,
            4,
            4,
            4,
            4,
            null,
            null,
            4,
            0,
            null,
            null,
            1,
            4,
            4,
            6,
            4,
            null,
            1,
            4,
            4,
            3,
            4,
            4,
            4,
            4,
            4,
            4,
            0,
            4,
            1,
            3,
            null,
            4,
            4,
            6,
            null,
            4,
            4,
            1,
            4,
            4,
            4
           ]
          }
         ],
         "hovertemplate": "%{xaxis.title.text}=%{x}<br>%{yaxis.title.text}=%{y}<extra></extra>",
         "legendgroup": "",
         "marker": {
          "color": "#636efa",
          "symbol": "circle"
         },
         "name": "",
         "showlegend": false,
         "type": "splom"
        }
       ],
       "layout": {
        "autosize": false,
        "dragmode": "select",
        "height": 1200,
        "legend": {
         "tracegroupgap": 0
        },
        "margin": {
         "t": 60
        },
        "showlegend": false,
        "template": {
         "data": {
          "bar": [
           {
            "error_x": {
             "color": "#2a3f5f"
            },
            "error_y": {
             "color": "#2a3f5f"
            },
            "marker": {
             "line": {
              "color": "#E5ECF6",
              "width": 0.5
             },
             "pattern": {
              "fillmode": "overlay",
              "size": 10,
              "solidity": 0.2
             }
            },
            "type": "bar"
           }
          ],
          "barpolar": [
           {
            "marker": {
             "line": {
              "color": "#E5ECF6",
              "width": 0.5
             },
             "pattern": {
              "fillmode": "overlay",
              "size": 10,
              "solidity": 0.2
             }
            },
            "type": "barpolar"
           }
          ],
          "carpet": [
           {
            "aaxis": {
             "endlinecolor": "#2a3f5f",
             "gridcolor": "white",
             "linecolor": "white",
             "minorgridcolor": "white",
             "startlinecolor": "#2a3f5f"
            },
            "baxis": {
             "endlinecolor": "#2a3f5f",
             "gridcolor": "white",
             "linecolor": "white",
             "minorgridcolor": "white",
             "startlinecolor": "#2a3f5f"
            },
            "type": "carpet"
           }
          ],
          "choropleth": [
           {
            "colorbar": {
             "outlinewidth": 0,
             "ticks": ""
            },
            "type": "choropleth"
           }
          ],
          "contour": [
           {
            "colorbar": {
             "outlinewidth": 0,
             "ticks": ""
            },
            "colorscale": [
             [
              0,
              "#0d0887"
             ],
             [
              0.1111111111111111,
              "#46039f"
             ],
             [
              0.2222222222222222,
              "#7201a8"
             ],
             [
              0.3333333333333333,
              "#9c179e"
             ],
             [
              0.4444444444444444,
              "#bd3786"
             ],
             [
              0.5555555555555556,
              "#d8576b"
             ],
             [
              0.6666666666666666,
              "#ed7953"
             ],
             [
              0.7777777777777778,
              "#fb9f3a"
             ],
             [
              0.8888888888888888,
              "#fdca26"
             ],
             [
              1,
              "#f0f921"
             ]
            ],
            "type": "contour"
           }
          ],
          "contourcarpet": [
           {
            "colorbar": {
             "outlinewidth": 0,
             "ticks": ""
            },
            "type": "contourcarpet"
           }
          ],
          "heatmap": [
           {
            "colorbar": {
             "outlinewidth": 0,
             "ticks": ""
            },
            "colorscale": [
             [
              0,
              "#0d0887"
             ],
             [
              0.1111111111111111,
              "#46039f"
             ],
             [
              0.2222222222222222,
              "#7201a8"
             ],
             [
              0.3333333333333333,
              "#9c179e"
             ],
             [
              0.4444444444444444,
              "#bd3786"
             ],
             [
              0.5555555555555556,
              "#d8576b"
             ],
             [
              0.6666666666666666,
              "#ed7953"
             ],
             [
              0.7777777777777778,
              "#fb9f3a"
             ],
             [
              0.8888888888888888,
              "#fdca26"
             ],
             [
              1,
              "#f0f921"
             ]
            ],
            "type": "heatmap"
           }
          ],
          "heatmapgl": [
           {
            "colorbar": {
             "outlinewidth": 0,
             "ticks": ""
            },
            "colorscale": [
             [
              0,
              "#0d0887"
             ],
             [
              0.1111111111111111,
              "#46039f"
             ],
             [
              0.2222222222222222,
              "#7201a8"
             ],
             [
              0.3333333333333333,
              "#9c179e"
             ],
             [
              0.4444444444444444,
              "#bd3786"
             ],
             [
              0.5555555555555556,
              "#d8576b"
             ],
             [
              0.6666666666666666,
              "#ed7953"
             ],
             [
              0.7777777777777778,
              "#fb9f3a"
             ],
             [
              0.8888888888888888,
              "#fdca26"
             ],
             [
              1,
              "#f0f921"
             ]
            ],
            "type": "heatmapgl"
           }
          ],
          "histogram": [
           {
            "marker": {
             "pattern": {
              "fillmode": "overlay",
              "size": 10,
              "solidity": 0.2
             }
            },
            "type": "histogram"
           }
          ],
          "histogram2d": [
           {
            "colorbar": {
             "outlinewidth": 0,
             "ticks": ""
            },
            "colorscale": [
             [
              0,
              "#0d0887"
             ],
             [
              0.1111111111111111,
              "#46039f"
             ],
             [
              0.2222222222222222,
              "#7201a8"
             ],
             [
              0.3333333333333333,
              "#9c179e"
             ],
             [
              0.4444444444444444,
              "#bd3786"
             ],
             [
              0.5555555555555556,
              "#d8576b"
             ],
             [
              0.6666666666666666,
              "#ed7953"
             ],
             [
              0.7777777777777778,
              "#fb9f3a"
             ],
             [
              0.8888888888888888,
              "#fdca26"
             ],
             [
              1,
              "#f0f921"
             ]
            ],
            "type": "histogram2d"
           }
          ],
          "histogram2dcontour": [
           {
            "colorbar": {
             "outlinewidth": 0,
             "ticks": ""
            },
            "colorscale": [
             [
              0,
              "#0d0887"
             ],
             [
              0.1111111111111111,
              "#46039f"
             ],
             [
              0.2222222222222222,
              "#7201a8"
             ],
             [
              0.3333333333333333,
              "#9c179e"
             ],
             [
              0.4444444444444444,
              "#bd3786"
             ],
             [
              0.5555555555555556,
              "#d8576b"
             ],
             [
              0.6666666666666666,
              "#ed7953"
             ],
             [
              0.7777777777777778,
              "#fb9f3a"
             ],
             [
              0.8888888888888888,
              "#fdca26"
             ],
             [
              1,
              "#f0f921"
             ]
            ],
            "type": "histogram2dcontour"
           }
          ],
          "mesh3d": [
           {
            "colorbar": {
             "outlinewidth": 0,
             "ticks": ""
            },
            "type": "mesh3d"
           }
          ],
          "parcoords": [
           {
            "line": {
             "colorbar": {
              "outlinewidth": 0,
              "ticks": ""
             }
            },
            "type": "parcoords"
           }
          ],
          "pie": [
           {
            "automargin": true,
            "type": "pie"
           }
          ],
          "scatter": [
           {
            "fillpattern": {
             "fillmode": "overlay",
             "size": 10,
             "solidity": 0.2
            },
            "type": "scatter"
           }
          ],
          "scatter3d": [
           {
            "line": {
             "colorbar": {
              "outlinewidth": 0,
              "ticks": ""
             }
            },
            "marker": {
             "colorbar": {
              "outlinewidth": 0,
              "ticks": ""
             }
            },
            "type": "scatter3d"
           }
          ],
          "scattercarpet": [
           {
            "marker": {
             "colorbar": {
              "outlinewidth": 0,
              "ticks": ""
             }
            },
            "type": "scattercarpet"
           }
          ],
          "scattergeo": [
           {
            "marker": {
             "colorbar": {
              "outlinewidth": 0,
              "ticks": ""
             }
            },
            "type": "scattergeo"
           }
          ],
          "scattergl": [
           {
            "marker": {
             "colorbar": {
              "outlinewidth": 0,
              "ticks": ""
             }
            },
            "type": "scattergl"
           }
          ],
          "scattermapbox": [
           {
            "marker": {
             "colorbar": {
              "outlinewidth": 0,
              "ticks": ""
             }
            },
            "type": "scattermapbox"
           }
          ],
          "scatterpolar": [
           {
            "marker": {
             "colorbar": {
              "outlinewidth": 0,
              "ticks": ""
             }
            },
            "type": "scatterpolar"
           }
          ],
          "scatterpolargl": [
           {
            "marker": {
             "colorbar": {
              "outlinewidth": 0,
              "ticks": ""
             }
            },
            "type": "scatterpolargl"
           }
          ],
          "scatterternary": [
           {
            "marker": {
             "colorbar": {
              "outlinewidth": 0,
              "ticks": ""
             }
            },
            "type": "scatterternary"
           }
          ],
          "surface": [
           {
            "colorbar": {
             "outlinewidth": 0,
             "ticks": ""
            },
            "colorscale": [
             [
              0,
              "#0d0887"
             ],
             [
              0.1111111111111111,
              "#46039f"
             ],
             [
              0.2222222222222222,
              "#7201a8"
             ],
             [
              0.3333333333333333,
              "#9c179e"
             ],
             [
              0.4444444444444444,
              "#bd3786"
             ],
             [
              0.5555555555555556,
              "#d8576b"
             ],
             [
              0.6666666666666666,
              "#ed7953"
             ],
             [
              0.7777777777777778,
              "#fb9f3a"
             ],
             [
              0.8888888888888888,
              "#fdca26"
             ],
             [
              1,
              "#f0f921"
             ]
            ],
            "type": "surface"
           }
          ],
          "table": [
           {
            "cells": {
             "fill": {
              "color": "#EBF0F8"
             },
             "line": {
              "color": "white"
             }
            },
            "header": {
             "fill": {
              "color": "#C8D4E3"
             },
             "line": {
              "color": "white"
             }
            },
            "type": "table"
           }
          ]
         },
         "layout": {
          "annotationdefaults": {
           "arrowcolor": "#2a3f5f",
           "arrowhead": 0,
           "arrowwidth": 1
          },
          "autotypenumbers": "strict",
          "coloraxis": {
           "colorbar": {
            "outlinewidth": 0,
            "ticks": ""
           }
          },
          "colorscale": {
           "diverging": [
            [
             0,
             "#8e0152"
            ],
            [
             0.1,
             "#c51b7d"
            ],
            [
             0.2,
             "#de77ae"
            ],
            [
             0.3,
             "#f1b6da"
            ],
            [
             0.4,
             "#fde0ef"
            ],
            [
             0.5,
             "#f7f7f7"
            ],
            [
             0.6,
             "#e6f5d0"
            ],
            [
             0.7,
             "#b8e186"
            ],
            [
             0.8,
             "#7fbc41"
            ],
            [
             0.9,
             "#4d9221"
            ],
            [
             1,
             "#276419"
            ]
           ],
           "sequential": [
            [
             0,
             "#0d0887"
            ],
            [
             0.1111111111111111,
             "#46039f"
            ],
            [
             0.2222222222222222,
             "#7201a8"
            ],
            [
             0.3333333333333333,
             "#9c179e"
            ],
            [
             0.4444444444444444,
             "#bd3786"
            ],
            [
             0.5555555555555556,
             "#d8576b"
            ],
            [
             0.6666666666666666,
             "#ed7953"
            ],
            [
             0.7777777777777778,
             "#fb9f3a"
            ],
            [
             0.8888888888888888,
             "#fdca26"
            ],
            [
             1,
             "#f0f921"
            ]
           ],
           "sequentialminus": [
            [
             0,
             "#0d0887"
            ],
            [
             0.1111111111111111,
             "#46039f"
            ],
            [
             0.2222222222222222,
             "#7201a8"
            ],
            [
             0.3333333333333333,
             "#9c179e"
            ],
            [
             0.4444444444444444,
             "#bd3786"
            ],
            [
             0.5555555555555556,
             "#d8576b"
            ],
            [
             0.6666666666666666,
             "#ed7953"
            ],
            [
             0.7777777777777778,
             "#fb9f3a"
            ],
            [
             0.8888888888888888,
             "#fdca26"
            ],
            [
             1,
             "#f0f921"
            ]
           ]
          },
          "colorway": [
           "#636efa",
           "#EF553B",
           "#00cc96",
           "#ab63fa",
           "#FFA15A",
           "#19d3f3",
           "#FF6692",
           "#B6E880",
           "#FF97FF",
           "#FECB52"
          ],
          "font": {
           "color": "#2a3f5f"
          },
          "geo": {
           "bgcolor": "white",
           "lakecolor": "white",
           "landcolor": "#E5ECF6",
           "showlakes": true,
           "showland": true,
           "subunitcolor": "white"
          },
          "hoverlabel": {
           "align": "left"
          },
          "hovermode": "closest",
          "mapbox": {
           "style": "light"
          },
          "paper_bgcolor": "white",
          "plot_bgcolor": "#E5ECF6",
          "polar": {
           "angularaxis": {
            "gridcolor": "white",
            "linecolor": "white",
            "ticks": ""
           },
           "bgcolor": "#E5ECF6",
           "radialaxis": {
            "gridcolor": "white",
            "linecolor": "white",
            "ticks": ""
           }
          },
          "scene": {
           "xaxis": {
            "backgroundcolor": "#E5ECF6",
            "gridcolor": "white",
            "gridwidth": 2,
            "linecolor": "white",
            "showbackground": true,
            "ticks": "",
            "zerolinecolor": "white"
           },
           "yaxis": {
            "backgroundcolor": "#E5ECF6",
            "gridcolor": "white",
            "gridwidth": 2,
            "linecolor": "white",
            "showbackground": true,
            "ticks": "",
            "zerolinecolor": "white"
           },
           "zaxis": {
            "backgroundcolor": "#E5ECF6",
            "gridcolor": "white",
            "gridwidth": 2,
            "linecolor": "white",
            "showbackground": true,
            "ticks": "",
            "zerolinecolor": "white"
           }
          },
          "shapedefaults": {
           "line": {
            "color": "#2a3f5f"
           }
          },
          "ternary": {
           "aaxis": {
            "gridcolor": "white",
            "linecolor": "white",
            "ticks": ""
           },
           "baxis": {
            "gridcolor": "white",
            "linecolor": "white",
            "ticks": ""
           },
           "bgcolor": "#E5ECF6",
           "caxis": {
            "gridcolor": "white",
            "linecolor": "white",
            "ticks": ""
           }
          },
          "title": {
           "x": 0.05
          },
          "xaxis": {
           "automargin": true,
           "gridcolor": "white",
           "linecolor": "white",
           "ticks": "",
           "title": {
            "standoff": 15
           },
           "zerolinecolor": "white",
           "zerolinewidth": 2
          },
          "yaxis": {
           "automargin": true,
           "gridcolor": "white",
           "linecolor": "white",
           "ticks": "",
           "title": {
            "standoff": 15
           },
           "zerolinecolor": "white",
           "zerolinewidth": 2
          }
         }
        },
        "title": {
         "text": "Bivariate analysis",
         "x": 0.5
        },
        "width": 1200
       }
      }
     },
     "metadata": {},
     "output_type": "display_data"
    },
    {
     "data": {
      "application/vnd.plotly.v1+json": {
       "config": {
        "plotlyServerURL": "https://plot.ly"
       },
       "data": [
        {
         "colorscale": [
          [
           0,
           "#0d0887"
          ],
          [
           0.1111111111111111,
           "#46039f"
          ],
          [
           0.2222222222222222,
           "#7201a8"
          ],
          [
           0.3333333333333333,
           "#9c179e"
          ],
          [
           0.4444444444444444,
           "#bd3786"
          ],
          [
           0.5555555555555556,
           "#d8576b"
          ],
          [
           0.6666666666666666,
           "#ed7953"
          ],
          [
           0.7777777777777778,
           "#fb9f3a"
          ],
          [
           0.8888888888888888,
           "#fdca26"
          ],
          [
           1,
           "#f0f921"
          ]
         ],
         "reversescale": false,
         "showscale": false,
         "type": "heatmap",
         "x": [
          "Store",
          "Weekly_Sales",
          "Holiday_Flag",
          "Temperature",
          "Fuel_Price",
          "CPI",
          "Unemployment",
          "Year",
          "Month",
          "Day",
          "Day_of_week"
         ],
         "y": [
          "Store",
          "Weekly_Sales",
          "Holiday_Flag",
          "Temperature",
          "Fuel_Price",
          "CPI",
          "Unemployment",
          "Year",
          "Month",
          "Day",
          "Day_of_week"
         ],
         "z": [
          [
           1,
           0.14,
           -0.06,
           -0.32,
           0.2,
           -0.57,
           0.29,
           0.02,
           -0.24,
           0.06,
           -0.05
          ],
          [
           0.14,
           1,
           0,
           -0.09,
           -0.02,
           -0.37,
           0.09,
           -0.05,
           -0.07,
           -0.04,
           0.14
          ],
          [
           -0.06,
           0,
           1,
           -0.31,
           -0.23,
           0.21,
           0.06,
           -0.09,
           0.36,
           -0.13,
           -0.24
          ],
          [
           -0.32,
           -0.09,
           -0.31,
           1,
           -0.04,
           0.16,
           -0.2,
           -0.16,
           0.01,
           0.16,
           0.19
          ],
          [
           0.2,
           -0.02,
           -0.23,
           -0.04,
           1,
           -0.21,
           -0.03,
           0.85,
           -0.24,
           0.05,
           0.02
          ],
          [
           -0.57,
           -0.37,
           0.21,
           0.16,
           -0.21,
           1,
           -0.21,
           -0.07,
           0.21,
           0.13,
           0.01
          ],
          [
           0.29,
           0.09,
           0.06,
           -0.2,
           -0.03,
           -0.21,
           1,
           -0.13,
           -0.2,
           -0.07,
           -0.02
          ],
          [
           0.02,
           -0.05,
           -0.09,
           -0.16,
           0.85,
           -0.07,
           -0.13,
           1,
           -0.18,
           -0.07,
           -0.13
          ],
          [
           -0.24,
           -0.07,
           0.36,
           0.01,
           -0.24,
           0.21,
           -0.2,
           -0.18,
           1,
           -0.06,
           -0.39
          ],
          [
           0.06,
           -0.04,
           -0.13,
           0.16,
           0.05,
           0.13,
           -0.07,
           -0.07,
           -0.06,
           1,
           0.24
          ],
          [
           -0.05,
           0.14,
           -0.24,
           0.19,
           0.02,
           0.01,
           -0.02,
           -0.13,
           -0.39,
           0.24,
           1
          ]
         ]
        }
       ],
       "layout": {
        "annotations": [
         {
          "font": {
           "color": "#000000"
          },
          "showarrow": false,
          "text": "1.0",
          "x": "Store",
          "xref": "x",
          "y": "Store",
          "yref": "y"
         },
         {
          "font": {
           "color": "#FFFFFF"
          },
          "showarrow": false,
          "text": "0.14",
          "x": "Weekly_Sales",
          "xref": "x",
          "y": "Store",
          "yref": "y"
         },
         {
          "font": {
           "color": "#FFFFFF"
          },
          "showarrow": false,
          "text": "-0.06",
          "x": "Holiday_Flag",
          "xref": "x",
          "y": "Store",
          "yref": "y"
         },
         {
          "font": {
           "color": "#FFFFFF"
          },
          "showarrow": false,
          "text": "-0.32",
          "x": "Temperature",
          "xref": "x",
          "y": "Store",
          "yref": "y"
         },
         {
          "font": {
           "color": "#FFFFFF"
          },
          "showarrow": false,
          "text": "0.2",
          "x": "Fuel_Price",
          "xref": "x",
          "y": "Store",
          "yref": "y"
         },
         {
          "font": {
           "color": "#FFFFFF"
          },
          "showarrow": false,
          "text": "-0.57",
          "x": "CPI",
          "xref": "x",
          "y": "Store",
          "yref": "y"
         },
         {
          "font": {
           "color": "#000000"
          },
          "showarrow": false,
          "text": "0.29",
          "x": "Unemployment",
          "xref": "x",
          "y": "Store",
          "yref": "y"
         },
         {
          "font": {
           "color": "#FFFFFF"
          },
          "showarrow": false,
          "text": "0.02",
          "x": "Year",
          "xref": "x",
          "y": "Store",
          "yref": "y"
         },
         {
          "font": {
           "color": "#FFFFFF"
          },
          "showarrow": false,
          "text": "-0.24",
          "x": "Month",
          "xref": "x",
          "y": "Store",
          "yref": "y"
         },
         {
          "font": {
           "color": "#FFFFFF"
          },
          "showarrow": false,
          "text": "0.06",
          "x": "Day",
          "xref": "x",
          "y": "Store",
          "yref": "y"
         },
         {
          "font": {
           "color": "#FFFFFF"
          },
          "showarrow": false,
          "text": "-0.05",
          "x": "Day_of_week",
          "xref": "x",
          "y": "Store",
          "yref": "y"
         },
         {
          "font": {
           "color": "#FFFFFF"
          },
          "showarrow": false,
          "text": "0.14",
          "x": "Store",
          "xref": "x",
          "y": "Weekly_Sales",
          "yref": "y"
         },
         {
          "font": {
           "color": "#000000"
          },
          "showarrow": false,
          "text": "1.0",
          "x": "Weekly_Sales",
          "xref": "x",
          "y": "Weekly_Sales",
          "yref": "y"
         },
         {
          "font": {
           "color": "#FFFFFF"
          },
          "showarrow": false,
          "text": "0.0",
          "x": "Holiday_Flag",
          "xref": "x",
          "y": "Weekly_Sales",
          "yref": "y"
         },
         {
          "font": {
           "color": "#FFFFFF"
          },
          "showarrow": false,
          "text": "-0.09",
          "x": "Temperature",
          "xref": "x",
          "y": "Weekly_Sales",
          "yref": "y"
         },
         {
          "font": {
           "color": "#FFFFFF"
          },
          "showarrow": false,
          "text": "-0.02",
          "x": "Fuel_Price",
          "xref": "x",
          "y": "Weekly_Sales",
          "yref": "y"
         },
         {
          "font": {
           "color": "#FFFFFF"
          },
          "showarrow": false,
          "text": "-0.37",
          "x": "CPI",
          "xref": "x",
          "y": "Weekly_Sales",
          "yref": "y"
         },
         {
          "font": {
           "color": "#FFFFFF"
          },
          "showarrow": false,
          "text": "0.09",
          "x": "Unemployment",
          "xref": "x",
          "y": "Weekly_Sales",
          "yref": "y"
         },
         {
          "font": {
           "color": "#FFFFFF"
          },
          "showarrow": false,
          "text": "-0.05",
          "x": "Year",
          "xref": "x",
          "y": "Weekly_Sales",
          "yref": "y"
         },
         {
          "font": {
           "color": "#FFFFFF"
          },
          "showarrow": false,
          "text": "-0.07",
          "x": "Month",
          "xref": "x",
          "y": "Weekly_Sales",
          "yref": "y"
         },
         {
          "font": {
           "color": "#FFFFFF"
          },
          "showarrow": false,
          "text": "-0.04",
          "x": "Day",
          "xref": "x",
          "y": "Weekly_Sales",
          "yref": "y"
         },
         {
          "font": {
           "color": "#FFFFFF"
          },
          "showarrow": false,
          "text": "0.14",
          "x": "Day_of_week",
          "xref": "x",
          "y": "Weekly_Sales",
          "yref": "y"
         },
         {
          "font": {
           "color": "#FFFFFF"
          },
          "showarrow": false,
          "text": "-0.06",
          "x": "Store",
          "xref": "x",
          "y": "Holiday_Flag",
          "yref": "y"
         },
         {
          "font": {
           "color": "#FFFFFF"
          },
          "showarrow": false,
          "text": "0.0",
          "x": "Weekly_Sales",
          "xref": "x",
          "y": "Holiday_Flag",
          "yref": "y"
         },
         {
          "font": {
           "color": "#000000"
          },
          "showarrow": false,
          "text": "1.0",
          "x": "Holiday_Flag",
          "xref": "x",
          "y": "Holiday_Flag",
          "yref": "y"
         },
         {
          "font": {
           "color": "#FFFFFF"
          },
          "showarrow": false,
          "text": "-0.31",
          "x": "Temperature",
          "xref": "x",
          "y": "Holiday_Flag",
          "yref": "y"
         },
         {
          "font": {
           "color": "#FFFFFF"
          },
          "showarrow": false,
          "text": "-0.23",
          "x": "Fuel_Price",
          "xref": "x",
          "y": "Holiday_Flag",
          "yref": "y"
         },
         {
          "font": {
           "color": "#FFFFFF"
          },
          "showarrow": false,
          "text": "0.21",
          "x": "CPI",
          "xref": "x",
          "y": "Holiday_Flag",
          "yref": "y"
         },
         {
          "font": {
           "color": "#FFFFFF"
          },
          "showarrow": false,
          "text": "0.06",
          "x": "Unemployment",
          "xref": "x",
          "y": "Holiday_Flag",
          "yref": "y"
         },
         {
          "font": {
           "color": "#FFFFFF"
          },
          "showarrow": false,
          "text": "-0.09",
          "x": "Year",
          "xref": "x",
          "y": "Holiday_Flag",
          "yref": "y"
         },
         {
          "font": {
           "color": "#000000"
          },
          "showarrow": false,
          "text": "0.36",
          "x": "Month",
          "xref": "x",
          "y": "Holiday_Flag",
          "yref": "y"
         },
         {
          "font": {
           "color": "#FFFFFF"
          },
          "showarrow": false,
          "text": "-0.13",
          "x": "Day",
          "xref": "x",
          "y": "Holiday_Flag",
          "yref": "y"
         },
         {
          "font": {
           "color": "#FFFFFF"
          },
          "showarrow": false,
          "text": "-0.24",
          "x": "Day_of_week",
          "xref": "x",
          "y": "Holiday_Flag",
          "yref": "y"
         },
         {
          "font": {
           "color": "#FFFFFF"
          },
          "showarrow": false,
          "text": "-0.32",
          "x": "Store",
          "xref": "x",
          "y": "Temperature",
          "yref": "y"
         },
         {
          "font": {
           "color": "#FFFFFF"
          },
          "showarrow": false,
          "text": "-0.09",
          "x": "Weekly_Sales",
          "xref": "x",
          "y": "Temperature",
          "yref": "y"
         },
         {
          "font": {
           "color": "#FFFFFF"
          },
          "showarrow": false,
          "text": "-0.31",
          "x": "Holiday_Flag",
          "xref": "x",
          "y": "Temperature",
          "yref": "y"
         },
         {
          "font": {
           "color": "#000000"
          },
          "showarrow": false,
          "text": "1.0",
          "x": "Temperature",
          "xref": "x",
          "y": "Temperature",
          "yref": "y"
         },
         {
          "font": {
           "color": "#FFFFFF"
          },
          "showarrow": false,
          "text": "-0.04",
          "x": "Fuel_Price",
          "xref": "x",
          "y": "Temperature",
          "yref": "y"
         },
         {
          "font": {
           "color": "#FFFFFF"
          },
          "showarrow": false,
          "text": "0.16",
          "x": "CPI",
          "xref": "x",
          "y": "Temperature",
          "yref": "y"
         },
         {
          "font": {
           "color": "#FFFFFF"
          },
          "showarrow": false,
          "text": "-0.2",
          "x": "Unemployment",
          "xref": "x",
          "y": "Temperature",
          "yref": "y"
         },
         {
          "font": {
           "color": "#FFFFFF"
          },
          "showarrow": false,
          "text": "-0.16",
          "x": "Year",
          "xref": "x",
          "y": "Temperature",
          "yref": "y"
         },
         {
          "font": {
           "color": "#FFFFFF"
          },
          "showarrow": false,
          "text": "0.01",
          "x": "Month",
          "xref": "x",
          "y": "Temperature",
          "yref": "y"
         },
         {
          "font": {
           "color": "#FFFFFF"
          },
          "showarrow": false,
          "text": "0.16",
          "x": "Day",
          "xref": "x",
          "y": "Temperature",
          "yref": "y"
         },
         {
          "font": {
           "color": "#FFFFFF"
          },
          "showarrow": false,
          "text": "0.19",
          "x": "Day_of_week",
          "xref": "x",
          "y": "Temperature",
          "yref": "y"
         },
         {
          "font": {
           "color": "#FFFFFF"
          },
          "showarrow": false,
          "text": "0.2",
          "x": "Store",
          "xref": "x",
          "y": "Fuel_Price",
          "yref": "y"
         },
         {
          "font": {
           "color": "#FFFFFF"
          },
          "showarrow": false,
          "text": "-0.02",
          "x": "Weekly_Sales",
          "xref": "x",
          "y": "Fuel_Price",
          "yref": "y"
         },
         {
          "font": {
           "color": "#FFFFFF"
          },
          "showarrow": false,
          "text": "-0.23",
          "x": "Holiday_Flag",
          "xref": "x",
          "y": "Fuel_Price",
          "yref": "y"
         },
         {
          "font": {
           "color": "#FFFFFF"
          },
          "showarrow": false,
          "text": "-0.04",
          "x": "Temperature",
          "xref": "x",
          "y": "Fuel_Price",
          "yref": "y"
         },
         {
          "font": {
           "color": "#000000"
          },
          "showarrow": false,
          "text": "1.0",
          "x": "Fuel_Price",
          "xref": "x",
          "y": "Fuel_Price",
          "yref": "y"
         },
         {
          "font": {
           "color": "#FFFFFF"
          },
          "showarrow": false,
          "text": "-0.21",
          "x": "CPI",
          "xref": "x",
          "y": "Fuel_Price",
          "yref": "y"
         },
         {
          "font": {
           "color": "#FFFFFF"
          },
          "showarrow": false,
          "text": "-0.03",
          "x": "Unemployment",
          "xref": "x",
          "y": "Fuel_Price",
          "yref": "y"
         },
         {
          "font": {
           "color": "#000000"
          },
          "showarrow": false,
          "text": "0.85",
          "x": "Year",
          "xref": "x",
          "y": "Fuel_Price",
          "yref": "y"
         },
         {
          "font": {
           "color": "#FFFFFF"
          },
          "showarrow": false,
          "text": "-0.24",
          "x": "Month",
          "xref": "x",
          "y": "Fuel_Price",
          "yref": "y"
         },
         {
          "font": {
           "color": "#FFFFFF"
          },
          "showarrow": false,
          "text": "0.05",
          "x": "Day",
          "xref": "x",
          "y": "Fuel_Price",
          "yref": "y"
         },
         {
          "font": {
           "color": "#FFFFFF"
          },
          "showarrow": false,
          "text": "0.02",
          "x": "Day_of_week",
          "xref": "x",
          "y": "Fuel_Price",
          "yref": "y"
         },
         {
          "font": {
           "color": "#FFFFFF"
          },
          "showarrow": false,
          "text": "-0.57",
          "x": "Store",
          "xref": "x",
          "y": "CPI",
          "yref": "y"
         },
         {
          "font": {
           "color": "#FFFFFF"
          },
          "showarrow": false,
          "text": "-0.37",
          "x": "Weekly_Sales",
          "xref": "x",
          "y": "CPI",
          "yref": "y"
         },
         {
          "font": {
           "color": "#FFFFFF"
          },
          "showarrow": false,
          "text": "0.21",
          "x": "Holiday_Flag",
          "xref": "x",
          "y": "CPI",
          "yref": "y"
         },
         {
          "font": {
           "color": "#FFFFFF"
          },
          "showarrow": false,
          "text": "0.16",
          "x": "Temperature",
          "xref": "x",
          "y": "CPI",
          "yref": "y"
         },
         {
          "font": {
           "color": "#FFFFFF"
          },
          "showarrow": false,
          "text": "-0.21",
          "x": "Fuel_Price",
          "xref": "x",
          "y": "CPI",
          "yref": "y"
         },
         {
          "font": {
           "color": "#000000"
          },
          "showarrow": false,
          "text": "1.0",
          "x": "CPI",
          "xref": "x",
          "y": "CPI",
          "yref": "y"
         },
         {
          "font": {
           "color": "#FFFFFF"
          },
          "showarrow": false,
          "text": "-0.21",
          "x": "Unemployment",
          "xref": "x",
          "y": "CPI",
          "yref": "y"
         },
         {
          "font": {
           "color": "#FFFFFF"
          },
          "showarrow": false,
          "text": "-0.07",
          "x": "Year",
          "xref": "x",
          "y": "CPI",
          "yref": "y"
         },
         {
          "font": {
           "color": "#FFFFFF"
          },
          "showarrow": false,
          "text": "0.21",
          "x": "Month",
          "xref": "x",
          "y": "CPI",
          "yref": "y"
         },
         {
          "font": {
           "color": "#FFFFFF"
          },
          "showarrow": false,
          "text": "0.13",
          "x": "Day",
          "xref": "x",
          "y": "CPI",
          "yref": "y"
         },
         {
          "font": {
           "color": "#FFFFFF"
          },
          "showarrow": false,
          "text": "0.01",
          "x": "Day_of_week",
          "xref": "x",
          "y": "CPI",
          "yref": "y"
         },
         {
          "font": {
           "color": "#000000"
          },
          "showarrow": false,
          "text": "0.29",
          "x": "Store",
          "xref": "x",
          "y": "Unemployment",
          "yref": "y"
         },
         {
          "font": {
           "color": "#FFFFFF"
          },
          "showarrow": false,
          "text": "0.09",
          "x": "Weekly_Sales",
          "xref": "x",
          "y": "Unemployment",
          "yref": "y"
         },
         {
          "font": {
           "color": "#FFFFFF"
          },
          "showarrow": false,
          "text": "0.06",
          "x": "Holiday_Flag",
          "xref": "x",
          "y": "Unemployment",
          "yref": "y"
         },
         {
          "font": {
           "color": "#FFFFFF"
          },
          "showarrow": false,
          "text": "-0.2",
          "x": "Temperature",
          "xref": "x",
          "y": "Unemployment",
          "yref": "y"
         },
         {
          "font": {
           "color": "#FFFFFF"
          },
          "showarrow": false,
          "text": "-0.03",
          "x": "Fuel_Price",
          "xref": "x",
          "y": "Unemployment",
          "yref": "y"
         },
         {
          "font": {
           "color": "#FFFFFF"
          },
          "showarrow": false,
          "text": "-0.21",
          "x": "CPI",
          "xref": "x",
          "y": "Unemployment",
          "yref": "y"
         },
         {
          "font": {
           "color": "#000000"
          },
          "showarrow": false,
          "text": "1.0",
          "x": "Unemployment",
          "xref": "x",
          "y": "Unemployment",
          "yref": "y"
         },
         {
          "font": {
           "color": "#FFFFFF"
          },
          "showarrow": false,
          "text": "-0.13",
          "x": "Year",
          "xref": "x",
          "y": "Unemployment",
          "yref": "y"
         },
         {
          "font": {
           "color": "#FFFFFF"
          },
          "showarrow": false,
          "text": "-0.2",
          "x": "Month",
          "xref": "x",
          "y": "Unemployment",
          "yref": "y"
         },
         {
          "font": {
           "color": "#FFFFFF"
          },
          "showarrow": false,
          "text": "-0.07",
          "x": "Day",
          "xref": "x",
          "y": "Unemployment",
          "yref": "y"
         },
         {
          "font": {
           "color": "#FFFFFF"
          },
          "showarrow": false,
          "text": "-0.02",
          "x": "Day_of_week",
          "xref": "x",
          "y": "Unemployment",
          "yref": "y"
         },
         {
          "font": {
           "color": "#FFFFFF"
          },
          "showarrow": false,
          "text": "0.02",
          "x": "Store",
          "xref": "x",
          "y": "Year",
          "yref": "y"
         },
         {
          "font": {
           "color": "#FFFFFF"
          },
          "showarrow": false,
          "text": "-0.05",
          "x": "Weekly_Sales",
          "xref": "x",
          "y": "Year",
          "yref": "y"
         },
         {
          "font": {
           "color": "#FFFFFF"
          },
          "showarrow": false,
          "text": "-0.09",
          "x": "Holiday_Flag",
          "xref": "x",
          "y": "Year",
          "yref": "y"
         },
         {
          "font": {
           "color": "#FFFFFF"
          },
          "showarrow": false,
          "text": "-0.16",
          "x": "Temperature",
          "xref": "x",
          "y": "Year",
          "yref": "y"
         },
         {
          "font": {
           "color": "#000000"
          },
          "showarrow": false,
          "text": "0.85",
          "x": "Fuel_Price",
          "xref": "x",
          "y": "Year",
          "yref": "y"
         },
         {
          "font": {
           "color": "#FFFFFF"
          },
          "showarrow": false,
          "text": "-0.07",
          "x": "CPI",
          "xref": "x",
          "y": "Year",
          "yref": "y"
         },
         {
          "font": {
           "color": "#FFFFFF"
          },
          "showarrow": false,
          "text": "-0.13",
          "x": "Unemployment",
          "xref": "x",
          "y": "Year",
          "yref": "y"
         },
         {
          "font": {
           "color": "#000000"
          },
          "showarrow": false,
          "text": "1.0",
          "x": "Year",
          "xref": "x",
          "y": "Year",
          "yref": "y"
         },
         {
          "font": {
           "color": "#FFFFFF"
          },
          "showarrow": false,
          "text": "-0.18",
          "x": "Month",
          "xref": "x",
          "y": "Year",
          "yref": "y"
         },
         {
          "font": {
           "color": "#FFFFFF"
          },
          "showarrow": false,
          "text": "-0.07",
          "x": "Day",
          "xref": "x",
          "y": "Year",
          "yref": "y"
         },
         {
          "font": {
           "color": "#FFFFFF"
          },
          "showarrow": false,
          "text": "-0.13",
          "x": "Day_of_week",
          "xref": "x",
          "y": "Year",
          "yref": "y"
         },
         {
          "font": {
           "color": "#FFFFFF"
          },
          "showarrow": false,
          "text": "-0.24",
          "x": "Store",
          "xref": "x",
          "y": "Month",
          "yref": "y"
         },
         {
          "font": {
           "color": "#FFFFFF"
          },
          "showarrow": false,
          "text": "-0.07",
          "x": "Weekly_Sales",
          "xref": "x",
          "y": "Month",
          "yref": "y"
         },
         {
          "font": {
           "color": "#000000"
          },
          "showarrow": false,
          "text": "0.36",
          "x": "Holiday_Flag",
          "xref": "x",
          "y": "Month",
          "yref": "y"
         },
         {
          "font": {
           "color": "#FFFFFF"
          },
          "showarrow": false,
          "text": "0.01",
          "x": "Temperature",
          "xref": "x",
          "y": "Month",
          "yref": "y"
         },
         {
          "font": {
           "color": "#FFFFFF"
          },
          "showarrow": false,
          "text": "-0.24",
          "x": "Fuel_Price",
          "xref": "x",
          "y": "Month",
          "yref": "y"
         },
         {
          "font": {
           "color": "#FFFFFF"
          },
          "showarrow": false,
          "text": "0.21",
          "x": "CPI",
          "xref": "x",
          "y": "Month",
          "yref": "y"
         },
         {
          "font": {
           "color": "#FFFFFF"
          },
          "showarrow": false,
          "text": "-0.2",
          "x": "Unemployment",
          "xref": "x",
          "y": "Month",
          "yref": "y"
         },
         {
          "font": {
           "color": "#FFFFFF"
          },
          "showarrow": false,
          "text": "-0.18",
          "x": "Year",
          "xref": "x",
          "y": "Month",
          "yref": "y"
         },
         {
          "font": {
           "color": "#000000"
          },
          "showarrow": false,
          "text": "1.0",
          "x": "Month",
          "xref": "x",
          "y": "Month",
          "yref": "y"
         },
         {
          "font": {
           "color": "#FFFFFF"
          },
          "showarrow": false,
          "text": "-0.06",
          "x": "Day",
          "xref": "x",
          "y": "Month",
          "yref": "y"
         },
         {
          "font": {
           "color": "#FFFFFF"
          },
          "showarrow": false,
          "text": "-0.39",
          "x": "Day_of_week",
          "xref": "x",
          "y": "Month",
          "yref": "y"
         },
         {
          "font": {
           "color": "#FFFFFF"
          },
          "showarrow": false,
          "text": "0.06",
          "x": "Store",
          "xref": "x",
          "y": "Day",
          "yref": "y"
         },
         {
          "font": {
           "color": "#FFFFFF"
          },
          "showarrow": false,
          "text": "-0.04",
          "x": "Weekly_Sales",
          "xref": "x",
          "y": "Day",
          "yref": "y"
         },
         {
          "font": {
           "color": "#FFFFFF"
          },
          "showarrow": false,
          "text": "-0.13",
          "x": "Holiday_Flag",
          "xref": "x",
          "y": "Day",
          "yref": "y"
         },
         {
          "font": {
           "color": "#FFFFFF"
          },
          "showarrow": false,
          "text": "0.16",
          "x": "Temperature",
          "xref": "x",
          "y": "Day",
          "yref": "y"
         },
         {
          "font": {
           "color": "#FFFFFF"
          },
          "showarrow": false,
          "text": "0.05",
          "x": "Fuel_Price",
          "xref": "x",
          "y": "Day",
          "yref": "y"
         },
         {
          "font": {
           "color": "#FFFFFF"
          },
          "showarrow": false,
          "text": "0.13",
          "x": "CPI",
          "xref": "x",
          "y": "Day",
          "yref": "y"
         },
         {
          "font": {
           "color": "#FFFFFF"
          },
          "showarrow": false,
          "text": "-0.07",
          "x": "Unemployment",
          "xref": "x",
          "y": "Day",
          "yref": "y"
         },
         {
          "font": {
           "color": "#FFFFFF"
          },
          "showarrow": false,
          "text": "-0.07",
          "x": "Year",
          "xref": "x",
          "y": "Day",
          "yref": "y"
         },
         {
          "font": {
           "color": "#FFFFFF"
          },
          "showarrow": false,
          "text": "-0.06",
          "x": "Month",
          "xref": "x",
          "y": "Day",
          "yref": "y"
         },
         {
          "font": {
           "color": "#000000"
          },
          "showarrow": false,
          "text": "1.0",
          "x": "Day",
          "xref": "x",
          "y": "Day",
          "yref": "y"
         },
         {
          "font": {
           "color": "#000000"
          },
          "showarrow": false,
          "text": "0.24",
          "x": "Day_of_week",
          "xref": "x",
          "y": "Day",
          "yref": "y"
         },
         {
          "font": {
           "color": "#FFFFFF"
          },
          "showarrow": false,
          "text": "-0.05",
          "x": "Store",
          "xref": "x",
          "y": "Day_of_week",
          "yref": "y"
         },
         {
          "font": {
           "color": "#FFFFFF"
          },
          "showarrow": false,
          "text": "0.14",
          "x": "Weekly_Sales",
          "xref": "x",
          "y": "Day_of_week",
          "yref": "y"
         },
         {
          "font": {
           "color": "#FFFFFF"
          },
          "showarrow": false,
          "text": "-0.24",
          "x": "Holiday_Flag",
          "xref": "x",
          "y": "Day_of_week",
          "yref": "y"
         },
         {
          "font": {
           "color": "#FFFFFF"
          },
          "showarrow": false,
          "text": "0.19",
          "x": "Temperature",
          "xref": "x",
          "y": "Day_of_week",
          "yref": "y"
         },
         {
          "font": {
           "color": "#FFFFFF"
          },
          "showarrow": false,
          "text": "0.02",
          "x": "Fuel_Price",
          "xref": "x",
          "y": "Day_of_week",
          "yref": "y"
         },
         {
          "font": {
           "color": "#FFFFFF"
          },
          "showarrow": false,
          "text": "0.01",
          "x": "CPI",
          "xref": "x",
          "y": "Day_of_week",
          "yref": "y"
         },
         {
          "font": {
           "color": "#FFFFFF"
          },
          "showarrow": false,
          "text": "-0.02",
          "x": "Unemployment",
          "xref": "x",
          "y": "Day_of_week",
          "yref": "y"
         },
         {
          "font": {
           "color": "#FFFFFF"
          },
          "showarrow": false,
          "text": "-0.13",
          "x": "Year",
          "xref": "x",
          "y": "Day_of_week",
          "yref": "y"
         },
         {
          "font": {
           "color": "#FFFFFF"
          },
          "showarrow": false,
          "text": "-0.39",
          "x": "Month",
          "xref": "x",
          "y": "Day_of_week",
          "yref": "y"
         },
         {
          "font": {
           "color": "#000000"
          },
          "showarrow": false,
          "text": "0.24",
          "x": "Day",
          "xref": "x",
          "y": "Day_of_week",
          "yref": "y"
         },
         {
          "font": {
           "color": "#000000"
          },
          "showarrow": false,
          "text": "1.0",
          "x": "Day_of_week",
          "xref": "x",
          "y": "Day_of_week",
          "yref": "y"
         }
        ],
        "template": {
         "data": {
          "bar": [
           {
            "error_x": {
             "color": "#2a3f5f"
            },
            "error_y": {
             "color": "#2a3f5f"
            },
            "marker": {
             "line": {
              "color": "#E5ECF6",
              "width": 0.5
             },
             "pattern": {
              "fillmode": "overlay",
              "size": 10,
              "solidity": 0.2
             }
            },
            "type": "bar"
           }
          ],
          "barpolar": [
           {
            "marker": {
             "line": {
              "color": "#E5ECF6",
              "width": 0.5
             },
             "pattern": {
              "fillmode": "overlay",
              "size": 10,
              "solidity": 0.2
             }
            },
            "type": "barpolar"
           }
          ],
          "carpet": [
           {
            "aaxis": {
             "endlinecolor": "#2a3f5f",
             "gridcolor": "white",
             "linecolor": "white",
             "minorgridcolor": "white",
             "startlinecolor": "#2a3f5f"
            },
            "baxis": {
             "endlinecolor": "#2a3f5f",
             "gridcolor": "white",
             "linecolor": "white",
             "minorgridcolor": "white",
             "startlinecolor": "#2a3f5f"
            },
            "type": "carpet"
           }
          ],
          "choropleth": [
           {
            "colorbar": {
             "outlinewidth": 0,
             "ticks": ""
            },
            "type": "choropleth"
           }
          ],
          "contour": [
           {
            "colorbar": {
             "outlinewidth": 0,
             "ticks": ""
            },
            "colorscale": [
             [
              0,
              "#0d0887"
             ],
             [
              0.1111111111111111,
              "#46039f"
             ],
             [
              0.2222222222222222,
              "#7201a8"
             ],
             [
              0.3333333333333333,
              "#9c179e"
             ],
             [
              0.4444444444444444,
              "#bd3786"
             ],
             [
              0.5555555555555556,
              "#d8576b"
             ],
             [
              0.6666666666666666,
              "#ed7953"
             ],
             [
              0.7777777777777778,
              "#fb9f3a"
             ],
             [
              0.8888888888888888,
              "#fdca26"
             ],
             [
              1,
              "#f0f921"
             ]
            ],
            "type": "contour"
           }
          ],
          "contourcarpet": [
           {
            "colorbar": {
             "outlinewidth": 0,
             "ticks": ""
            },
            "type": "contourcarpet"
           }
          ],
          "heatmap": [
           {
            "colorbar": {
             "outlinewidth": 0,
             "ticks": ""
            },
            "colorscale": [
             [
              0,
              "#0d0887"
             ],
             [
              0.1111111111111111,
              "#46039f"
             ],
             [
              0.2222222222222222,
              "#7201a8"
             ],
             [
              0.3333333333333333,
              "#9c179e"
             ],
             [
              0.4444444444444444,
              "#bd3786"
             ],
             [
              0.5555555555555556,
              "#d8576b"
             ],
             [
              0.6666666666666666,
              "#ed7953"
             ],
             [
              0.7777777777777778,
              "#fb9f3a"
             ],
             [
              0.8888888888888888,
              "#fdca26"
             ],
             [
              1,
              "#f0f921"
             ]
            ],
            "type": "heatmap"
           }
          ],
          "heatmapgl": [
           {
            "colorbar": {
             "outlinewidth": 0,
             "ticks": ""
            },
            "colorscale": [
             [
              0,
              "#0d0887"
             ],
             [
              0.1111111111111111,
              "#46039f"
             ],
             [
              0.2222222222222222,
              "#7201a8"
             ],
             [
              0.3333333333333333,
              "#9c179e"
             ],
             [
              0.4444444444444444,
              "#bd3786"
             ],
             [
              0.5555555555555556,
              "#d8576b"
             ],
             [
              0.6666666666666666,
              "#ed7953"
             ],
             [
              0.7777777777777778,
              "#fb9f3a"
             ],
             [
              0.8888888888888888,
              "#fdca26"
             ],
             [
              1,
              "#f0f921"
             ]
            ],
            "type": "heatmapgl"
           }
          ],
          "histogram": [
           {
            "marker": {
             "pattern": {
              "fillmode": "overlay",
              "size": 10,
              "solidity": 0.2
             }
            },
            "type": "histogram"
           }
          ],
          "histogram2d": [
           {
            "colorbar": {
             "outlinewidth": 0,
             "ticks": ""
            },
            "colorscale": [
             [
              0,
              "#0d0887"
             ],
             [
              0.1111111111111111,
              "#46039f"
             ],
             [
              0.2222222222222222,
              "#7201a8"
             ],
             [
              0.3333333333333333,
              "#9c179e"
             ],
             [
              0.4444444444444444,
              "#bd3786"
             ],
             [
              0.5555555555555556,
              "#d8576b"
             ],
             [
              0.6666666666666666,
              "#ed7953"
             ],
             [
              0.7777777777777778,
              "#fb9f3a"
             ],
             [
              0.8888888888888888,
              "#fdca26"
             ],
             [
              1,
              "#f0f921"
             ]
            ],
            "type": "histogram2d"
           }
          ],
          "histogram2dcontour": [
           {
            "colorbar": {
             "outlinewidth": 0,
             "ticks": ""
            },
            "colorscale": [
             [
              0,
              "#0d0887"
             ],
             [
              0.1111111111111111,
              "#46039f"
             ],
             [
              0.2222222222222222,
              "#7201a8"
             ],
             [
              0.3333333333333333,
              "#9c179e"
             ],
             [
              0.4444444444444444,
              "#bd3786"
             ],
             [
              0.5555555555555556,
              "#d8576b"
             ],
             [
              0.6666666666666666,
              "#ed7953"
             ],
             [
              0.7777777777777778,
              "#fb9f3a"
             ],
             [
              0.8888888888888888,
              "#fdca26"
             ],
             [
              1,
              "#f0f921"
             ]
            ],
            "type": "histogram2dcontour"
           }
          ],
          "mesh3d": [
           {
            "colorbar": {
             "outlinewidth": 0,
             "ticks": ""
            },
            "type": "mesh3d"
           }
          ],
          "parcoords": [
           {
            "line": {
             "colorbar": {
              "outlinewidth": 0,
              "ticks": ""
             }
            },
            "type": "parcoords"
           }
          ],
          "pie": [
           {
            "automargin": true,
            "type": "pie"
           }
          ],
          "scatter": [
           {
            "fillpattern": {
             "fillmode": "overlay",
             "size": 10,
             "solidity": 0.2
            },
            "type": "scatter"
           }
          ],
          "scatter3d": [
           {
            "line": {
             "colorbar": {
              "outlinewidth": 0,
              "ticks": ""
             }
            },
            "marker": {
             "colorbar": {
              "outlinewidth": 0,
              "ticks": ""
             }
            },
            "type": "scatter3d"
           }
          ],
          "scattercarpet": [
           {
            "marker": {
             "colorbar": {
              "outlinewidth": 0,
              "ticks": ""
             }
            },
            "type": "scattercarpet"
           }
          ],
          "scattergeo": [
           {
            "marker": {
             "colorbar": {
              "outlinewidth": 0,
              "ticks": ""
             }
            },
            "type": "scattergeo"
           }
          ],
          "scattergl": [
           {
            "marker": {
             "colorbar": {
              "outlinewidth": 0,
              "ticks": ""
             }
            },
            "type": "scattergl"
           }
          ],
          "scattermapbox": [
           {
            "marker": {
             "colorbar": {
              "outlinewidth": 0,
              "ticks": ""
             }
            },
            "type": "scattermapbox"
           }
          ],
          "scatterpolar": [
           {
            "marker": {
             "colorbar": {
              "outlinewidth": 0,
              "ticks": ""
             }
            },
            "type": "scatterpolar"
           }
          ],
          "scatterpolargl": [
           {
            "marker": {
             "colorbar": {
              "outlinewidth": 0,
              "ticks": ""
             }
            },
            "type": "scatterpolargl"
           }
          ],
          "scatterternary": [
           {
            "marker": {
             "colorbar": {
              "outlinewidth": 0,
              "ticks": ""
             }
            },
            "type": "scatterternary"
           }
          ],
          "surface": [
           {
            "colorbar": {
             "outlinewidth": 0,
             "ticks": ""
            },
            "colorscale": [
             [
              0,
              "#0d0887"
             ],
             [
              0.1111111111111111,
              "#46039f"
             ],
             [
              0.2222222222222222,
              "#7201a8"
             ],
             [
              0.3333333333333333,
              "#9c179e"
             ],
             [
              0.4444444444444444,
              "#bd3786"
             ],
             [
              0.5555555555555556,
              "#d8576b"
             ],
             [
              0.6666666666666666,
              "#ed7953"
             ],
             [
              0.7777777777777778,
              "#fb9f3a"
             ],
             [
              0.8888888888888888,
              "#fdca26"
             ],
             [
              1,
              "#f0f921"
             ]
            ],
            "type": "surface"
           }
          ],
          "table": [
           {
            "cells": {
             "fill": {
              "color": "#EBF0F8"
             },
             "line": {
              "color": "white"
             }
            },
            "header": {
             "fill": {
              "color": "#C8D4E3"
             },
             "line": {
              "color": "white"
             }
            },
            "type": "table"
           }
          ]
         },
         "layout": {
          "annotationdefaults": {
           "arrowcolor": "#2a3f5f",
           "arrowhead": 0,
           "arrowwidth": 1
          },
          "autotypenumbers": "strict",
          "coloraxis": {
           "colorbar": {
            "outlinewidth": 0,
            "ticks": ""
           }
          },
          "colorscale": {
           "diverging": [
            [
             0,
             "#8e0152"
            ],
            [
             0.1,
             "#c51b7d"
            ],
            [
             0.2,
             "#de77ae"
            ],
            [
             0.3,
             "#f1b6da"
            ],
            [
             0.4,
             "#fde0ef"
            ],
            [
             0.5,
             "#f7f7f7"
            ],
            [
             0.6,
             "#e6f5d0"
            ],
            [
             0.7,
             "#b8e186"
            ],
            [
             0.8,
             "#7fbc41"
            ],
            [
             0.9,
             "#4d9221"
            ],
            [
             1,
             "#276419"
            ]
           ],
           "sequential": [
            [
             0,
             "#0d0887"
            ],
            [
             0.1111111111111111,
             "#46039f"
            ],
            [
             0.2222222222222222,
             "#7201a8"
            ],
            [
             0.3333333333333333,
             "#9c179e"
            ],
            [
             0.4444444444444444,
             "#bd3786"
            ],
            [
             0.5555555555555556,
             "#d8576b"
            ],
            [
             0.6666666666666666,
             "#ed7953"
            ],
            [
             0.7777777777777778,
             "#fb9f3a"
            ],
            [
             0.8888888888888888,
             "#fdca26"
            ],
            [
             1,
             "#f0f921"
            ]
           ],
           "sequentialminus": [
            [
             0,
             "#0d0887"
            ],
            [
             0.1111111111111111,
             "#46039f"
            ],
            [
             0.2222222222222222,
             "#7201a8"
            ],
            [
             0.3333333333333333,
             "#9c179e"
            ],
            [
             0.4444444444444444,
             "#bd3786"
            ],
            [
             0.5555555555555556,
             "#d8576b"
            ],
            [
             0.6666666666666666,
             "#ed7953"
            ],
            [
             0.7777777777777778,
             "#fb9f3a"
            ],
            [
             0.8888888888888888,
             "#fdca26"
            ],
            [
             1,
             "#f0f921"
            ]
           ]
          },
          "colorway": [
           "#636efa",
           "#EF553B",
           "#00cc96",
           "#ab63fa",
           "#FFA15A",
           "#19d3f3",
           "#FF6692",
           "#B6E880",
           "#FF97FF",
           "#FECB52"
          ],
          "font": {
           "color": "#2a3f5f"
          },
          "geo": {
           "bgcolor": "white",
           "lakecolor": "white",
           "landcolor": "#E5ECF6",
           "showlakes": true,
           "showland": true,
           "subunitcolor": "white"
          },
          "hoverlabel": {
           "align": "left"
          },
          "hovermode": "closest",
          "mapbox": {
           "style": "light"
          },
          "paper_bgcolor": "white",
          "plot_bgcolor": "#E5ECF6",
          "polar": {
           "angularaxis": {
            "gridcolor": "white",
            "linecolor": "white",
            "ticks": ""
           },
           "bgcolor": "#E5ECF6",
           "radialaxis": {
            "gridcolor": "white",
            "linecolor": "white",
            "ticks": ""
           }
          },
          "scene": {
           "xaxis": {
            "backgroundcolor": "#E5ECF6",
            "gridcolor": "white",
            "gridwidth": 2,
            "linecolor": "white",
            "showbackground": true,
            "ticks": "",
            "zerolinecolor": "white"
           },
           "yaxis": {
            "backgroundcolor": "#E5ECF6",
            "gridcolor": "white",
            "gridwidth": 2,
            "linecolor": "white",
            "showbackground": true,
            "ticks": "",
            "zerolinecolor": "white"
           },
           "zaxis": {
            "backgroundcolor": "#E5ECF6",
            "gridcolor": "white",
            "gridwidth": 2,
            "linecolor": "white",
            "showbackground": true,
            "ticks": "",
            "zerolinecolor": "white"
           }
          },
          "shapedefaults": {
           "line": {
            "color": "#2a3f5f"
           }
          },
          "ternary": {
           "aaxis": {
            "gridcolor": "white",
            "linecolor": "white",
            "ticks": ""
           },
           "baxis": {
            "gridcolor": "white",
            "linecolor": "white",
            "ticks": ""
           },
           "bgcolor": "#E5ECF6",
           "caxis": {
            "gridcolor": "white",
            "linecolor": "white",
            "ticks": ""
           }
          },
          "title": {
           "x": 0.05
          },
          "xaxis": {
           "automargin": true,
           "gridcolor": "white",
           "linecolor": "white",
           "ticks": "",
           "title": {
            "standoff": 15
           },
           "zerolinecolor": "white",
           "zerolinewidth": 2
          },
          "yaxis": {
           "automargin": true,
           "gridcolor": "white",
           "linecolor": "white",
           "ticks": "",
           "title": {
            "standoff": 15
           },
           "zerolinecolor": "white",
           "zerolinewidth": 2
          }
         }
        },
        "xaxis": {
         "dtick": 1,
         "gridcolor": "rgb(0, 0, 0)",
         "side": "top",
         "ticks": ""
        },
        "yaxis": {
         "dtick": 1,
         "ticks": "",
         "ticksuffix": "  "
        }
       }
      }
     },
     "metadata": {},
     "output_type": "display_data"
    }
   ],
   "source": [
    "fig = px.scatter_matrix(sales)\n",
    "fig.update_layout(\n",
    "        title = go.layout.Title(text = \"Bivariate analysis\", x = 0.5), showlegend = False, \n",
    "            autosize=False, height = 1200, width = 1200)\n",
    "fig.show()\n",
    "\n",
    "corr_matrix = sales.corr().round(2)\n",
    "\n",
    "fig = ff.create_annotated_heatmap(corr_matrix.values,\n",
    "                                  x = corr_matrix.columns.tolist(),\n",
    "                                  y = corr_matrix.index.tolist())\n",
    "fig.show()"
   ]
  },
  {
   "cell_type": "markdown",
   "metadata": {},
   "source": [
    "# PART 2: BASELINE (Linear Regression)"
   ]
  },
  {
   "attachments": {},
   "cell_type": "markdown",
   "metadata": {},
   "source": [
    " **Explanatory variables (X)**\n",
    "We need to identify which columns contain categorical variables and which columns contain numerical variables, as they will be treated differently. Date variables are a bit specific: they could be considered categorical but this would create too many variables after preprocessing (each category becomes a variable, which means each month, each day etc), which might lead to overfitting. We could treat them as numeric but this can lead to several issues and misconceptions: we would loose some important information (is it a weekend, a special month like christmas etc), we might create incorrect mathematical relationships, we would loose the cyclic pattern (january is following december) etc. For those reasons, we will treat date variables specifically.\n",
    "\n",
    " - Categorical variables : Store, Holiday_Flag\n",
    " - Numerical variables : Temperature, Fuel_Price, CPI, Unemployment\n",
    " - Date variables: Year, Month, Day, Day_of_week\n",
    "\n",
    " Machine Learning: We started with only one variable 'Store' which seemed the most important (EDA), the R2 score for test was 0.9356374511310719. When adding all variables we saw that the R2 for train and test were decreasing. So we started over from only 'Store', and added variables one by one, checking every time if the R2 scores were improved or not. We added 'Day', it decreased, so we removed this variable. We added Day_of_week, it increased to 0.936 so we kept it. Adding 'Unemployement' decrease R2, left. 'Fuel_Price increased, kept (0.9391421928101414). CPI increased, kept (0.9435736599012037). Holiday_Flag, Month, Year, Temperature decreased R2, all left. So only 4 variables remain now: Store, Day_of_week, Fuel_Price and CPI."
   ]
  },
  {
   "cell_type": "code",
   "execution_count": 12,
   "metadata": {},
   "outputs": [],
   "source": [
    "# features_list = ['Day_of_week','Day','Month','Year','Unemployment','CPI','Fuel_Price','Temperature','Holiday_Flag','Store']\n",
    "# numeric_indices = [4,5,6,7]\n",
    "# categorical_indices = [8,9]\n",
    "# date_indices = [0,1,2,3]\n",
    "\n",
    "features_list = ['Store','Day_of_week','Fuel_Price','CPI']\n",
    "X = sales.loc[:,features_list]\n",
    "numeric_indices = [2,3]\n",
    "categorical_indices = [0]\n",
    "date_indices = [1]\n",
    "\n",
    "target_variable = \"Weekly_Sales\"\n",
    "Y = sales.loc[:,target_variable]"
   ]
  },
  {
   "cell_type": "code",
   "execution_count": 13,
   "metadata": {},
   "outputs": [
    {
     "name": "stdout",
     "output_type": "stream",
     "text": [
      "Y : \n",
      "0    1572117.54\n",
      "1    1807545.43\n",
      "4    1644470.66\n",
      "6     695396.19\n",
      "7    2203523.20\n",
      "Name: Weekly_Sales, dtype: float64\n",
      "\n",
      "X :\n",
      "   Store  Day_of_week  Fuel_Price         CPI\n",
      "0    6.0          4.0       3.045  214.777523\n",
      "1   13.0          4.0       3.435  128.616064\n",
      "4    6.0          4.0       2.759  212.412888\n",
      "6   15.0          6.0       4.069  134.855161\n",
      "7   20.0          4.0       3.617  213.023622\n",
      "Dividing into train and test sets...\n",
      "...Done.\n",
      "\n"
     ]
    }
   ],
   "source": [
    "print('Y : ')\n",
    "print(Y.head())\n",
    "print()\n",
    "print('X :')\n",
    "print(X.head())\n",
    "\n",
    "# Divide dataset Train set & Test set \n",
    "print(\"Dividing into train and test sets...\")\n",
    "X_train, X_test, Y_train, Y_test = train_test_split(X, Y, test_size=0.2, random_state=0)\n",
    "print(\"...Done.\")\n",
    "print()"
   ]
  },
  {
   "cell_type": "markdown",
   "metadata": {},
   "source": [
    "We still need to do some preprocessing steps."
   ]
  },
  {
   "cell_type": "code",
   "execution_count": 14,
   "metadata": {},
   "outputs": [],
   "source": [
    "# Create pipeline for numeric features\n",
    "numeric_transformer = Pipeline(steps=[\n",
    "    ('imputer', SimpleImputer(strategy='median')),\n",
    "    ('scaler', StandardScaler())\n",
    "])\n",
    "\n",
    "# Create pipeline for categorical features\n",
    "categorical_transformer = Pipeline(\n",
    "    steps=[\n",
    "    ('imputer', SimpleImputer(strategy='most_frequent')),\n",
    "    ('encoder', OneHotEncoder(drop='first',handle_unknown='ignore')) # first column will be dropped to avoid creating correlations between features; handle_unknown in case some categories are not in train and test\n",
    "    ])\n",
    "\n",
    "# Create pipeline for date features\n",
    "date_transformer = Pipeline(\n",
    "    steps=[\n",
    "    ('imputer', SimpleImputer(strategy='most_frequent')), # for dates it makes no sense to choose a median !\n",
    "    ('encoder', OrdinalEncoder(handle_unknown='use_encoded_value', unknown_value=-1))\n",
    "    # It is not great to scale dates, and one-hot-encoder will create too many columns. \n",
    "    # This is more relevant and can be used in our case as our dates are ordered. \n",
    "    ])\n",
    "\n",
    "# Applying pipeline on X variables depending on columns\n",
    "feature_encoder = ColumnTransformer(\n",
    "    transformers=[\n",
    "        ('cat', categorical_transformer, categorical_indices),    \n",
    "        ('num', numeric_transformer, numeric_indices),\n",
    "        ('date',date_transformer, date_indices)\n",
    "        ]\n",
    "    )"
   ]
  },
  {
   "cell_type": "code",
   "execution_count": 15,
   "metadata": {},
   "outputs": [
    {
     "name": "stdout",
     "output_type": "stream",
     "text": [
      "Performing preprocessings on train set...\n",
      "     Store  Day_of_week  Fuel_Price         CPI\n",
      "127   16.0          1.0       2.711  189.523128\n",
      "63     5.0          4.0       3.594  224.019287\n",
      "35    19.0          4.0       3.789  133.958742\n",
      "10     8.0          4.0       3.554  219.070197\n",
      "95     1.0          4.0       2.854  210.337426\n",
      "...Done.\n",
      "  (0, 13)\t1.0\n",
      "  (0, 18)\t-1.2684064129831014\n",
      "  (0, 19)\t0.20507787897090277\n",
      "  (0, 20)\t1.0\n",
      "  (1, 3)\t1.0\n",
      "  (1, 18)\t0.5805882929947872\n",
      "  (1, 19)\t1.092603852656994\n",
      "  (1, 20)\t3.0\n",
      "  (2, 16)\t1.0\n",
      "  (2, 18)\t0.988916682197153\n",
      "  (2, 19)\t-1.2244967736725922\n",
      "  (2, 20)\t3.0\n",
      "  (3, 6)\t1.0\n",
      "  (3, 18)\t0.49682862341481476\n",
      "  (3, 19)\t0.9652723930663473\n",
      "  (3, 20)\t3.0\n",
      "  (4, 18)\t-0.9689655942347007\n",
      "  (4, 19)\t0.740593446601042\n",
      "  (4, 20)\t3.0\n",
      "\n",
      "Performing preprocessings on test set...\n",
      "     Store  Day_of_week  Fuel_Price         CPI\n",
      "4      6.0          4.0       2.759  212.412888\n",
      "20     7.0          3.0       2.725  189.704822\n",
      "82    11.0          NaN       3.510  223.917015\n",
      "61    10.0          4.0       3.882  130.645793\n",
      "104    3.0          4.0       3.346  225.306861\n",
      "...Done.\n",
      "  (0, 4)\t1.0\n",
      "  (0, 18)\t-1.1678948094871355\n",
      "  (0, 19)\t0.7939914584280194\n",
      "  (0, 20)\t3.0\n",
      "  (1, 5)\t1.0\n",
      "  (1, 18)\t-1.2390905286301115\n",
      "  (1, 19)\t0.2097525458588324\n",
      "  (1, 20)\t2.0\n",
      "  (2, 9)\t1.0\n",
      "  (2, 18)\t0.40469298687684513\n",
      "  (2, 19)\t1.0899725726197316\n",
      "  (2, 20)\t3.0\n",
      "  (3, 8)\t1.0\n",
      "  (3, 18)\t1.1836579139705887\n",
      "  (3, 19)\t-1.30973316331895\n",
      "  (3, 20)\t3.0\n",
      "  (4, 1)\t1.0\n",
      "  (4, 18)\t0.061278341598959125\n",
      "  (4, 19)\t1.1257308892745825\n",
      "  (4, 20)\t3.0\n",
      "\n"
     ]
    },
    {
     "name": "stderr",
     "output_type": "stream",
     "text": [
      "c:\\Users\\elodi\\anaconda3\\lib\\site-packages\\sklearn\\impute\\_base.py:49: FutureWarning:\n",
      "\n",
      "Unlike other reduction functions (e.g. `skew`, `kurtosis`), the default behavior of `mode` typically preserves the axis it acts along. In SciPy 1.11.0, this behavior will change: the default value of `keepdims` will become False, the `axis` over which the statistic is taken will be eliminated, and the value None will no longer be accepted. Set `keepdims` to True or False to avoid this warning.\n",
      "\n",
      "c:\\Users\\elodi\\anaconda3\\lib\\site-packages\\sklearn\\impute\\_base.py:49: FutureWarning:\n",
      "\n",
      "Unlike other reduction functions (e.g. `skew`, `kurtosis`), the default behavior of `mode` typically preserves the axis it acts along. In SciPy 1.11.0, this behavior will change: the default value of `keepdims` will become False, the `axis` over which the statistic is taken will be eliminated, and the value None will no longer be accepted. Set `keepdims` to True or False to avoid this warning.\n",
      "\n"
     ]
    }
   ],
   "source": [
    "print(\"Performing preprocessings on train set...\")\n",
    "# X_train_dense = X_train.toarray() # Convert the sparse matrix to a dense NumPy array\n",
    "# print(X_train_dense[:5])\n",
    "print(X_train[:5])\n",
    "X_train_transformed = feature_encoder.fit_transform(X_train)\n",
    "print('...Done.')\n",
    "print(X_train_transformed[:5])\n",
    "print()\n",
    "\n",
    "print(\"Performing preprocessings on test set...\")\n",
    "# X_test_dense = X_test.toarray()\n",
    "# print(X_test_dense[:5])\n",
    "print(X_test[:5])\n",
    "X_test_transformed = feature_encoder.transform(X_test)\n",
    "print('...Done.')\n",
    "print(X_test_transformed[:5])\n",
    "print()"
   ]
  },
  {
   "cell_type": "code",
   "execution_count": 16,
   "metadata": {},
   "outputs": [
    {
     "name": "stdout",
     "output_type": "stream",
     "text": [
      "Preprocessing Y_train and Y_test\n",
      "[[-0.98993504]\n",
      " [-1.45531966]\n",
      " [ 0.01897373]\n",
      " [-0.55561061]\n",
      " [ 0.37112899]]\n",
      "[[ 0.603468  ]\n",
      " [-1.07207572]\n",
      " [ 0.4876803 ]\n",
      " [ 1.13846063]\n",
      " [-1.29115674]]\n"
     ]
    }
   ],
   "source": [
    "# Preprocessing target variable\n",
    "\n",
    "Y_train = Y_train.values.reshape(-1, 1)\n",
    "Y_test = Y_test.values.reshape(-1, 1)\n",
    "\n",
    "scaler = StandardScaler()\n",
    "\n",
    "print(\"Preprocessing Y_train and Y_test\")\n",
    "Y_train_transformed = scaler.fit_transform(Y_train)\n",
    "print(Y_train_transformed[0:5,:])\n",
    "Y_test_transformed = scaler.transform(Y_test)\n",
    "print(Y_test_transformed[0:5,:])"
   ]
  },
  {
   "cell_type": "code",
   "execution_count": 17,
   "metadata": {},
   "outputs": [
    {
     "name": "stdout",
     "output_type": "stream",
     "text": [
      "Train model...\n",
      "...Done.\n",
      "Predictions on training set...\n",
      "...Done.\n",
      "[[-1.01567192]\n",
      " [-1.33785137]\n",
      " [ 0.13586105]\n",
      " [-0.6397106 ]\n",
      " [ 0.44571241]\n",
      " [ 0.53422091]\n",
      " [ 1.21033381]\n",
      " [-0.95432595]\n",
      " [-0.51452134]\n",
      " [-0.24597715]\n",
      " [ 1.3037203 ]\n",
      " [-1.04624834]\n",
      " [ 1.21866653]\n",
      " [-1.01021249]\n",
      " [-1.1431325 ]\n",
      " [-0.65642889]\n",
      " [-0.92171279]\n",
      " [ 0.54107409]\n",
      " [-1.56603347]\n",
      " [-1.12906202]\n",
      " [ 0.87973031]\n",
      " [ 1.20060398]\n",
      " [-0.20944911]\n",
      " [ 0.18205188]\n",
      " [ 1.24102412]\n",
      " [ 1.14772845]\n",
      " [-1.28850592]\n",
      " [ 1.30879612]\n",
      " [-0.49195078]\n",
      " [ 0.53353466]\n",
      " [ 1.15143184]\n",
      " [ 0.56393403]\n",
      " [ 0.52247849]\n",
      " [ 0.93385096]\n",
      " [-1.38130871]\n",
      " [-1.18196815]\n",
      " [-0.66099365]\n",
      " [ 0.25650284]\n",
      " [ 1.12924855]\n",
      " [ 1.18288604]\n",
      " [-1.16491807]\n",
      " [ 1.1755843 ]\n",
      " [ 0.33895525]\n",
      " [-1.29365306]\n",
      " [-1.60560977]\n",
      " [-1.13662072]\n",
      " [-1.24082904]\n",
      " [ 0.97947504]\n",
      " [ 1.17583434]\n",
      " [-1.2242442 ]\n",
      " [ 1.26919142]\n",
      " [ 1.08847869]\n",
      " [-0.6252962 ]\n",
      " [ 0.40816118]\n",
      " [-1.16062764]\n",
      " [-1.40782519]\n",
      " [ 0.82869593]\n",
      " [-1.34598635]\n",
      " [-0.52193068]\n",
      " [ 1.47437419]\n",
      " [ 0.79089416]\n",
      " [-0.16555537]\n",
      " [ 0.77788848]\n",
      " [ 1.13200759]\n",
      " [-0.94310062]\n",
      " [ 0.82181272]\n",
      " [ 0.51617388]\n",
      " [-1.29192151]\n",
      " [ 0.30687076]\n",
      " [-0.31106734]\n",
      " [ 1.31917214]\n",
      " [ 0.80728948]]\n",
      "\n",
      "Predictions on test set...\n",
      "...Done.\n",
      "[[ 0.54099895]\n",
      " [-1.06046722]\n",
      " [ 0.82121681]\n",
      " [ 0.75371474]\n",
      " [-1.207686  ]\n",
      " [-1.42211666]\n",
      " [-0.09619394]\n",
      " [ 1.4432791 ]\n",
      " [ 1.17067729]\n",
      " [ 0.14705696]\n",
      " [-0.15514795]\n",
      " [-0.29542473]\n",
      " [-1.10308942]\n",
      " [-1.31014286]\n",
      " [-1.25136033]\n",
      " [ 0.28031814]\n",
      " [ 1.32032605]\n",
      " [-1.22870403]]\n",
      "\n"
     ]
    }
   ],
   "source": [
    "# Train model\n",
    "print(\"Train model...\")\n",
    "regressor = LinearRegression() # The target being numerical, we use linear regression.\n",
    "regressor.fit(X_train_transformed, Y_train_transformed)\n",
    "print(\"...Done.\")\n",
    "\n",
    "# Predictions on training set\n",
    "print(\"Predictions on training set...\")\n",
    "Y_train_pred = regressor.predict(X_train_transformed)\n",
    "print(\"...Done.\")\n",
    "print(Y_train_pred)\n",
    "print()\n",
    "\n",
    "# Predictions on test set\n",
    "print(\"Predictions on test set...\")\n",
    "Y_test_pred = regressor.predict(X_test_transformed)\n",
    "print(\"...Done.\")\n",
    "print(Y_test_pred)\n",
    "print()\n",
    "\n",
    "# R^2 scores\n",
    "r2_train = r2_score(Y_train_transformed, Y_train_pred)\n",
    "r2_test = r2_score(Y_test_transformed, Y_test_pred)"
   ]
  },
  {
   "cell_type": "code",
   "execution_count": 18,
   "metadata": {},
   "outputs": [
    {
     "name": "stdout",
     "output_type": "stream",
     "text": [
      "r2_train:  0.9817952834289124\n",
      "r2_test:  0.9435736599012037\n",
      "Cross-validated accuracy : 0.9601955116174439\n",
      "standard deviation : 0.022671665477082287\n"
     ]
    }
   ],
   "source": [
    "print(\"r2_train: \", r2_train)\n",
    "print(\"r2_test: \", r2_test)\n",
    "scores = cross_val_score(regressor,X_train_transformed, Y_train_transformed, cv=10)\n",
    "avg = scores.mean()\n",
    "std = scores.std()\n",
    "print('Cross-validated accuracy : {}\\nstandard deviation : {}'.format(avg, std))"
   ]
  },
  {
   "cell_type": "code",
   "execution_count": 19,
   "metadata": {},
   "outputs": [],
   "source": [
    "#  Create the variable \"results\" where we will store all data from nowon.\n",
    "\n",
    "results = [{\n",
    "    'Model': \"Linear Regression\",\n",
    "    'R2 Train Score': r2_train,\n",
    "    'R2 Test Score': avg,\n",
    "}]"
   ]
  },
  {
   "cell_type": "markdown",
   "metadata": {},
   "source": [
    "The final R2 score for test after cross validation is of 0.96 plus or minus 0.02. We reach quite high R2 scores for train and test already (train is 0.98). However, we have some overfitting as the train is higher than the test. \n",
    "\n",
    "Now let's check features importance. On the graph below, we see the high importance of many stores. Maybe some stores are located at some places much easier to reach than others, for example where a lot of metro lines are crossing or in an area where a lot of business companies are located so people can go after work easily. And that would explain more than anything else the weekly sales."
   ]
  },
  {
   "cell_type": "code",
   "execution_count": 24,
   "metadata": {},
   "outputs": [
    {
     "data": {
      "image/png": "[encoded data removed]",
      "text/plain": [
       "<Figure size 1000x600 with 1 Axes>"
      ]
     },
     "metadata": {},
     "output_type": "display_data"
    }
   ],
   "source": [
    "# Data before preprocessing\n",
    "all_features_df = pd.concat([X_train, X_test], ignore_index=True)\n",
    "\n",
    "# Column names after preprocessing\n",
    "num_names = all_features_df.columns[numeric_indices].tolist()\n",
    "date_names = all_features_df.columns[date_indices].tolist()\n",
    "categorical_encoder = feature_encoder.named_transformers_['cat']['encoder'] # for categorical we need to decode\n",
    "cat_names = categorical_encoder.get_feature_names_out(input_features=all_features_df.columns[categorical_indices])\n",
    "all_feature_names = list(cat_names) + num_names + date_names # now we have each category of each variable names\n",
    "\n",
    "# Combine the feature names and coefficients into a DataFrame\n",
    "coefs = pd.DataFrame(index=all_feature_names, data=regressor.coef_.flatten(), columns=[\"coefficients\"])\n",
    "coefs_sorted = coefs.reindex(coefs['coefficients'].abs().sort_values(ascending=False).index)\n",
    "\n",
    "# Plot the coefficients\n",
    "plt.figure(figsize=(10, 6))\n",
    "plt.barh(np.arange(len(coefs_sorted)), coefs_sorted['coefficients'], color='blue')\n",
    "plt.yticks(np.arange(len(coefs_sorted)), coefs_sorted.index)\n",
    "plt.xlabel('Coefficient Value')\n",
    "plt.ylabel('Feature Names')\n",
    "plt.title('Sorted Coefficients')\n",
    "plt.xticks(rotation=45, ha='right')\n",
    "plt.tight_layout()\n",
    "plt.show()"
   ]
  },
  {
   "attachments": {},
   "cell_type": "markdown",
   "metadata": {},
   "source": [
    "# PART 3: REDUCTION OF OVERFITTING"
   ]
  },
  {
   "cell_type": "markdown",
   "metadata": {},
   "source": [
    "Ridge and Lasso are two methods that are used to regularize a linear regression and avoid overfitting, by adding a penalty term to the regression equation. In Ridge, the penalty is proportional to the square of the coefficients' magnitudes to the loss function, it prevents them from getting to high (it reduces them but not to zero). In Lasso, the penalty is proportional to the absolute values of the coefficients. It forces some coefficients to become zero, leading to features selection. Let's do a gridsearch for each method in order to find the best hyperparameters and see how we improve our baseline linear regression."
   ]
  },
  {
   "cell_type": "code",
   "execution_count": 25,
   "metadata": {},
   "outputs": [],
   "source": [
    "models = {\n",
    "    'Ridge': {\n",
    "        'model': Ridge(),\n",
    "        'params': {\n",
    "            'alpha': [0.00001, 0.00005, 0.0001, 0.0005, 0.001,  0.005, 0.01, 0.1, 1.0, 10, 100],\n",
    "            'solver': ['auto', 'svd', 'cholesky', 'lsqr', 'sparse_cg', 'sag', 'saga'],\n",
    "            'max_iter': [100, 200, 500, 1000, 5000],\n",
    "            'tol': [1e-3, 1e-4, 1e-5]\n",
    "        }\n",
    "    },\n",
    "    'Lasso': {\n",
    "        'model': Lasso(),\n",
    "        'params': {\n",
    "            'alpha': [0.00001, 0.00005, 0.0001, 0.0005, 0.001, 0.005, 0.01, 0.1, 1.0, 10, 100],\n",
    "            'selection': ['cyclic', 'random'],\n",
    "            'max_iter': [100, 200, 500, 1000, 5000],\n",
    "            'tol': [1e-3, 1e-4, 1e-5]\n",
    "        }\n",
    "    }\n",
    "}"
   ]
  },
  {
   "cell_type": "code",
   "execution_count": null,
   "metadata": {},
   "outputs": [],
   "source": [
    "for name, model_info in models.items():\n",
    "    model = model_info['model']\n",
    "    params = model_info['params']\n",
    "    \n",
    "    grid_search = GridSearchCV(model, params, cv=10, scoring='r2')\n",
    "    grid_search.fit(X_train_transformed, Y_train_transformed)\n",
    "    best_params = grid_search.best_params_\n",
    "    best_model = grid_search.best_estimator_\n",
    "    \n",
    "    # Predictions\n",
    "    Y_train_pred = best_model.predict(X_train_transformed)\n",
    "    Y_test_pred = best_model.predict(X_test_transformed)\n",
    "    \n",
    "    # Metrics\n",
    "    r2_train = r2_score(Y_train_transformed, Y_train_pred)\n",
    "    r2_test = r2_score(Y_test_transformed, Y_test_pred)\n",
    "    mae_test = mean_absolute_error(Y_test_transformed, Y_test_pred)\n",
    "    mse_test = mean_squared_error(Y_test_transformed, Y_test_pred)\n",
    "    rmse_test = np.sqrt(mse_test)\n",
    "\n",
    "    results.append({\n",
    "        'Model': name,\n",
    "        'Alpha': best_params['alpha'],\n",
    "        'R2 Train Score': r2_train,\n",
    "        'R2 Test Score': r2_test,\n",
    "        'MAE Test': mae_test,\n",
    "        'MSE Test': mse_test,\n",
    "        'RMSE Test': rmse_test,\n",
    "    })\n"
   ]
  },
  {
   "cell_type": "code",
   "execution_count": 27,
   "metadata": {},
   "outputs": [
    {
     "name": "stdout",
     "output_type": "stream",
     "text": [
      "               Model  R2 Train Score  R2 Test Score    Alpha  MAE Test  \\\n",
      "0  Linear Regression        0.981795       0.960196      NaN       NaN   \n",
      "1              Ridge        0.981794       0.943547  0.00010  0.160666   \n",
      "2              Lasso        0.981782       0.943451  0.00001  0.160673   \n",
      "\n",
      "   MSE Test  RMSE Test  \n",
      "0       NaN        NaN  \n",
      "1  0.068101   0.260963  \n",
      "2  0.068217   0.261183  \n"
     ]
    }
   ],
   "source": [
    "results_df = pd.DataFrame(results)\n",
    "print(results_df)"
   ]
  },
  {
   "cell_type": "markdown",
   "metadata": {},
   "source": [
    "Here we see that the gridsearch selects for Ridge and Lasso always the smallest alpha (here 0.00001 was the smallest tried). This means that the penalty created by the regularization is minimized a lot, it is almost as if we did not do any regularization. And still, r2 scores for the test are not as good as the baseline linear regression (0.94 whereas no regularization has 0.96), while r2 scores for the train remains the same (0.98). So regularization is definitely not helping here, and the best results obtained are still with a simple linear regression. This might be linked to the fact that we already selected the 4 best features in the beginning."
   ]
  }
 ],
 "metadata": {
  "kernelspec": {
   "display_name": "Python 3",
   "language": "python",
   "name": "python3"
  },
  "language_info": {
   "codemirror_mode": {
    "name": "ipython",
    "version": 3
   },
   "file_extension": ".py",
   "mimetype": "text/x-python",
   "name": "python",
   "nbconvert_exporter": "python",
   "pygments_lexer": "ipython3",
   "version": "3.9.13"
  }
 },
 "nbformat": 4,
 "nbformat_minor": 4
}
